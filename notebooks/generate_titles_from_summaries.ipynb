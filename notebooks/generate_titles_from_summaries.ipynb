{
 "cells": [
  {
   "cell_type": "code",
   "execution_count": 1,
   "metadata": {
    "collapsed": true
   },
   "outputs": [],
   "source": [
    "from transformers import pipeline, set_seed\n",
    "from transformers import AutoTokenizer, AutoModelForSeq2SeqLM\n",
    "import pandas as pd\n",
    "from tqdm import tqdm\n",
    "import torch"
   ]
  },
  {
   "cell_type": "code",
   "execution_count": 2,
   "outputs": [],
   "source": [
    "tokenizer = AutoTokenizer.from_pretrained(\"bigscience/T0_3B\")\n",
    "model = AutoModelForSeq2SeqLM.from_pretrained(\"bigscience/T0_3B\")"
   ],
   "metadata": {
    "collapsed": false
   }
  },
  {
   "cell_type": "markdown",
   "source": [
    "Maybe helpful if you use CUDA 11.3\n",
    "```shell\n",
    "pip install torch==1.12.1+cu113 torchvision==0.13.1+cu113 torchaudio==0.12.1 --extra-index-url https://download.pytorch.org/whl/cu113\n",
    "```\n",
    "More versions: https://pytorch.org/get-started/previous-versions/"
   ],
   "metadata": {
    "collapsed": false
   }
  },
  {
   "cell_type": "code",
   "execution_count": 3,
   "outputs": [
    {
     "name": "stdout",
     "output_type": "stream",
     "text": [
      "cpu\n"
     ]
    }
   ],
   "source": [
    "device = 'cpu'\n",
    "# device = 'cuda:0' if torch.cuda.is_available() else 'cpu'\n",
    "print(device)\n",
    "model = model.to(device)"
   ],
   "metadata": {
    "collapsed": false
   }
  },
  {
   "cell_type": "markdown",
   "source": [
    "Change the summaries here"
   ],
   "metadata": {
    "collapsed": false
   }
  },
  {
   "cell_type": "code",
   "execution_count": 8,
   "outputs": [
    {
     "data": {
      "text/plain": "      id                                             title  \\\n0      0    NVIDIA's Image Restoration AI: Almost Perfect!   \n1      1         NVIDIA's AI Makes Amazing Slow-Mo Videos!   \n2      2                   DeepMind's AI Takes An IQ Test!   \n3      3  DeepMind Has A Superhuman Level Quake 3 AI Team!   \n4      4             This is How You Hack A Neural Network   \n..   ...                                               ...   \n633  633             Google’s Video AI: Outrageously Good!   \n634  634            NVIDIA’s Amazing AI Clones Your Voice!   \n635  635      Ubisoft’s New AI: Breathing Life Into Games!   \n636  636       OpenAI’s New AI: Video Game Addict No More!   \n637  637            NVIDIA’s New AI: Generating 3D Models!   \n\n                                               summary  \n0    Károly Zsolnai-Fehér talks about image denoisi...  \n1    Károly Zsolnai-Fehér shows you how to fill in ...  \n2    Károly Zsolnai-Fehér is the co-founder of Deep...  \n3    Károly Zsolnai-Fehér looks at an AI that beats...  \n4    Károly Zsolnai-Fehér: A new piece of work on h...  \n..                                                 ...  \n633  Two Minute Papers with Dr. Károly Zsolnai-Fehé...  \n634  Dr. Károly Zsolnai-Fehér shows you how to clon...  \n635  Károly Zsolnai-Fehér: AI-based techniques can ...  \n636  Károly Zsolnai-Fehér uses OpenAI’s new languag...  \n637  Two Minute Papers with Dr. Károly Zsolnai-Fehé...  \n\n[638 rows x 3 columns]",
      "text/html": "<div>\n<style scoped>\n    .dataframe tbody tr th:only-of-type {\n        vertical-align: middle;\n    }\n\n    .dataframe tbody tr th {\n        vertical-align: top;\n    }\n\n    .dataframe thead th {\n        text-align: right;\n    }\n</style>\n<table border=\"1\" class=\"dataframe\">\n  <thead>\n    <tr style=\"text-align: right;\">\n      <th></th>\n      <th>id</th>\n      <th>title</th>\n      <th>summary</th>\n    </tr>\n  </thead>\n  <tbody>\n    <tr>\n      <th>0</th>\n      <td>0</td>\n      <td>NVIDIA's Image Restoration AI: Almost Perfect!</td>\n      <td>Károly Zsolnai-Fehér talks about image denoisi...</td>\n    </tr>\n    <tr>\n      <th>1</th>\n      <td>1</td>\n      <td>NVIDIA's AI Makes Amazing Slow-Mo Videos!</td>\n      <td>Károly Zsolnai-Fehér shows you how to fill in ...</td>\n    </tr>\n    <tr>\n      <th>2</th>\n      <td>2</td>\n      <td>DeepMind's AI Takes An IQ Test!</td>\n      <td>Károly Zsolnai-Fehér is the co-founder of Deep...</td>\n    </tr>\n    <tr>\n      <th>3</th>\n      <td>3</td>\n      <td>DeepMind Has A Superhuman Level Quake 3 AI Team!</td>\n      <td>Károly Zsolnai-Fehér looks at an AI that beats...</td>\n    </tr>\n    <tr>\n      <th>4</th>\n      <td>4</td>\n      <td>This is How You Hack A Neural Network</td>\n      <td>Károly Zsolnai-Fehér: A new piece of work on h...</td>\n    </tr>\n    <tr>\n      <th>...</th>\n      <td>...</td>\n      <td>...</td>\n      <td>...</td>\n    </tr>\n    <tr>\n      <th>633</th>\n      <td>633</td>\n      <td>Google’s Video AI: Outrageously Good!</td>\n      <td>Two Minute Papers with Dr. Károly Zsolnai-Fehé...</td>\n    </tr>\n    <tr>\n      <th>634</th>\n      <td>634</td>\n      <td>NVIDIA’s Amazing AI Clones Your Voice!</td>\n      <td>Dr. Károly Zsolnai-Fehér shows you how to clon...</td>\n    </tr>\n    <tr>\n      <th>635</th>\n      <td>635</td>\n      <td>Ubisoft’s New AI: Breathing Life Into Games!</td>\n      <td>Károly Zsolnai-Fehér: AI-based techniques can ...</td>\n    </tr>\n    <tr>\n      <th>636</th>\n      <td>636</td>\n      <td>OpenAI’s New AI: Video Game Addict No More!</td>\n      <td>Károly Zsolnai-Fehér uses OpenAI’s new languag...</td>\n    </tr>\n    <tr>\n      <th>637</th>\n      <td>637</td>\n      <td>NVIDIA’s New AI: Generating 3D Models!</td>\n      <td>Two Minute Papers with Dr. Károly Zsolnai-Fehé...</td>\n    </tr>\n  </tbody>\n</table>\n<p>638 rows × 3 columns</p>\n</div>"
     },
     "execution_count": 8,
     "metadata": {},
     "output_type": "execute_result"
    }
   ],
   "source": [
    "summaries = pd.read_csv('../data/datasets/summary_title_two_minute_papers/two_minute_papers_all_title_summary.csv')\n",
    "summaries"
   ],
   "metadata": {
    "collapsed": false
   }
  },
  {
   "cell_type": "code",
   "execution_count": 9,
   "outputs": [
    {
     "name": "stderr",
     "output_type": "stream",
     "text": [
      "  0%|          | 1/638 [00:27<4:51:22, 27.44s/it]"
     ]
    },
    {
     "name": "stdout",
     "output_type": "stream",
     "text": [
      "The idea behind this week's Two Minute Paper is to train a neural network without clear images and use only noisy data.\n"
     ]
    },
    {
     "name": "stderr",
     "output_type": "stream",
     "text": [
      "  0%|          | 2/638 [00:46<3:56:20, 22.30s/it]"
     ]
    },
    {
     "name": "stdout",
     "output_type": "stream",
     "text": [
      "The latest episode of CNN's Two Minute Papers is out now!\n"
     ]
    },
    {
     "name": "stderr",
     "output_type": "stream",
     "text": [
      "  0%|          | 3/638 [01:12<4:17:58, 24.38s/it]"
     ]
    },
    {
     "name": "stdout",
     "output_type": "stream",
     "text": [
      "The BBC's Technology correspondent Károly Zsolnai-Fehér is back with another edition of his Two Minute Papers series.\n"
     ]
    },
    {
     "name": "stderr",
     "output_type": "stream",
     "text": [
      "  1%|          | 4/638 [01:42<4:39:55, 26.49s/it]"
     ]
    },
    {
     "name": "stdout",
     "output_type": "stream",
     "text": [
      "The AI that beats Capture The Flag in Quake 3 has been trained by looking at the video output of the game and has never been told anything about the game or what the rules are.\n"
     ]
    },
    {
     "name": "stderr",
     "output_type": "stream",
     "text": [
      "  1%|          | 5/638 [02:01<4:10:44, 23.77s/it]"
     ]
    },
    {
     "name": "stdout",
     "output_type": "stream",
     "text": [
      "Theme: Artificial Intelligence and Machine Learning\n"
     ]
    },
    {
     "name": "stderr",
     "output_type": "stream",
     "text": [
      "  1%|          | 6/638 [02:31<4:33:49, 26.00s/it]"
     ]
    },
    {
     "name": "stdout",
     "output_type": "stream",
     "text": [
      "A Hungarian composer has created a piece of music using an artificial intelligence system.\n"
     ]
    },
    {
     "name": "stderr",
     "output_type": "stream",
     "text": [
      "  1%|          | 7/638 [03:09<5:13:17, 29.79s/it]"
     ]
    },
    {
     "name": "stdout",
     "output_type": "stream",
     "text": [
      "The AI that beat some of the best players of DOTA 2 has been playing against itself for 10 months now, and it's getting better and better.\n"
     ]
    },
    {
     "name": "stderr",
     "output_type": "stream",
     "text": [
      "  1%|▏         | 8/638 [03:37<5:07:20, 29.27s/it]"
     ]
    },
    {
     "name": "stdout",
     "output_type": "stream",
     "text": [
      "The future of work is here, and it's all about video games.\n"
     ]
    },
    {
     "name": "stderr",
     "output_type": "stream",
     "text": [
      "  1%|▏         | 9/638 [04:10<5:18:31, 30.38s/it]"
     ]
    },
    {
     "name": "stdout",
     "output_type": "stream",
     "text": [
      "Károly Zsolnai-Fehér is a PhD student at the University of Southern California.\n"
     ]
    },
    {
     "name": "stderr",
     "output_type": "stream",
     "text": [
      "  2%|▏         | 10/638 [04:32<4:50:54, 27.79s/it]"
     ]
    },
    {
     "name": "stdout",
     "output_type": "stream",
     "text": [
      "The latest episode of the Two Minute Papers series is out now.\n"
     ]
    },
    {
     "name": "stderr",
     "output_type": "stream",
     "text": [
      "  2%|▏         | 11/638 [05:02<4:57:21, 28.46s/it]"
     ]
    },
    {
     "name": "stdout",
     "output_type": "stream",
     "text": [
      "The BBC has a video of a paper that describes a new way of interacting with virtual reality.\n"
     ]
    },
    {
     "name": "stderr",
     "output_type": "stream",
     "text": [
      "  2%|▏         | 12/638 [05:31<5:00:04, 28.76s/it]"
     ]
    },
    {
     "name": "stdout",
     "output_type": "stream",
     "text": [
      "A new type of algorithm that can detect forged images is being developed by researchers at the University of California, Berkeley.\n"
     ]
    },
    {
     "name": "stderr",
     "output_type": "stream",
     "text": [
      "  2%|▏         | 13/638 [06:04<5:10:31, 29.81s/it]"
     ]
    },
    {
     "name": "stdout",
     "output_type": "stream",
     "text": [
      "The physicist who discovered the Higgs boson has been talking to MailOnline about his research into the physics of light.\n"
     ]
    },
    {
     "name": "stderr",
     "output_type": "stream",
     "text": [
      "  2%|▏         | 14/638 [06:33<5:08:48, 29.69s/it]"
     ]
    },
    {
     "name": "stdout",
     "output_type": "stream",
     "text": [
      "If you've ever wondered how to tell a fake from a real video, you're not alone.\n"
     ]
    },
    {
     "name": "stderr",
     "output_type": "stream",
     "text": [
      "  2%|▏         | 15/638 [07:09<5:27:30, 31.54s/it]"
     ]
    },
    {
     "name": "stdout",
     "output_type": "stream",
     "text": [
      "The Two Minute Papers is back with a new episode, this time focusing on the latest research in computer science.\n"
     ]
    },
    {
     "name": "stderr",
     "output_type": "stream",
     "text": [
      "  3%|▎         | 16/638 [07:36<5:14:30, 30.34s/it]"
     ]
    },
    {
     "name": "stdout",
     "output_type": "stream",
     "text": [
      "Károly Zsolfai-Fehér: The Future of AI is here!\n"
     ]
    },
    {
     "name": "stderr",
     "output_type": "stream",
     "text": [
      "  3%|▎         | 17/638 [08:24<6:06:16, 35.39s/it]"
     ]
    },
    {
     "name": "stdout",
     "output_type": "stream",
     "text": [
      "Károly Zsolnai-Fehér is a computer scientist at the University of California, Berkeley. He is the author of two books on artificial intelligence, and he is the co-founder of the AI-\n"
     ]
    },
    {
     "name": "stderr",
     "output_type": "stream",
     "text": [
      "  3%|▎         | 18/638 [08:54<5:51:30, 34.02s/it]"
     ]
    },
    {
     "name": "stdout",
     "output_type": "stream",
     "text": [
      "This week, we're looking at a new AI-based approach to image inpainting.\n"
     ]
    },
    {
     "name": "stderr",
     "output_type": "stream",
     "text": [
      "  3%|▎         | 19/638 [09:43<6:37:17, 38.51s/it]"
     ]
    },
    {
     "name": "stdout",
     "output_type": "stream",
     "text": [
      "Károly Zsolnai-Fehér: I'm a professor of computer science at the University of Szeged in Hungary. Today, I'm going to show you a new technique that allows you\n"
     ]
    },
    {
     "name": "stderr",
     "output_type": "stream",
     "text": [
      "  3%|▎         | 20/638 [10:15<6:15:07, 36.42s/it]"
     ]
    },
    {
     "name": "stdout",
     "output_type": "stream",
     "text": [
      "Károly Zsolnai-Fehér is a PhD student at the University of California, Berkeley.\n"
     ]
    },
    {
     "name": "stderr",
     "output_type": "stream",
     "text": [
      "  3%|▎         | 21/638 [10:56<6:28:31, 37.78s/it]"
     ]
    },
    {
     "name": "stdout",
     "output_type": "stream",
     "text": [
      "Károly Zsolnai-Fehér is a PhD student at the University of California, Berkeley, where he is working on a new AI technique for texture synthesis.\n"
     ]
    },
    {
     "name": "stderr",
     "output_type": "stream",
     "text": [
      "  3%|▎         | 22/638 [11:16<5:32:18, 32.37s/it]"
     ]
    },
    {
     "name": "stdout",
     "output_type": "stream",
     "text": [
      "The MIT Press has published a paper by a computer scientist that teaches an AI to recognize materials.\n"
     ]
    },
    {
     "name": "stderr",
     "output_type": "stream",
     "text": [
      "  4%|▎         | 23/638 [11:33<4:46:53, 27.99s/it]"
     ]
    },
    {
     "name": "stdout",
     "output_type": "stream",
     "text": [
      "The future of AI is here, and it's not going to be a happy one.\n"
     ]
    },
    {
     "name": "stderr",
     "output_type": "stream",
     "text": [
      "  4%|▍         | 24/638 [11:57<4:31:17, 26.51s/it]"
     ]
    },
    {
     "name": "stdout",
     "output_type": "stream",
     "text": [
      "A computer scientist has created a scrolling animation of a painting that looks like it has been painted by a real artist.\n"
     ]
    },
    {
     "name": "stderr",
     "output_type": "stream",
     "text": [
      "  4%|▍         | 25/638 [12:16<4:09:42, 24.44s/it]"
     ]
    },
    {
     "name": "stdout",
     "output_type": "stream",
     "text": [
      "The Open University has published a paper that explains how humans make decisions about how similar two images are.\n"
     ]
    },
    {
     "name": "stderr",
     "output_type": "stream",
     "text": [
      "  4%|▍         | 26/638 [12:45<4:22:43, 25.76s/it]"
     ]
    },
    {
     "name": "stdout",
     "output_type": "stream",
     "text": [
      "The DeepMind Deep Learning system is a great tool for learning how to play games, but it's not so great at dreaming up new strategies.\n"
     ]
    },
    {
     "name": "stderr",
     "output_type": "stream",
     "text": [
      "  4%|▍         | 27/638 [13:10<4:21:00, 25.63s/it]"
     ]
    },
    {
     "name": "stdout",
     "output_type": "stream",
     "text": [
      "The robot that surprised us in the previous episode of Two Minute Papers can now walk on its back and use its elbows.\n"
     ]
    },
    {
     "name": "stderr",
     "output_type": "stream",
     "text": [
      "  4%|▍         | 28/638 [13:31<4:06:50, 24.28s/it]"
     ]
    },
    {
     "name": "stdout",
     "output_type": "stream",
     "text": [
      "The next Two Minute Papers will be on the topic of machine learning and artificial intelligence.\n"
     ]
    },
    {
     "name": "stderr",
     "output_type": "stream",
     "text": [
      "  5%|▍         | 29/638 [13:50<3:48:29, 22.51s/it]"
     ]
    },
    {
     "name": "stdout",
     "output_type": "stream",
     "text": [
      "The BBC has been talking to a computer scientist about how we can use artificial intelligence to translate images.\n"
     ]
    },
    {
     "name": "stderr",
     "output_type": "stream",
     "text": [
      "  5%|▍         | 30/638 [14:17<4:01:43, 23.85s/it]"
     ]
    },
    {
     "name": "stdout",
     "output_type": "stream",
     "text": [
      "Four experiments where AI researchers were baffled by the creativity and unexpected actions of their own creations have been revealed in a paper published in the journal Nature.\n"
     ]
    },
    {
     "name": "stderr",
     "output_type": "stream",
     "text": [
      "  5%|▍         | 31/638 [14:37<3:51:07, 22.85s/it]"
     ]
    },
    {
     "name": "stdout",
     "output_type": "stream",
     "text": [
      "The next generation of computer graphics could be a step closer to reality thanks to a new system developed by researchers at Cardiff University.\n"
     ]
    },
    {
     "name": "stderr",
     "output_type": "stream",
     "text": [
      "  5%|▌         | 32/638 [14:58<3:43:08, 22.09s/it]"
     ]
    },
    {
     "name": "stdout",
     "output_type": "stream",
     "text": [
      "Imagine a world where you could take a photograph of a bedroom and turn it into a digital version of that bedroom.\n"
     ]
    },
    {
     "name": "stderr",
     "output_type": "stream",
     "text": [
      "  5%|▌         | 33/638 [15:16<3:32:58, 21.12s/it]"
     ]
    },
    {
     "name": "stdout",
     "output_type": "stream",
     "text": [
      "The latest episode of the Deep Learning podcast is out, and it's all about neural networks.\n"
     ]
    },
    {
     "name": "stderr",
     "output_type": "stream",
     "text": [
      "  5%|▌         | 34/638 [15:43<3:49:26, 22.79s/it]"
     ]
    },
    {
     "name": "stdout",
     "output_type": "stream",
     "text": [
      "Károly Zsolnai-Fehér is the host of Two Minute Papers, a weekly, off-beat look at the latest in AI and robotics.\n"
     ]
    },
    {
     "name": "stderr",
     "output_type": "stream",
     "text": [
      "  5%|▌         | 35/638 [16:17<4:21:06, 25.98s/it]"
     ]
    },
    {
     "name": "stdout",
     "output_type": "stream",
     "text": [
      "Reinforcement learning is a technique that enables us to train an AI to master a large variety of video games and has many more cool applications, says Károly Zsolnai-Fehér, a\n"
     ]
    },
    {
     "name": "stderr",
     "output_type": "stream",
     "text": [
      "  6%|▌         | 36/638 [16:34<3:55:14, 23.45s/it]"
     ]
    },
    {
     "name": "stdout",
     "output_type": "stream",
     "text": [
      "The final episode of our Two Minute Papers series is out now.\n"
     ]
    },
    {
     "name": "stderr",
     "output_type": "stream",
     "text": [
      "  6%|▌         | 37/638 [17:02<4:06:43, 24.63s/it]"
     ]
    },
    {
     "name": "stdout",
     "output_type": "stream",
     "text": [
      "The Two Minute Papers with Károly Zsoltai-Fehér is back!\n"
     ]
    },
    {
     "name": "stderr",
     "output_type": "stream",
     "text": [
      "  6%|▌         | 38/638 [17:49<5:13:51, 31.39s/it]"
     ]
    },
    {
     "name": "stdout",
     "output_type": "stream",
     "text": [
      "Károly Zsolnai-Fehér is a PhD student at the University of California, Berkeley.\n"
     ]
    },
    {
     "name": "stderr",
     "output_type": "stream",
     "text": [
      "  6%|▌         | 39/638 [18:17<5:03:00, 30.35s/it]"
     ]
    },
    {
     "name": "stdout",
     "output_type": "stream",
     "text": [
      "Scientists at ETH Zürich have published a paper that shows how an AI can automatically enhance photos.\n"
     ]
    },
    {
     "name": "stderr",
     "output_type": "stream",
     "text": [
      "  6%|▋         | 40/638 [18:37<4:31:24, 27.23s/it]"
     ]
    },
    {
     "name": "stdout",
     "output_type": "stream",
     "text": [
      "This week, we're looking at the latest in the field of machine learning.\n"
     ]
    },
    {
     "name": "stderr",
     "output_type": "stream",
     "text": [
      "  6%|▋         | 41/638 [18:59<4:16:02, 25.73s/it]"
     ]
    },
    {
     "name": "stdout",
     "output_type": "stream",
     "text": [
      "The latest episode of the Two Minute Paper series is out now.\n"
     ]
    },
    {
     "name": "stderr",
     "output_type": "stream",
     "text": [
      "  7%|▋         | 42/638 [19:22<4:06:46, 24.84s/it]"
     ]
    },
    {
     "name": "stdout",
     "output_type": "stream",
     "text": [
      "Google has just released a new version of its speech recognition system, WaveNet, that is 20 times faster than its predecessor.\n"
     ]
    },
    {
     "name": "stderr",
     "output_type": "stream",
     "text": [
      "  7%|▋         | 43/638 [19:35<3:31:21, 21.31s/it]"
     ]
    },
    {
     "name": "stdout",
     "output_type": "stream",
     "text": [
      "The physics of bubbles\n"
     ]
    },
    {
     "name": "stderr",
     "output_type": "stream",
     "text": [
      "  7%|▋         | 44/638 [19:59<3:40:45, 22.30s/it]"
     ]
    },
    {
     "name": "stdout",
     "output_type": "stream",
     "text": [
      "The Two Minute Papers is a weekly podcast produced by the Budapest-based Rákona Institute for Computer Science and Engineering, and is open to the public.\n"
     ]
    },
    {
     "name": "stderr",
     "output_type": "stream",
     "text": [
      "  7%|▋         | 45/638 [20:21<3:38:38, 22.12s/it]"
     ]
    },
    {
     "name": "stdout",
     "output_type": "stream",
     "text": [
      "The University of California, Berkeley, has developed a new technique for pruning neural networks.\n"
     ]
    },
    {
     "name": "stderr",
     "output_type": "stream",
     "text": [
      "  7%|▋         | 46/638 [20:43<3:39:04, 22.20s/it]"
     ]
    },
    {
     "name": "stdout",
     "output_type": "stream",
     "text": [
      "Google has released a new version of its WaveNet speech-to-text engine that can read a text aloud as if it were spoken by a human.\n"
     ]
    },
    {
     "name": "stderr",
     "output_type": "stream",
     "text": [
      "  7%|▋         | 47/638 [20:55<3:06:38, 18.95s/it]"
     ]
    },
    {
     "name": "stdout",
     "output_type": "stream",
     "text": [
      "The latest episode of Two Minute Papers is out now.\n"
     ]
    },
    {
     "name": "stderr",
     "output_type": "stream",
     "text": [
      "  8%|▊         | 48/638 [21:10<2:56:07, 17.91s/it]"
     ]
    },
    {
     "name": "stdout",
     "output_type": "stream",
     "text": [
      "The DeepMind Control Suite is a new tool for researchers to study the performance of deep neural networks.\n"
     ]
    },
    {
     "name": "stderr",
     "output_type": "stream",
     "text": [
      "  8%|▊         | 49/638 [21:26<2:48:58, 17.21s/it]"
     ]
    },
    {
     "name": "stdout",
     "output_type": "stream",
     "text": [
      "Reinforcement learning is a problem that is difficult to solve, especially when the rewards are sparse.\n"
     ]
    },
    {
     "name": "stderr",
     "output_type": "stream",
     "text": [
      "  8%|▊         | 50/638 [21:38<2:34:17, 15.74s/it]"
     ]
    },
    {
     "name": "stdout",
     "output_type": "stream",
     "text": [
      "The final episode of our Two Minute Papers series is here!\n"
     ]
    },
    {
     "name": "stderr",
     "output_type": "stream",
     "text": [
      "  8%|▊         | 51/638 [21:56<2:41:31, 16.51s/it]"
     ]
    },
    {
     "name": "stdout",
     "output_type": "stream",
     "text": [
      "Károly Zsolnai-Fehér is a professor of computer science at the University of California, Berkeley.\n"
     ]
    },
    {
     "name": "stderr",
     "output_type": "stream",
     "text": [
      "  8%|▊         | 52/638 [22:19<3:00:03, 18.44s/it]"
     ]
    },
    {
     "name": "stdout",
     "output_type": "stream",
     "text": [
      "This week, we're going to talk about a robot that can automatically create a 3D model of an indoor space, including path planning and controlling attention.\n"
     ]
    },
    {
     "name": "stderr",
     "output_type": "stream",
     "text": [
      "  8%|▊         | 53/638 [22:37<2:58:20, 18.29s/it]"
     ]
    },
    {
     "name": "stdout",
     "output_type": "stream",
     "text": [
      "The MIT OpenCourseWare team is releasing a new tool for creating neural texture synthesis.\n"
     ]
    },
    {
     "name": "stderr",
     "output_type": "stream",
     "text": [
      "  8%|▊         | 54/638 [22:52<2:49:03, 17.37s/it]"
     ]
    },
    {
     "name": "stdout",
     "output_type": "stream",
     "text": [
      "The Mail Online's Two Minute Papers is back with a new video.\n"
     ]
    },
    {
     "name": "stderr",
     "output_type": "stream",
     "text": [
      "  9%|▊         | 55/638 [23:04<2:32:10, 15.66s/it]"
     ]
    },
    {
     "name": "stdout",
     "output_type": "stream",
     "text": [
      "I'm back with another Two Minute Paper.\n"
     ]
    },
    {
     "name": "stderr",
     "output_type": "stream",
     "text": [
      "  9%|▉         | 56/638 [23:24<2:44:55, 17.00s/it]"
     ]
    },
    {
     "name": "stdout",
     "output_type": "stream",
     "text": [
      "The Two Minute Papers is a weekly podcast produced by the Budapest University of Science and Technology and is available on iTunes, Google Play, and Spotify.\n"
     ]
    },
    {
     "name": "stderr",
     "output_type": "stream",
     "text": [
      "  9%|▉         | 57/638 [23:51<3:12:43, 19.90s/it]"
     ]
    },
    {
     "name": "stdout",
     "output_type": "stream",
     "text": [
      "The second episode of Two Minute Papers is out! Károly Zsolnai-Fehér is talking about creating high resolution images from semantic maps. The source code of this project is available to everyone, free of charge\n"
     ]
    },
    {
     "name": "stderr",
     "output_type": "stream",
     "text": [
      "  9%|▉         | 58/638 [24:08<3:03:57, 19.03s/it]"
     ]
    },
    {
     "name": "stdout",
     "output_type": "stream",
     "text": [
      "DeepMind has released a new chess engine that beats the world's best human player.\n"
     ]
    },
    {
     "name": "stderr",
     "output_type": "stream",
     "text": [
      "  9%|▉         | 59/638 [24:25<2:58:45, 18.52s/it]"
     ]
    },
    {
     "name": "stdout",
     "output_type": "stream",
     "text": [
      "Károly Zsolnai-Fehér is a computer scientist at the University of California, Berkeley.\n"
     ]
    },
    {
     "name": "stderr",
     "output_type": "stream",
     "text": [
      "  9%|▉         | 60/638 [24:42<2:53:34, 18.02s/it]"
     ]
    },
    {
     "name": "stdout",
     "output_type": "stream",
     "text": [
      "A new algorithm has been trained to detect pneumonia and 13 other diseases, and it has come out on top on all of them.\n"
     ]
    },
    {
     "name": "stderr",
     "output_type": "stream",
     "text": [
      " 10%|▉         | 61/638 [25:10<3:21:56, 21.00s/it]"
     ]
    },
    {
     "name": "stdout",
     "output_type": "stream",
     "text": [
      "The art of style transfer is a complex problem, and it's one that's been studied for a long time. But now, researchers have developed a new technique that can transfer style from one image to another. In this\n"
     ]
    },
    {
     "name": "stderr",
     "output_type": "stream",
     "text": [
      " 10%|▉         | 62/638 [25:27<3:10:10, 19.81s/it]"
     ]
    },
    {
     "name": "stdout",
     "output_type": "stream",
     "text": [
      "Károly Zsolnai-Fehér is a computer scientist at the University of California, Berkeley.\n"
     ]
    },
    {
     "name": "stderr",
     "output_type": "stream",
     "text": [
      " 10%|▉         | 63/638 [25:45<3:03:29, 19.15s/it]"
     ]
    },
    {
     "name": "stdout",
     "output_type": "stream",
     "text": [
      "Károly Zsolnai-Fehér is a professor of computer science at the University of California, Berkeley.\n"
     ]
    },
    {
     "name": "stderr",
     "output_type": "stream",
     "text": [
      " 10%|█         | 64/638 [26:06<3:09:05, 19.77s/it]"
     ]
    },
    {
     "name": "stdout",
     "output_type": "stream",
     "text": [
      "Reinforcement learning is a technique where we have a virtual creature that tries to learn an optimal set of actions to maximize a reward in a changing environment.\n"
     ]
    },
    {
     "name": "stderr",
     "output_type": "stream",
     "text": [
      " 10%|█         | 65/638 [26:19<2:49:41, 17.77s/it]"
     ]
    },
    {
     "name": "stdout",
     "output_type": "stream",
     "text": [
      "A new paper has come out that uses neural networks to create image matting.\n"
     ]
    },
    {
     "name": "stderr",
     "output_type": "stream",
     "text": [
      " 10%|█         | 66/638 [26:30<2:29:43, 15.71s/it]"
     ]
    },
    {
     "name": "stdout",
     "output_type": "stream",
     "text": [
      "The Two Minute Papers series is celebrating its first anniversary.\n"
     ]
    },
    {
     "name": "stderr",
     "output_type": "stream",
     "text": [
      " 11%|█         | 67/638 [26:48<2:35:05, 16.30s/it]"
     ]
    },
    {
     "name": "stdout",
     "output_type": "stream",
     "text": [
      "This week on Two Minute Papers, we're talking about a new way to generate high-resolution images of imaginary celebrities.\n"
     ]
    },
    {
     "name": "stderr",
     "output_type": "stream",
     "text": [
      " 11%|█         | 68/638 [27:07<2:43:21, 17.20s/it]"
     ]
    },
    {
     "name": "stdout",
     "output_type": "stream",
     "text": [
      "Károly Zsolnai-Fehér is a professor of computer science at Stanford University and the director of the Stanford AI Lab.\n"
     ]
    },
    {
     "name": "stderr",
     "output_type": "stream",
     "text": [
      " 11%|█         | 69/638 [27:18<2:24:37, 15.25s/it]"
     ]
    },
    {
     "name": "stdout",
     "output_type": "stream",
     "text": [
      "The first episode of Two Minute Papers is out!\n"
     ]
    },
    {
     "name": "stderr",
     "output_type": "stream",
     "text": [
      " 11%|█         | 70/638 [27:35<2:31:51, 16.04s/it]"
     ]
    },
    {
     "name": "stdout",
     "output_type": "stream",
     "text": [
      "Károly Zsolnai-Fehér is a PhD student in computer science at the University of California, Berkeley.\n"
     ]
    },
    {
     "name": "stderr",
     "output_type": "stream",
     "text": [
      " 11%|█         | 71/638 [27:51<2:30:42, 15.95s/it]"
     ]
    },
    {
     "name": "stdout",
     "output_type": "stream",
     "text": [
      "This week, we're taking a look at a new technique that can translate images between different languages.\n"
     ]
    },
    {
     "name": "stderr",
     "output_type": "stream",
     "text": [
      " 11%|█▏        | 72/638 [27:59<2:07:56, 13.56s/it]"
     ]
    },
    {
     "name": "stdout",
     "output_type": "stream",
     "text": [
      "The Future of AI\n"
     ]
    },
    {
     "name": "stderr",
     "output_type": "stream",
     "text": [
      " 11%|█▏        | 73/638 [28:22<2:34:30, 16.41s/it]"
     ]
    },
    {
     "name": "stdout",
     "output_type": "stream",
     "text": [
      "The work on AlphaGo is absolute insanity, says Károly Zsolnai-Fehér, a computer scientist at the University of California, Berkeley.\n"
     ]
    },
    {
     "name": "stderr",
     "output_type": "stream",
     "text": [
      " 12%|█▏        | 74/638 [28:37<2:28:59, 15.85s/it]"
     ]
    },
    {
     "name": "stdout",
     "output_type": "stream",
     "text": [
      "The next episode of Two Minute Papers is on February 8th, 2015 at 10:30am GMT.\n"
     ]
    },
    {
     "name": "stderr",
     "output_type": "stream",
     "text": [
      " 12%|█▏        | 75/638 [28:53<2:30:49, 16.07s/it]"
     ]
    },
    {
     "name": "stdout",
     "output_type": "stream",
     "text": [
      "Scientists have created a new kind of AI agent that can learn to cooperate with other players in a game.\n"
     ]
    },
    {
     "name": "stderr",
     "output_type": "stream",
     "text": [
      " 12%|█▏        | 76/638 [29:06<2:21:48, 15.14s/it]"
     ]
    },
    {
     "name": "stdout",
     "output_type": "stream",
     "text": [
      "This week's Two Minute Papers is all about 3D face reconstruction.\n"
     ]
    },
    {
     "name": "stderr",
     "output_type": "stream",
     "text": [
      " 12%|█▏        | 77/638 [29:21<2:19:10, 14.88s/it]"
     ]
    },
    {
     "name": "stdout",
     "output_type": "stream",
     "text": [
      "The final episode of this year's Two Minute Papers series will be published on November 14.\n"
     ]
    },
    {
     "name": "stderr",
     "output_type": "stream",
     "text": [
      " 12%|█▏        | 78/638 [29:36<2:18:56, 14.89s/it]"
     ]
    },
    {
     "name": "stdout",
     "output_type": "stream",
     "text": [
      "The human brain is a very complex machine, and it is very difficult to teach it to learn.\n"
     ]
    },
    {
     "name": "stderr",
     "output_type": "stream",
     "text": [
      " 12%|█▏        | 79/638 [29:55<2:30:47, 16.18s/it]"
     ]
    },
    {
     "name": "stdout",
     "output_type": "stream",
     "text": [
      "This week on The Daily Debate, we're looking at a project that uses machine learning to predict what will happen in a video game.\n"
     ]
    },
    {
     "name": "stderr",
     "output_type": "stream",
     "text": [
      " 13%|█▎        | 80/638 [30:08<2:22:35, 15.33s/it]"
     ]
    },
    {
     "name": "stdout",
     "output_type": "stream",
     "text": [
      "The second episode of our Two Minute Papers series is out now.\n"
     ]
    },
    {
     "name": "stderr",
     "output_type": "stream",
     "text": [
      " 13%|█▎        | 81/638 [30:27<2:32:02, 16.38s/it]"
     ]
    },
    {
     "name": "stdout",
     "output_type": "stream",
     "text": [
      "The physics of light is a fascinating subject, and I am always amazed by the incredible images that can be created using it.\n"
     ]
    },
    {
     "name": "stderr",
     "output_type": "stream",
     "text": [
      " 13%|█▎        | 82/638 [30:42<2:29:28, 16.13s/it]"
     ]
    },
    {
     "name": "stdout",
     "output_type": "stream",
     "text": [
      "I'm a software engineer at Google, and I'm a big fan of artificial intelligence.\n"
     ]
    },
    {
     "name": "stderr",
     "output_type": "stream",
     "text": [
      " 13%|█▎        | 83/638 [30:52<2:11:40, 14.24s/it]"
     ]
    },
    {
     "name": "stdout",
     "output_type": "stream",
     "text": [
      "Generative adversarial networks\n"
     ]
    },
    {
     "name": "stderr",
     "output_type": "stream",
     "text": [
      " 13%|█▎        | 84/638 [31:05<2:08:08, 13.88s/it]"
     ]
    },
    {
     "name": "stdout",
     "output_type": "stream",
     "text": [
      "The Two Minute Papers series is back with a new video every week!\n"
     ]
    },
    {
     "name": "stderr",
     "output_type": "stream",
     "text": [
      " 13%|█▎        | 85/638 [31:21<2:13:59, 14.54s/it]"
     ]
    },
    {
     "name": "stdout",
     "output_type": "stream",
     "text": [
      "The Two Minute Papers is CNN.com's weekly video series featuring two minutes of programming from around the world.\n"
     ]
    },
    {
     "name": "stderr",
     "output_type": "stream",
     "text": [
      " 13%|█▎        | 86/638 [31:47<2:44:35, 17.89s/it]"
     ]
    },
    {
     "name": "stdout",
     "output_type": "stream",
     "text": [
      "Károly Zsolnai-Fehér is a PhD student in the Department of Computer Science at the University of Vienna. He is a Fellow of the Royal Society of Chemistry and a recipient of the Royal Society\n"
     ]
    },
    {
     "name": "stderr",
     "output_type": "stream",
     "text": [
      " 14%|█▎        | 87/638 [32:05<2:44:28, 17.91s/it]"
     ]
    },
    {
     "name": "stdout",
     "output_type": "stream",
     "text": [
      "Károly Zsolnai-Fehér is a PhD student in computer science at the University of California, Berkeley.\n"
     ]
    },
    {
     "name": "stderr",
     "output_type": "stream",
     "text": [
      " 14%|█▍        | 88/638 [32:19<2:33:06, 16.70s/it]"
     ]
    },
    {
     "name": "stdout",
     "output_type": "stream",
     "text": [
      "The next episode of Two Minute Papers is on February 14th at 10:30am ET.\n"
     ]
    },
    {
     "name": "stderr",
     "output_type": "stream",
     "text": [
      " 14%|█▍        | 89/638 [32:37<2:35:59, 17.05s/it]"
     ]
    },
    {
     "name": "stdout",
     "output_type": "stream",
     "text": [
      "We're back with another video from the DeepMind YouTube channel. This time, we're talking about facial animation.\n"
     ]
    },
    {
     "name": "stderr",
     "output_type": "stream",
     "text": [
      " 14%|█▍        | 90/638 [32:55<2:39:47, 17.50s/it]"
     ]
    },
    {
     "name": "stdout",
     "output_type": "stream",
     "text": [
      "DeepMind's new neural network can classify music, and it's remarkably close to human-level performance on sound classification.\n"
     ]
    },
    {
     "name": "stderr",
     "output_type": "stream",
     "text": [
      " 14%|█▍        | 91/638 [33:13<2:40:39, 17.62s/it]"
     ]
    },
    {
     "name": "stdout",
     "output_type": "stream",
     "text": [
      "Károly Zsolnai-Fehér is a PhD student in computer graphics at the Technical University of Vienna.\n"
     ]
    },
    {
     "name": "stderr",
     "output_type": "stream",
     "text": [
      " 14%|█▍        | 92/638 [33:35<2:51:20, 18.83s/it]"
     ]
    },
    {
     "name": "stdout",
     "output_type": "stream",
     "text": [
      "DeepMind's Károly Zsolnai-Fehér has been talking about the progress of the AI research team at the company.\n"
     ]
    },
    {
     "name": "stderr",
     "output_type": "stream",
     "text": [
      " 15%|█▍        | 93/638 [33:51<2:44:50, 18.15s/it]"
     ]
    },
    {
     "name": "stdout",
     "output_type": "stream",
     "text": [
      "The University of Southern California has developed a new technique that can create real-time photorealistic images from video.\n"
     ]
    },
    {
     "name": "stderr",
     "output_type": "stream",
     "text": [
      " 15%|█▍        | 94/638 [34:16<3:02:00, 20.08s/it]"
     ]
    },
    {
     "name": "stdout",
     "output_type": "stream",
     "text": [
      "AI program beats world champion in DOTA 2 game. OpenAI trained the program in 24 hours. It learns the rules and objectives of the game. It also pulls off remarkable tactics.\n"
     ]
    },
    {
     "name": "stderr",
     "output_type": "stream",
     "text": [
      " 15%|█▍        | 95/638 [34:42<3:17:30, 21.82s/it]"
     ]
    },
    {
     "name": "stdout",
     "output_type": "stream",
     "text": [
      "The age of AI is coming, and there are possible applications of it that we need to be very cautious with, says Károly Zsolnai-Fehér, a computer scientist at the University of California, Berkeley\n"
     ]
    },
    {
     "name": "stderr",
     "output_type": "stream",
     "text": [
      " 15%|█▌        | 96/638 [34:59<3:03:56, 20.36s/it]"
     ]
    },
    {
     "name": "stdout",
     "output_type": "stream",
     "text": [
      "Károly Zsolnai-Fehér is a computer scientist at the University of California, Berkeley.\n"
     ]
    },
    {
     "name": "stderr",
     "output_type": "stream",
     "text": [
      " 15%|█▌        | 97/638 [35:11<2:40:00, 17.75s/it]"
     ]
    },
    {
     "name": "stdout",
     "output_type": "stream",
     "text": [
      "The first episode of the Deep Learning in Action series is here.\n"
     ]
    },
    {
     "name": "stderr",
     "output_type": "stream",
     "text": [
      " 15%|█▌        | 98/638 [35:27<2:35:23, 17.27s/it]"
     ]
    },
    {
     "name": "stdout",
     "output_type": "stream",
     "text": [
      "The University of California, Berkeley, has developed a new way to simulate the deformation of materials in digital media.\n"
     ]
    },
    {
     "name": "stderr",
     "output_type": "stream",
     "text": [
      " 16%|█▌        | 99/638 [35:47<2:44:14, 18.28s/it]"
     ]
    },
    {
     "name": "stdout",
     "output_type": "stream",
     "text": [
      "The sound of Star Wars has been a popular topic of discussion in recent years, but now researchers have come up with a way to simulate the sound of elastic rods.\n"
     ]
    },
    {
     "name": "stderr",
     "output_type": "stream",
     "text": [
      " 16%|█▌        | 100/638 [36:07<2:46:15, 18.54s/it]"
     ]
    },
    {
     "name": "stdout",
     "output_type": "stream",
     "text": [
      "In the next episode of the Two Minute Papers series, we're going to be talking about how to remove green-screen keying from video.\n"
     ]
    },
    {
     "name": "stderr",
     "output_type": "stream",
     "text": [
      " 16%|█▌        | 101/638 [36:33<3:07:52, 20.99s/it]"
     ]
    },
    {
     "name": "stdout",
     "output_type": "stream",
     "text": [
      "Light field cameras can change the focal distance, or even slightly adjust the viewpoint of the camera. With some more improvements, this could be tremendously useful in the film industry, because the directors could adjust their scenes after the shooting, and not just\n"
     ]
    },
    {
     "name": "stderr",
     "output_type": "stream",
     "text": [
      " 16%|█▌        | 102/638 [36:51<3:00:03, 20.16s/it]"
     ]
    },
    {
     "name": "stdout",
     "output_type": "stream",
     "text": [
      "The facial expressions we make can be translated into computer graphics in a way that is physically correct, a new study has shown.\n"
     ]
    },
    {
     "name": "stderr",
     "output_type": "stream",
     "text": [
      " 16%|█▌        | 103/638 [37:06<2:44:50, 18.49s/it]"
     ]
    },
    {
     "name": "stdout",
     "output_type": "stream",
     "text": [
      "The Next Web is a weekly series of short videos that aim to explain interesting topics in computer science.\n"
     ]
    },
    {
     "name": "stderr",
     "output_type": "stream",
     "text": [
      " 16%|█▋        | 104/638 [37:22<2:36:51, 17.62s/it]"
     ]
    },
    {
     "name": "stdout",
     "output_type": "stream",
     "text": [
      "The Two Minute Papers series is back with a new video, this time featuring hummingbirds.\n"
     ]
    },
    {
     "name": "stderr",
     "output_type": "stream",
     "text": [
      " 16%|█▋        | 105/638 [37:44<2:50:32, 19.20s/it]"
     ]
    },
    {
     "name": "stdout",
     "output_type": "stream",
     "text": [
      "Károly Zsolnai-Fehér: A new effort to teach some more common sense to learning algorithms. Jennifer Smith: Thanks for watching and for your generous support.\n"
     ]
    },
    {
     "name": "stderr",
     "output_type": "stream",
     "text": [
      " 17%|█▋        | 106/638 [38:10<3:07:33, 21.15s/it]"
     ]
    },
    {
     "name": "stdout",
     "output_type": "stream",
     "text": [
      "Károly Zsolnai-Fehér is a PhD student at the University of California, Berkeley. He is the co-founder of CrowdSparrow, a crowdsourcing platform for academic research.\n"
     ]
    },
    {
     "name": "stderr",
     "output_type": "stream",
     "text": [
      " 17%|█▋        | 107/638 [38:32<3:09:54, 21.46s/it]"
     ]
    },
    {
     "name": "stdout",
     "output_type": "stream",
     "text": [
      "Károly Zsolnai-Fehér: Hi, everyone. Today I'm going to show you a new tool that can read your text aloud.\n"
     ]
    },
    {
     "name": "stderr",
     "output_type": "stream",
     "text": [
      " 17%|█▋        | 108/638 [38:45<2:45:42, 18.76s/it]"
     ]
    },
    {
     "name": "stdout",
     "output_type": "stream",
     "text": [
      "The Cloth Simulator is back with a brand new episode.\n"
     ]
    },
    {
     "name": "stderr",
     "output_type": "stream",
     "text": [
      " 17%|█▋        | 109/638 [39:02<2:41:00, 18.26s/it]"
     ]
    },
    {
     "name": "stdout",
     "output_type": "stream",
     "text": [
      "Károly Zsolnai-Fehér is the host of the popular science series Two Minute Papers.\n"
     ]
    },
    {
     "name": "stderr",
     "output_type": "stream",
     "text": [
      " 17%|█▋        | 110/638 [39:13<2:21:12, 16.05s/it]"
     ]
    },
    {
     "name": "stdout",
     "output_type": "stream",
     "text": [
      "The latest Two Minute Papers video is out!\n"
     ]
    },
    {
     "name": "stderr",
     "output_type": "stream",
     "text": [
      " 17%|█▋        | 111/638 [39:29<2:21:12, 16.08s/it]"
     ]
    },
    {
     "name": "stdout",
     "output_type": "stream",
     "text": [
      "The future of computer vision is here, and it's going to be a lot faster than we thought.\n"
     ]
    },
    {
     "name": "stderr",
     "output_type": "stream",
     "text": [
      " 18%|█▊        | 112/638 [39:49<2:32:22, 17.38s/it]"
     ]
    },
    {
     "name": "stdout",
     "output_type": "stream",
     "text": [
      "The Two Minute Papers channel is back with a new episode, where we look at a technique that can make animations look like they were drawn by hand.\n"
     ]
    },
    {
     "name": "stderr",
     "output_type": "stream",
     "text": [
      " 18%|█▊        | 113/638 [40:03<2:21:17, 16.15s/it]"
     ]
    },
    {
     "name": "stdout",
     "output_type": "stream",
     "text": [
      "The future of computing is here, and it's not just about computers.\n"
     ]
    },
    {
     "name": "stderr",
     "output_type": "stream",
     "text": [
      " 18%|█▊        | 114/638 [40:24<2:33:32, 17.58s/it]"
     ]
    },
    {
     "name": "stdout",
     "output_type": "stream",
     "text": [
      "Károly Zsolnai-Fehér is the host of the Two Minute Papers series, a weekly video series on scientific topics.\n"
     ]
    },
    {
     "name": "stderr",
     "output_type": "stream",
     "text": [
      " 18%|█▊        | 115/638 [40:45<2:42:05, 18.60s/it]"
     ]
    },
    {
     "name": "stdout",
     "output_type": "stream",
     "text": [
      "The Mail Online's Two Minute Papers is back with a new video, this time with a mathematician talking about how to take the perfect selfie.\n"
     ]
    },
    {
     "name": "stderr",
     "output_type": "stream",
     "text": [
      " 18%|█▊        | 116/638 [40:57<2:26:16, 16.81s/it]"
     ]
    },
    {
     "name": "stdout",
     "output_type": "stream",
     "text": [
      "This week's episode of Two Minute Papers is all about honey.\n"
     ]
    },
    {
     "name": "stderr",
     "output_type": "stream",
     "text": [
      " 18%|█▊        | 117/638 [41:12<2:21:00, 16.24s/it]"
     ]
    },
    {
     "name": "stdout",
     "output_type": "stream",
     "text": [
      "This is Two Minute Papers with Károslav Zsolnai-Fehér\n"
     ]
    },
    {
     "name": "stderr",
     "output_type": "stream",
     "text": [
      " 18%|█▊        | 118/638 [41:31<2:28:18, 17.11s/it]"
     ]
    },
    {
     "name": "stdout",
     "output_type": "stream",
     "text": [
      "Károly Zsolnai-Fehér is a professor of computer graphics at the Vienna University of Technology in Austria.\n"
     ]
    },
    {
     "name": "stderr",
     "output_type": "stream",
     "text": [
      " 19%|█▊        | 119/638 [41:59<2:55:05, 20.24s/it]"
     ]
    },
    {
     "name": "stdout",
     "output_type": "stream",
     "text": [
      "This week, we are talking about a paper that solves the equations for liquid motion along every single hair strand, computes the cohesion effects between the hairs, and it can also simulate the effect of water d\n"
     ]
    },
    {
     "name": "stderr",
     "output_type": "stream",
     "text": [
      " 19%|█▉        | 120/638 [42:20<2:58:24, 20.67s/it]"
     ]
    },
    {
     "name": "stdout",
     "output_type": "stream",
     "text": [
      "Károly Zsolnai-Fehér is a PhD student in computer science at the University of California, Berkeley.\n"
     ]
    },
    {
     "name": "stderr",
     "output_type": "stream",
     "text": [
      " 19%|█▉        | 121/638 [42:46<3:11:29, 22.22s/it]"
     ]
    },
    {
     "name": "stdout",
     "output_type": "stream",
     "text": [
      "The latest Two Minute Papers video is out, and it's a real treat. In this one, Károly Zsolnai-Fehér of the University of California, Berkeley, talks about a new\n"
     ]
    },
    {
     "name": "stderr",
     "output_type": "stream",
     "text": [
      " 19%|█▉        | 122/638 [42:58<2:42:57, 18.95s/it]"
     ]
    },
    {
     "name": "stdout",
     "output_type": "stream",
     "text": [
      "The latest episode of Two Minute Papers is out now!\n"
     ]
    },
    {
     "name": "stderr",
     "output_type": "stream",
     "text": [
      " 19%|█▉        | 123/638 [43:09<2:22:36, 16.61s/it]"
     ]
    },
    {
     "name": "stdout",
     "output_type": "stream",
     "text": [
      "The next episode of Two Minute Papers is on September 14.\n"
     ]
    },
    {
     "name": "stderr",
     "output_type": "stream",
     "text": [
      " 19%|█▉        | 124/638 [43:22<2:14:39, 15.72s/it]"
     ]
    },
    {
     "name": "stdout",
     "output_type": "stream",
     "text": [
      "The goal of this paper is to transfer the style of a photo to another photo.\n"
     ]
    },
    {
     "name": "stderr",
     "output_type": "stream",
     "text": [
      " 20%|█▉        | 125/638 [43:37<2:10:47, 15.30s/it]"
     ]
    },
    {
     "name": "stdout",
     "output_type": "stream",
     "text": [
      "This technique creates a digital representation of any face from no more than one simple photograph\n"
     ]
    },
    {
     "name": "stderr",
     "output_type": "stream",
     "text": [
      " 20%|█▉        | 126/638 [43:57<2:22:54, 16.75s/it]"
     ]
    },
    {
     "name": "stdout",
     "output_type": "stream",
     "text": [
      "Neural networks are a hot topic in the computer science world, and this week we're going to see how they can be used to create amazing things.\n"
     ]
    },
    {
     "name": "stderr",
     "output_type": "stream",
     "text": [
      " 20%|█▉        | 127/638 [44:23<2:45:32, 19.44s/it]"
     ]
    },
    {
     "name": "stdout",
     "output_type": "stream",
     "text": [
      "The next Two Minute Papers will be on February 14th at 10am ET. The next episode will be about the inner workings of different kinds of neural networks and how they are used to solve problems in the field of machine learning. The\n"
     ]
    },
    {
     "name": "stderr",
     "output_type": "stream",
     "text": [
      " 20%|██        | 128/638 [44:39<2:38:24, 18.64s/it]"
     ]
    },
    {
     "name": "stdout",
     "output_type": "stream",
     "text": [
      "The Two Minute Paper is a weekly video series that features short academic papers that are accompanied by a short video explanation.\n"
     ]
    },
    {
     "name": "stderr",
     "output_type": "stream",
     "text": [
      " 20%|██        | 129/638 [44:54<2:29:13, 17.59s/it]"
     ]
    },
    {
     "name": "stdout",
     "output_type": "stream",
     "text": [
      "This week on Two Minute Papers, we're talking about fluid simulations and fluid guiding.\n"
     ]
    },
    {
     "name": "stderr",
     "output_type": "stream",
     "text": [
      " 20%|██        | 130/638 [45:20<2:47:54, 19.83s/it]"
     ]
    },
    {
     "name": "stdout",
     "output_type": "stream",
     "text": [
      "Károly Zsolnai-Fehér is a PhD student at the University of California, Berkeley. He is working on a real-time 3D printing system that can print objects on demand.\n"
     ]
    },
    {
     "name": "stderr",
     "output_type": "stream",
     "text": [
      " 21%|██        | 131/638 [45:40<2:49:52, 20.10s/it]"
     ]
    },
    {
     "name": "stdout",
     "output_type": "stream",
     "text": [
      "Károly Zsolnai-Fehér is a PhD student in the Department of Finance at the University of Wisconsin-Madison.\n"
     ]
    },
    {
     "name": "stderr",
     "output_type": "stream",
     "text": [
      " 21%|██        | 132/638 [45:49<2:20:30, 16.66s/it]"
     ]
    },
    {
     "name": "stdout",
     "output_type": "stream",
     "text": [
      "I'm back!\n"
     ]
    },
    {
     "name": "stderr",
     "output_type": "stream",
     "text": [
      " 21%|██        | 133/638 [46:16<2:45:24, 19.65s/it]"
     ]
    },
    {
     "name": "stdout",
     "output_type": "stream",
     "text": [
      "Károslav Zsoltai-Fehér is a computer scientist at the University of California, Berkeley. He is the co-founder of the UC Berkeley Machine Learning Lab, and he is the author of\n"
     ]
    },
    {
     "name": "stderr",
     "output_type": "stream",
     "text": [
      " 21%|██        | 134/638 [46:30<2:32:26, 18.15s/it]"
     ]
    },
    {
     "name": "stdout",
     "output_type": "stream",
     "text": [
      "The man behind the Cloth Simulator has been talking to MailOnline about his work.\n"
     ]
    },
    {
     "name": "stderr",
     "output_type": "stream",
     "text": [
      " 21%|██        | 135/638 [46:42<2:16:59, 16.34s/it]"
     ]
    },
    {
     "name": "stdout",
     "output_type": "stream",
     "text": [
      "The latest episode of the Two Minute Papers series is out now.\n"
     ]
    },
    {
     "name": "stderr",
     "output_type": "stream",
     "text": [
      " 21%|██▏       | 136/638 [47:08<2:40:29, 19.18s/it]"
     ]
    },
    {
     "name": "stdout",
     "output_type": "stream",
     "text": [
      "Károly Zsolnai-Fehér is a computer scientist at the University of California, Berkeley. He is the author of a new paper in the journal PLOS Computational Biology. In this episode of\n"
     ]
    },
    {
     "name": "stderr",
     "output_type": "stream",
     "text": [
      " 21%|██▏       | 137/638 [47:20<2:21:09, 16.91s/it]"
     ]
    },
    {
     "name": "stdout",
     "output_type": "stream",
     "text": [
      "The final episode of our Two Minute Papers series is here!\n"
     ]
    },
    {
     "name": "stderr",
     "output_type": "stream",
     "text": [
      " 22%|██▏       | 138/638 [47:36<2:18:11, 16.58s/it]"
     ]
    },
    {
     "name": "stdout",
     "output_type": "stream",
     "text": [
      "Neural style transfer is a technique that can be used to create a new image from an existing one.\n"
     ]
    },
    {
     "name": "stderr",
     "output_type": "stream",
     "text": [
      " 22%|██▏       | 139/638 [47:52<2:16:30, 16.41s/it]"
     ]
    },
    {
     "name": "stdout",
     "output_type": "stream",
     "text": [
      "The next episode of the Two Minute Papers series, \"The New Threats to Machine Learning,\" is out now.\n"
     ]
    },
    {
     "name": "stderr",
     "output_type": "stream",
     "text": [
      " 22%|██▏       | 140/638 [48:03<2:05:02, 15.07s/it]"
     ]
    },
    {
     "name": "stdout",
     "output_type": "stream",
     "text": [
      "The final episode of our Two Minute Papers series is here!\n"
     ]
    },
    {
     "name": "stderr",
     "output_type": "stream",
     "text": [
      " 22%|██▏       | 141/638 [48:24<2:18:20, 16.70s/it]"
     ]
    },
    {
     "name": "stdout",
     "output_type": "stream",
     "text": [
      "This week, we're taking a look at a new technique that could one day make it possible to create digital models of people and objects out of thin air.\n"
     ]
    },
    {
     "name": "stderr",
     "output_type": "stream",
     "text": [
      " 22%|██▏       | 142/638 [48:50<2:40:23, 19.40s/it]"
     ]
    },
    {
     "name": "stdout",
     "output_type": "stream",
     "text": [
      "The Two Minute Paper is a weekly, offbeat look at what's happening in the world of computer science and engineering. This week, we look at the work of the team at the University of California, San Diego, and their work\n"
     ]
    },
    {
     "name": "stderr",
     "output_type": "stream",
     "text": [
      " 22%|██▏       | 143/638 [49:06<2:31:34, 18.37s/it]"
     ]
    },
    {
     "name": "stdout",
     "output_type": "stream",
     "text": [
      "This week, we're looking at a robot that can make a 3D digital copy of an object.\n"
     ]
    },
    {
     "name": "stderr",
     "output_type": "stream",
     "text": [
      " 23%|██▎       | 144/638 [49:28<2:40:25, 19.48s/it]"
     ]
    },
    {
     "name": "stdout",
     "output_type": "stream",
     "text": [
      "The next Two Minute Papers will be on February 14th and 15th at 10:30am and 11:00am, respectively, on CNN.com/2minutes and CNN.org/2mio.\n"
     ]
    },
    {
     "name": "stderr",
     "output_type": "stream",
     "text": [
      " 23%|██▎       | 145/638 [49:39<2:19:29, 16.98s/it]"
     ]
    },
    {
     "name": "stdout",
     "output_type": "stream",
     "text": [
      "The Two Minute Paper is back with a new episode!\n"
     ]
    },
    {
     "name": "stderr",
     "output_type": "stream",
     "text": [
      " 23%|██▎       | 146/638 [49:51<2:08:22, 15.66s/it]"
     ]
    },
    {
     "name": "stdout",
     "output_type": "stream",
     "text": [
      "This week on Two Minute Papers we're talking about digital characters.\n"
     ]
    },
    {
     "name": "stderr",
     "output_type": "stream",
     "text": [
      " 23%|██▎       | 147/638 [50:12<2:19:21, 17.03s/it]"
     ]
    },
    {
     "name": "stdout",
     "output_type": "stream",
     "text": [
      "In this week's episode of 3DTV, we're going to take a look at a new technique that helps us create photorealistic images.\n"
     ]
    },
    {
     "name": "stderr",
     "output_type": "stream",
     "text": [
      " 23%|██▎       | 148/638 [50:26<2:11:11, 16.07s/it]"
     ]
    },
    {
     "name": "stdout",
     "output_type": "stream",
     "text": [
      "The latest episode of the 3D Insider is all about ray tracing.\n"
     ]
    },
    {
     "name": "stderr",
     "output_type": "stream",
     "text": [
      " 23%|██▎       | 149/638 [50:42<2:11:24, 16.12s/it]"
     ]
    },
    {
     "name": "stdout",
     "output_type": "stream",
     "text": [
      "The OpenAI team has released a new software platform that lets you train computers to play games and do other tasks.\n"
     ]
    },
    {
     "name": "stderr",
     "output_type": "stream",
     "text": [
      " 24%|██▎       | 150/638 [50:54<2:02:04, 15.01s/it]"
     ]
    },
    {
     "name": "stdout",
     "output_type": "stream",
     "text": [
      "This week, we're looking at a technique called super resolution.\n"
     ]
    },
    {
     "name": "stderr",
     "output_type": "stream",
     "text": [
      " 24%|██▎       | 151/638 [51:05<1:51:02, 13.68s/it]"
     ]
    },
    {
     "name": "stdout",
     "output_type": "stream",
     "text": [
      "The latest episode of Two Minute Papers is here!\n"
     ]
    },
    {
     "name": "stderr",
     "output_type": "stream",
     "text": [
      " 24%|██▍       | 152/638 [51:19<1:51:42, 13.79s/it]"
     ]
    },
    {
     "name": "stdout",
     "output_type": "stream",
     "text": [
      "The future of 3D printing is here, and it's all down to machine learning.\n"
     ]
    },
    {
     "name": "stderr",
     "output_type": "stream",
     "text": [
      " 24%|██▍       | 153/638 [51:30<1:44:18, 12.90s/it]"
     ]
    },
    {
     "name": "stdout",
     "output_type": "stream",
     "text": [
      "The latest episode of Two Minute Papers is out!\n"
     ]
    },
    {
     "name": "stderr",
     "output_type": "stream",
     "text": [
      " 24%|██▍       | 154/638 [51:44<1:47:53, 13.38s/it]"
     ]
    },
    {
     "name": "stdout",
     "output_type": "stream",
     "text": [
      "A new paper has shown that a neural network can be used to generate new videos from scratch.\n"
     ]
    },
    {
     "name": "stderr",
     "output_type": "stream",
     "text": [
      " 24%|██▍       | 155/638 [52:01<1:56:20, 14.45s/it]"
     ]
    },
    {
     "name": "stdout",
     "output_type": "stream",
     "text": [
      "Károly Zsolnai-Fehér is a computer scientist at the University of California, Berkeley.\n"
     ]
    },
    {
     "name": "stderr",
     "output_type": "stream",
     "text": [
      " 24%|██▍       | 156/638 [52:22<2:11:03, 16.31s/it]"
     ]
    },
    {
     "name": "stdout",
     "output_type": "stream",
     "text": [
      "Google Brain's Károly Zsolnai-Fehér has created a neural network that can simulate smoke and fluids in real-time.\n"
     ]
    },
    {
     "name": "stderr",
     "output_type": "stream",
     "text": [
      " 25%|██▍       | 157/638 [52:38<2:10:48, 16.32s/it]"
     ]
    },
    {
     "name": "stdout",
     "output_type": "stream",
     "text": [
      "The next episode of Two Minute Papers with Károly Zsolnai-Fehér is out!\n"
     ]
    },
    {
     "name": "stderr",
     "output_type": "stream",
     "text": [
      " 25%|██▍       | 158/638 [52:48<1:55:33, 14.45s/it]"
     ]
    },
    {
     "name": "stdout",
     "output_type": "stream",
     "text": [
      "The Two Minute Papers channel is now closed.\n"
     ]
    },
    {
     "name": "stderr",
     "output_type": "stream",
     "text": [
      " 25%|██▍       | 159/638 [53:02<1:53:58, 14.28s/it]"
     ]
    },
    {
     "name": "stdout",
     "output_type": "stream",
     "text": [
      "The Two Minute Papers is back with a brand new show every week this summer.\n"
     ]
    },
    {
     "name": "stderr",
     "output_type": "stream",
     "text": [
      " 25%|██▌       | 160/638 [53:22<2:06:31, 15.88s/it]"
     ]
    },
    {
     "name": "stdout",
     "output_type": "stream",
     "text": [
      "The University of Southern California has launched a new series of \"Two Minute Papers\" to highlight the work of some of its most promising young researchers.\n"
     ]
    },
    {
     "name": "stderr",
     "output_type": "stream",
     "text": [
      " 25%|██▌       | 161/638 [53:34<1:57:10, 14.74s/it]"
     ]
    },
    {
     "name": "stdout",
     "output_type": "stream",
     "text": [
      "The next episode of CNN's Two Minute Papers is out!\n"
     ]
    },
    {
     "name": "stderr",
     "output_type": "stream",
     "text": [
      " 25%|██▌       | 162/638 [53:55<2:11:56, 16.63s/it]"
     ]
    },
    {
     "name": "stdout",
     "output_type": "stream",
     "text": [
      "The next Two Minute Paper is brought to you by Károly Zsolnai-Fehér, a PhD student in mechanical engineering at the University of Toronto.\n"
     ]
    },
    {
     "name": "stderr",
     "output_type": "stream",
     "text": [
      " 26%|██▌       | 163/638 [54:10<2:07:44, 16.14s/it]"
     ]
    },
    {
     "name": "stdout",
     "output_type": "stream",
     "text": [
      "The Mail Online has been looking at some of the most interesting technology stories from around the world this week.\n"
     ]
    },
    {
     "name": "stderr",
     "output_type": "stream",
     "text": [
      " 26%|██▌       | 164/638 [54:21<1:55:25, 14.61s/it]"
     ]
    },
    {
     "name": "stdout",
     "output_type": "stream",
     "text": [
      "The next episode of Two Minute Papers is out!\n"
     ]
    },
    {
     "name": "stderr",
     "output_type": "stream",
     "text": [
      " 26%|██▌       | 165/638 [54:40<2:06:32, 16.05s/it]"
     ]
    },
    {
     "name": "stdout",
     "output_type": "stream",
     "text": [
      "Károly Zsolnai-Fehér is a PhD student in the Department of Electrical and Computer Engineering at the University of Vienna.\n"
     ]
    },
    {
     "name": "stderr",
     "output_type": "stream",
     "text": [
      " 26%|██▌       | 166/638 [54:54<2:00:37, 15.33s/it]"
     ]
    },
    {
     "name": "stdout",
     "output_type": "stream",
     "text": [
      "The future of animation is here, and it's going to sound like this.\n"
     ]
    },
    {
     "name": "stderr",
     "output_type": "stream",
     "text": [
      " 26%|██▌       | 167/638 [55:08<1:57:46, 15.00s/it]"
     ]
    },
    {
     "name": "stdout",
     "output_type": "stream",
     "text": [
      "The Hungarian Academy of Sciences has published a video on the topic of computer graphics.\n"
     ]
    },
    {
     "name": "stderr",
     "output_type": "stream",
     "text": [
      " 26%|██▋       | 168/638 [55:25<2:02:26, 15.63s/it]"
     ]
    },
    {
     "name": "stdout",
     "output_type": "stream",
     "text": [
      "A new paper has shown that we can automatically create a 3D representation of the human body from a single image.\n"
     ]
    },
    {
     "name": "stderr",
     "output_type": "stream",
     "text": [
      " 26%|██▋       | 169/638 [55:40<2:00:10, 15.37s/it]"
     ]
    },
    {
     "name": "stdout",
     "output_type": "stream",
     "text": [
      "A computer scientist has developed an algorithm that can automatically label images in a video game.\n"
     ]
    },
    {
     "name": "stderr",
     "output_type": "stream",
     "text": [
      " 27%|██▋       | 170/638 [55:52<1:51:22, 14.28s/it]"
     ]
    },
    {
     "name": "stdout",
     "output_type": "stream",
     "text": [
      "Károly Zsolnai-Fehér\n"
     ]
    },
    {
     "name": "stderr",
     "output_type": "stream",
     "text": [
      " 27%|██▋       | 171/638 [56:13<2:06:23, 16.24s/it]"
     ]
    },
    {
     "name": "stdout",
     "output_type": "stream",
     "text": [
      "The Mail Online's maths correspondent Károly Zsolnai-Fehér is talking about the process of gerrymandering.\n"
     ]
    },
    {
     "name": "stderr",
     "output_type": "stream",
     "text": [
      " 27%|██▋       | 172/638 [56:34<2:18:37, 17.85s/it]"
     ]
    },
    {
     "name": "stdout",
     "output_type": "stream",
     "text": [
      "The Two Minute Papers is a weekly podcast hosted by the Budapest University of Technology. The next two weeks of the show will focus on fluid simulations and soft body dynamics.\n"
     ]
    },
    {
     "name": "stderr",
     "output_type": "stream",
     "text": [
      " 27%|██▋       | 173/638 [57:00<2:37:11, 20.28s/it]"
     ]
    },
    {
     "name": "stdout",
     "output_type": "stream",
     "text": [
      "Károl Zsolnai-Fehér is a professor of mathematics at the University of Cambridge. He is the author of the book, \"The Power of Grammar: The Power of Mathematical Structure in Everyday\n"
     ]
    },
    {
     "name": "stderr",
     "output_type": "stream",
     "text": [
      " 27%|██▋       | 174/638 [57:19<2:34:38, 20.00s/it]"
     ]
    },
    {
     "name": "stdout",
     "output_type": "stream",
     "text": [
      "Károly Zsolnai-Fehér is a PhD student in the Department of Physics at the University of California, Berkeley.\n"
     ]
    },
    {
     "name": "stderr",
     "output_type": "stream",
     "text": [
      " 27%|██▋       | 175/638 [58:23<4:15:19, 33.09s/it]"
     ]
    },
    {
     "name": "stdout",
     "output_type": "stream",
     "text": [
      "The first episode of a new series of Two Minute Papers is out now.\n"
     ]
    },
    {
     "name": "stderr",
     "output_type": "stream",
     "text": [
      " 28%|██▊       | 176/638 [59:34<5:41:26, 44.34s/it]"
     ]
    },
    {
     "name": "stdout",
     "output_type": "stream",
     "text": [
      "This week's episode of Two Minute Papers is about auxetic materials.\n"
     ]
    },
    {
     "name": "stderr",
     "output_type": "stream",
     "text": [
      " 28%|██▊       | 177/638 [1:00:00<4:59:21, 38.96s/it]"
     ]
    },
    {
     "name": "stdout",
     "output_type": "stream",
     "text": [
      "The next episode of Two Minute Papers is already in the works, and it will be out soon.\n"
     ]
    },
    {
     "name": "stderr",
     "output_type": "stream",
     "text": [
      " 28%|██▊       | 178/638 [1:00:24<4:23:48, 34.41s/it]"
     ]
    },
    {
     "name": "stdout",
     "output_type": "stream",
     "text": [
      "The MIT Technology Review has released a video of a paper by Károly Zsolnai-Fehér, a computer scientist at MIT Media Lab.\n"
     ]
    },
    {
     "name": "stderr",
     "output_type": "stream",
     "text": [
      " 28%|██▊       | 179/638 [1:00:52<4:07:45, 32.39s/it]"
     ]
    },
    {
     "name": "stdout",
     "output_type": "stream",
     "text": [
      "This week, we look at a paper on deep learning and how it can be used to solve simple problems. The lead author states on his website that this paper shows that \"linear algebra can be replaced with machine learning\". Talk about being\n"
     ]
    },
    {
     "name": "stderr",
     "output_type": "stream",
     "text": [
      " 28%|██▊       | 180/638 [1:01:08<3:29:42, 27.47s/it]"
     ]
    },
    {
     "name": "stdout",
     "output_type": "stream",
     "text": [
      "WaveNet is a computer program that can synthesize sounds in someone's voice.\n"
     ]
    },
    {
     "name": "stderr",
     "output_type": "stream",
     "text": [
      " 28%|██▊       | 181/638 [1:01:27<3:10:05, 24.96s/it]"
     ]
    },
    {
     "name": "stdout",
     "output_type": "stream",
     "text": [
      "Károly Zsolnai-Fehér is a PhD student in computer science at the University of California, Berkeley.\n"
     ]
    },
    {
     "name": "stderr",
     "output_type": "stream",
     "text": [
      " 29%|██▊       | 182/638 [1:01:55<3:16:22, 25.84s/it]"
     ]
    },
    {
     "name": "stdout",
     "output_type": "stream",
     "text": [
      "Károly Zsolnai-Fehér is a PhD student in computer science at the University of California, Berkeley. He is the co-author of a paper published in the journal Computer Vision and Pattern Recognition.\n"
     ]
    },
    {
     "name": "stderr",
     "output_type": "stream",
     "text": [
      " 29%|██▊       | 183/638 [1:02:11<2:55:13, 23.11s/it]"
     ]
    },
    {
     "name": "stdout",
     "output_type": "stream",
     "text": [
      "The Two Minute Papers are a weekly video series that features short, interesting videos about interesting technology and design.\n"
     ]
    },
    {
     "name": "stderr",
     "output_type": "stream",
     "text": [
      " 29%|██▉       | 184/638 [1:02:30<2:44:45, 21.78s/it]"
     ]
    },
    {
     "name": "stdout",
     "output_type": "stream",
     "text": [
      "The latest episode of the 3D Printing Academy is out and it's all about creating 3D printed filigrees.\n"
     ]
    },
    {
     "name": "stderr",
     "output_type": "stream",
     "text": [
      " 29%|██▉       | 185/638 [1:02:40<2:18:11, 18.30s/it]"
     ]
    },
    {
     "name": "stdout",
     "output_type": "stream",
     "text": [
      "The Light and Material Modeling Challenge\n"
     ]
    },
    {
     "name": "stderr",
     "output_type": "stream",
     "text": [
      " 29%|██▉       | 186/638 [1:03:01<2:22:37, 18.93s/it]"
     ]
    },
    {
     "name": "stdout",
     "output_type": "stream",
     "text": [
      "The final episode of Two Minute Papers will be a look at the role played by quantum mechanics in the study of the environment and the environment in general.\n"
     ]
    },
    {
     "name": "stderr",
     "output_type": "stream",
     "text": [
      " 29%|██▉       | 187/638 [1:03:27<2:38:45, 21.12s/it]"
     ]
    },
    {
     "name": "stdout",
     "output_type": "stream",
     "text": [
      "Károly Zsolnai-Fehér is a PhD student in computer science at the University of California, Berkeley. He is the creator of the Sentdex channel on YouTube, where he teaches machine\n"
     ]
    },
    {
     "name": "stderr",
     "output_type": "stream",
     "text": [
      " 29%|██▉       | 188/638 [1:03:46<2:35:06, 20.68s/it]"
     ]
    },
    {
     "name": "stdout",
     "output_type": "stream",
     "text": [
      "I'm Károly Zsolnai-Fehér, and today I'm going to talk about extrapolation.\n"
     ]
    },
    {
     "name": "stderr",
     "output_type": "stream",
     "text": [
      " 30%|██▉       | 189/638 [1:04:04<2:26:59, 19.64s/it]"
     ]
    },
    {
     "name": "stdout",
     "output_type": "stream",
     "text": [
      "The Two Minute Papers is a weekly, offbeat look at the happenings in the world of machine learning.\n"
     ]
    },
    {
     "name": "stderr",
     "output_type": "stream",
     "text": [
      " 30%|██▉       | 190/638 [1:04:20<2:20:04, 18.76s/it]"
     ]
    },
    {
     "name": "stdout",
     "output_type": "stream",
     "text": [
      "The Hungarian team behind Two Minute Papers has produced a video showing how to make a virtual character walk.\n"
     ]
    },
    {
     "name": "stderr",
     "output_type": "stream",
     "text": [
      " 30%|██▉       | 191/638 [1:04:36<2:12:26, 17.78s/it]"
     ]
    },
    {
     "name": "stdout",
     "output_type": "stream",
     "text": [
      "In this week's episode of Two Minute Papers, we're going to talk about optimization.\n"
     ]
    },
    {
     "name": "stderr",
     "output_type": "stream",
     "text": [
      " 30%|███       | 192/638 [1:04:56<2:18:20, 18.61s/it]"
     ]
    },
    {
     "name": "stdout",
     "output_type": "stream",
     "text": [
      "A Hungarian scientist has created a way to create a 3D computer model from video footage.\n"
     ]
    },
    {
     "name": "stderr",
     "output_type": "stream",
     "text": [
      " 30%|███       | 193/638 [1:05:24<2:38:04, 21.31s/it]"
     ]
    },
    {
     "name": "stdout",
     "output_type": "stream",
     "text": [
      "Károly Zsolnai-Fehér shows you how to train a machine learning algorithm. The algorithm learns the relation of a photograph and a sketch. It does this by showing a deep\n"
     ]
    },
    {
     "name": "stderr",
     "output_type": "stream",
     "text": [
      " 30%|███       | 194/638 [1:05:52<2:51:54, 23.23s/it]"
     ]
    },
    {
     "name": "stdout",
     "output_type": "stream",
     "text": [
      "The Two Minute Papers store is now open! There are two different kinds of men's T-shirts available, and a nice sleek design version that we made for the Fellow Scholar ladies out there! We also have a Scholarly\n"
     ]
    },
    {
     "name": "stderr",
     "output_type": "stream",
     "text": [
      " 31%|███       | 195/638 [1:06:07<2:33:39, 20.81s/it]"
     ]
    },
    {
     "name": "stdout",
     "output_type": "stream",
     "text": [
      "This week, we're looking at a paper about time varying textures.\n"
     ]
    },
    {
     "name": "stderr",
     "output_type": "stream",
     "text": [
      " 31%|███       | 196/638 [1:06:29<2:35:37, 21.13s/it]"
     ]
    },
    {
     "name": "stdout",
     "output_type": "stream",
     "text": [
      "Fermat's spirals can be used to create 3D printing materials that are more uniform and of higher quality than other shapes, according to a new study.\n"
     ]
    },
    {
     "name": "stderr",
     "output_type": "stream",
     "text": [
      " 31%|███       | 197/638 [1:06:48<2:30:40, 20.50s/it]"
     ]
    },
    {
     "name": "stdout",
     "output_type": "stream",
     "text": [
      "Károly Zsolnai-Fehér is a PhD student in computer science at the University of Vienna.\n"
     ]
    },
    {
     "name": "stderr",
     "output_type": "stream",
     "text": [
      " 31%|███       | 198/638 [1:06:57<2:05:22, 17.10s/it]"
     ]
    },
    {
     "name": "stdout",
     "output_type": "stream",
     "text": [
      "The Future of Machine Learning\n"
     ]
    },
    {
     "name": "stderr",
     "output_type": "stream",
     "text": [
      " 31%|███       | 199/638 [1:07:09<1:55:08, 15.74s/it]"
     ]
    },
    {
     "name": "stdout",
     "output_type": "stream",
     "text": [
      "The latest episode of Two Minute Papers is all about neural networks.\n"
     ]
    },
    {
     "name": "stderr",
     "output_type": "stream",
     "text": [
      " 31%|███▏      | 200/638 [1:07:27<1:59:42, 16.40s/it]"
     ]
    },
    {
     "name": "stdout",
     "output_type": "stream",
     "text": [
      "The Two Minute Papers is back with a new episode, and this time we're talking about convolutions.\n"
     ]
    },
    {
     "name": "stderr",
     "output_type": "stream",
     "text": [
      " 32%|███▏      | 201/638 [1:07:53<2:19:16, 19.12s/it]"
     ]
    },
    {
     "name": "stdout",
     "output_type": "stream",
     "text": [
      "Reinforcement learning is a technique in the field of machine learning to learn how to navigate in a labyrinth, play a video game, or to teach a digital creature to walk.\n"
     ]
    },
    {
     "name": "stderr",
     "output_type": "stream",
     "text": [
      " 32%|███▏      | 202/638 [1:08:11<2:16:39, 18.81s/it]"
     ]
    },
    {
     "name": "stdout",
     "output_type": "stream",
     "text": [
      "The first episode of the Two Minute Papers series is out, and it's all about adding color to black and white images.\n"
     ]
    },
    {
     "name": "stderr",
     "output_type": "stream",
     "text": [
      " 32%|███▏      | 203/638 [1:08:21<1:57:47, 16.25s/it]"
     ]
    },
    {
     "name": "stdout",
     "output_type": "stream",
     "text": [
      "The Two Minute Papers series is back!\n"
     ]
    },
    {
     "name": "stderr",
     "output_type": "stream",
     "text": [
      " 32%|███▏      | 204/638 [1:08:38<1:59:16, 16.49s/it]"
     ]
    },
    {
     "name": "stdout",
     "output_type": "stream",
     "text": [
      "The host of Two Minute Papers is a Hungarian scientist who has been presenting scientific discoveries on YouTube since 2012.\n"
     ]
    },
    {
     "name": "stderr",
     "output_type": "stream",
     "text": [
      " 32%|███▏      | 205/638 [1:08:50<1:48:29, 15.03s/it]"
     ]
    },
    {
     "name": "stdout",
     "output_type": "stream",
     "text": [
      "The latest issue of Two Minute Papers is out now!\n"
     ]
    },
    {
     "name": "stderr",
     "output_type": "stream",
     "text": [
      " 32%|███▏      | 206/638 [1:09:08<1:55:40, 16.07s/it]"
     ]
    },
    {
     "name": "stdout",
     "output_type": "stream",
     "text": [
      "Károly Zsolnai-Fehér is a PhD student in computer science at the University of Southern California.\n"
     ]
    },
    {
     "name": "stderr",
     "output_type": "stream",
     "text": [
      " 32%|███▏      | 207/638 [1:09:22<1:50:35, 15.40s/it]"
     ]
    },
    {
     "name": "stdout",
     "output_type": "stream",
     "text": [
      "The latest research in the area of computer-generated character animation is a step forward.\n"
     ]
    },
    {
     "name": "stderr",
     "output_type": "stream",
     "text": [
      " 33%|███▎      | 208/638 [1:09:35<1:43:55, 14.50s/it]"
     ]
    },
    {
     "name": "stdout",
     "output_type": "stream",
     "text": [
      "A new algorithm that can make computer games look more realistic has been developed.\n"
     ]
    },
    {
     "name": "stderr",
     "output_type": "stream",
     "text": [
      " 33%|███▎      | 209/638 [1:09:44<1:32:28, 12.93s/it]"
     ]
    },
    {
     "name": "stdout",
     "output_type": "stream",
     "text": [
      "The Shape of Light\n"
     ]
    },
    {
     "name": "stderr",
     "output_type": "stream",
     "text": [
      " 33%|███▎      | 210/638 [1:10:02<1:44:00, 14.58s/it]"
     ]
    },
    {
     "name": "stdout",
     "output_type": "stream",
     "text": [
      "Károly Zsolnai-Fehér is a PhD student in the Department of Biochemistry at the University of Vienna.\n"
     ]
    },
    {
     "name": "stderr",
     "output_type": "stream",
     "text": [
      " 33%|███▎      | 211/638 [1:10:25<2:01:02, 17.01s/it]"
     ]
    },
    {
     "name": "stdout",
     "output_type": "stream",
     "text": [
      "The Two Minute Papers is a weekly podcast hosted by Károly Zsolnai-Fehér and produced by the University of Wisconsin-Madison.\n"
     ]
    },
    {
     "name": "stderr",
     "output_type": "stream",
     "text": [
      " 33%|███▎      | 212/638 [1:10:36<1:47:22, 15.12s/it]"
     ]
    },
    {
     "name": "stdout",
     "output_type": "stream",
     "text": [
      "Dropout is a way of creating diligent students\n"
     ]
    },
    {
     "name": "stderr",
     "output_type": "stream",
     "text": [
      " 33%|███▎      | 213/638 [1:10:56<1:58:46, 16.77s/it]"
     ]
    },
    {
     "name": "stdout",
     "output_type": "stream",
     "text": [
      "The fluids of the world are a fascinating subject, and I'm delighted to be able to show you a new way of simulating them.\n"
     ]
    },
    {
     "name": "stderr",
     "output_type": "stream",
     "text": [
      " 34%|███▎      | 214/638 [1:11:14<2:00:23, 17.04s/it]"
     ]
    },
    {
     "name": "stdout",
     "output_type": "stream",
     "text": [
      "The second part of the Two Minute Papers with Károly Zsolnai-Fehér is here.\n"
     ]
    },
    {
     "name": "stderr",
     "output_type": "stream",
     "text": [
      " 34%|███▎      | 215/638 [1:11:39<2:16:37, 19.38s/it]"
     ]
    },
    {
     "name": "stdout",
     "output_type": "stream",
     "text": [
      "Deep learning applications: a look back at the previous one, \"Super Resolution,\" a deep learning application that makes it possible to zoom into images way more than the number of megapixels of our camera would allow\n"
     ]
    },
    {
     "name": "stderr",
     "output_type": "stream",
     "text": [
      " 34%|███▍      | 216/638 [1:11:56<2:10:54, 18.61s/it]"
     ]
    },
    {
     "name": "stdout",
     "output_type": "stream",
     "text": [
      "Károly Zsolnai-Fehér is a psychology professor at the University of Southern California.\n"
     ]
    },
    {
     "name": "stderr",
     "output_type": "stream",
     "text": [
      " 34%|███▍      | 217/638 [1:12:05<1:50:19, 15.72s/it]"
     ]
    },
    {
     "name": "stdout",
     "output_type": "stream",
     "text": [
      "The Page you Came From\n"
     ]
    },
    {
     "name": "stderr",
     "output_type": "stream",
     "text": [
      " 34%|███▍      | 218/638 [1:12:16<1:40:41, 14.38s/it]"
     ]
    },
    {
     "name": "stdout",
     "output_type": "stream",
     "text": [
      "The latest episode of Two Minute Papers is out now!\n"
     ]
    },
    {
     "name": "stderr",
     "output_type": "stream",
     "text": [
      " 34%|███▍      | 219/638 [1:12:42<2:04:15, 17.79s/it]"
     ]
    },
    {
     "name": "stdout",
     "output_type": "stream",
     "text": [
      "Károly Zsolnai-Fehér is a professor of computer science at the University of California, Berkeley. He is the host of the CNN series Two Minute Papers, which aims to explain scientific concepts in\n"
     ]
    },
    {
     "name": "stderr",
     "output_type": "stream",
     "text": [
      " 34%|███▍      | 220/638 [1:12:55<1:55:10, 16.53s/it]"
     ]
    },
    {
     "name": "stdout",
     "output_type": "stream",
     "text": [
      "A computer scientist has developed a technique that can guess the depth of a photograph.\n"
     ]
    },
    {
     "name": "stderr",
     "output_type": "stream",
     "text": [
      " 35%|███▍      | 221/638 [1:13:20<2:12:39, 19.09s/it]"
     ]
    },
    {
     "name": "stdout",
     "output_type": "stream",
     "text": [
      "The creator of Google's artificial intelligence system AlphaGo says it is a \"wonderful testament of the power of mathematics and science\" and a \"wonderful testament of the potential of artificial intelligence\".\n"
     ]
    },
    {
     "name": "stderr",
     "output_type": "stream",
     "text": [
      " 35%|███▍      | 222/638 [1:13:46<2:26:05, 21.07s/it]"
     ]
    },
    {
     "name": "stdout",
     "output_type": "stream",
     "text": [
      "Károly Zsolnai-Fehér presents the second package of his Two Minute Papers. This week, he shows you how a convolutional neural network can learn how to colorize by looking at\n"
     ]
    },
    {
     "name": "stderr",
     "output_type": "stream",
     "text": [
      " 35%|███▍      | 223/638 [1:14:05<2:21:51, 20.51s/it]"
     ]
    },
    {
     "name": "stdout",
     "output_type": "stream",
     "text": [
      "More than five thousand people have signed up to our YouTube channel Two Minute Papers with Károly Zsolnai-Fehér.\n"
     ]
    },
    {
     "name": "stderr",
     "output_type": "stream",
     "text": [
      " 35%|███▌      | 224/638 [1:14:20<2:08:48, 18.67s/it]"
     ]
    },
    {
     "name": "stdout",
     "output_type": "stream",
     "text": [
      "I'm a machine learning enthusiast, and I'm here to help you get started.\n"
     ]
    },
    {
     "name": "stderr",
     "output_type": "stream",
     "text": [
      " 35%|███▌      | 225/638 [1:14:36<2:04:35, 18.10s/it]"
     ]
    },
    {
     "name": "stdout",
     "output_type": "stream",
     "text": [
      "The University of Wisconsin-Madison has released a new tool that lets you edit images in real time.\n"
     ]
    },
    {
     "name": "stderr",
     "output_type": "stream",
     "text": [
      " 35%|███▌      | 226/638 [1:14:48<1:51:37, 16.26s/it]"
     ]
    },
    {
     "name": "stdout",
     "output_type": "stream",
     "text": [
      "The art of painting has been taken to a new level.\n"
     ]
    },
    {
     "name": "stderr",
     "output_type": "stream",
     "text": [
      " 36%|███▌      | 227/638 [1:15:07<1:55:35, 16.87s/it]"
     ]
    },
    {
     "name": "stdout",
     "output_type": "stream",
     "text": [
      "The Mail Online's science and technology editor Károly Zsolnai-Fehér is back with another video tutorial.\n"
     ]
    },
    {
     "name": "stderr",
     "output_type": "stream",
     "text": [
      " 36%|███▌      | 228/638 [1:15:33<2:14:13, 19.64s/it]"
     ]
    },
    {
     "name": "stdout",
     "output_type": "stream",
     "text": [
      "Scientists found that ascending 11 stories of staircases burns a whopping 19.7 kilo calories. Each step is worth approximately one tenth of a kilo calorie if we're ascend\n"
     ]
    },
    {
     "name": "stderr",
     "output_type": "stream",
     "text": [
      " 36%|███▌      | 229/638 [1:15:47<2:02:59, 18.04s/it]"
     ]
    },
    {
     "name": "stdout",
     "output_type": "stream",
     "text": [
      "High achievers can suffer from impostor syndrome, according to a new study.\n"
     ]
    },
    {
     "name": "stderr",
     "output_type": "stream",
     "text": [
      " 36%|███▌      | 230/638 [1:16:01<1:54:39, 16.86s/it]"
     ]
    },
    {
     "name": "stdout",
     "output_type": "stream",
     "text": [
      "The way we age is a complex process that is difficult to simulate in computer graphics.\n"
     ]
    },
    {
     "name": "stderr",
     "output_type": "stream",
     "text": [
      " 36%|███▌      | 231/638 [1:16:18<1:55:09, 16.98s/it]"
     ]
    },
    {
     "name": "stdout",
     "output_type": "stream",
     "text": [
      "The Daily Mail's Two Minute Papers is back with a look at the world of science, technology and the environment.\n"
     ]
    },
    {
     "name": "stderr",
     "output_type": "stream",
     "text": [
      " 36%|███▋      | 232/638 [1:16:32<1:48:27, 16.03s/it]"
     ]
    },
    {
     "name": "stdout",
     "output_type": "stream",
     "text": [
      "It's not a paper towel, it's a sock.\n"
     ]
    },
    {
     "name": "stderr",
     "output_type": "stream",
     "text": [
      " 37%|███▋      | 233/638 [1:16:47<1:46:27, 15.77s/it]"
     ]
    },
    {
     "name": "stdout",
     "output_type": "stream",
     "text": [
      "Google DeepMind's new algorithm that plays Go has defeated an elite pro player and European champion.\n"
     ]
    },
    {
     "name": "stderr",
     "output_type": "stream",
     "text": [
      " 37%|███▋      | 234/638 [1:17:01<1:42:30, 15.22s/it]"
     ]
    },
    {
     "name": "stdout",
     "output_type": "stream",
     "text": [
      "The Daily Discussion is your place to discuss the news you saw on CNN.com.\n"
     ]
    },
    {
     "name": "stderr",
     "output_type": "stream",
     "text": [
      " 37%|███▋      | 235/638 [1:17:27<2:03:07, 18.33s/it]"
     ]
    },
    {
     "name": "stdout",
     "output_type": "stream",
     "text": [
      "The Two Minute Papers is a weekly series on the University of Cambridge's M.I.T. campus. For the next two weeks, we'll be looking at some of the hottest topics in the field of computer science\n"
     ]
    },
    {
     "name": "stderr",
     "output_type": "stream",
     "text": [
      " 37%|███▋      | 236/638 [1:17:39<1:50:01, 16.42s/it]"
     ]
    },
    {
     "name": "stdout",
     "output_type": "stream",
     "text": [
      "The video is available in English, Spanish, German and French.\n"
     ]
    },
    {
     "name": "stderr",
     "output_type": "stream",
     "text": [
      " 37%|███▋      | 237/638 [1:17:53<1:45:13, 15.74s/it]"
     ]
    },
    {
     "name": "stdout",
     "output_type": "stream",
     "text": [
      "The next Two Minute Papers will be on Monday, November 14th at 10am GMT.\n"
     ]
    },
    {
     "name": "stderr",
     "output_type": "stream",
     "text": [
      " 37%|███▋      | 238/638 [1:18:05<1:37:46, 14.67s/it]"
     ]
    },
    {
     "name": "stdout",
     "output_type": "stream",
     "text": [
      "Scientists at Disney Research have just made a dream come true.\n"
     ]
    },
    {
     "name": "stderr",
     "output_type": "stream",
     "text": [
      " 37%|███▋      | 239/638 [1:18:19<1:35:38, 14.38s/it]"
     ]
    },
    {
     "name": "stdout",
     "output_type": "stream",
     "text": [
      "The algorithm that created this table is a computer program that learns from its users.\n"
     ]
    },
    {
     "name": "stderr",
     "output_type": "stream",
     "text": [
      " 38%|███▊      | 240/638 [1:18:31<1:31:41, 13.82s/it]"
     ]
    },
    {
     "name": "stdout",
     "output_type": "stream",
     "text": [
      "The next two weeks of Two Minute Papers are all about machine learning.\n"
     ]
    },
    {
     "name": "stderr",
     "output_type": "stream",
     "text": [
      " 38%|███▊      | 241/638 [1:18:57<1:54:28, 17.30s/it]"
     ]
    },
    {
     "name": "stdout",
     "output_type": "stream",
     "text": [
      "Károly Zsolnai-Fehér is a professor of computer science at the University of Cambridge. He is the author of the book \"Machine Learning for the 21st Century\"\n"
     ]
    },
    {
     "name": "stderr",
     "output_type": "stream",
     "text": [
      " 38%|███▊      | 242/638 [1:19:16<1:57:03, 17.74s/it]"
     ]
    },
    {
     "name": "stdout",
     "output_type": "stream",
     "text": [
      "Károly Zsolnai-Fehér: I'm having a great time with you Fellow Scholars :)\n"
     ]
    },
    {
     "name": "stderr",
     "output_type": "stream",
     "text": [
      " 38%|███▊      | 243/638 [1:19:33<1:56:04, 17.63s/it]"
     ]
    },
    {
     "name": "stdout",
     "output_type": "stream",
     "text": [
      "The next Two Minute Papers will focus on the role of computers in the arts and science in the 21st century.\n"
     ]
    },
    {
     "name": "stderr",
     "output_type": "stream",
     "text": [
      " 38%|███▊      | 244/638 [1:19:48<1:50:52, 16.88s/it]"
     ]
    },
    {
     "name": "stdout",
     "output_type": "stream",
     "text": [
      "Genetic algorithms are a powerful tool for solving difficult problems, but they are not without their limitations.\n"
     ]
    },
    {
     "name": "stderr",
     "output_type": "stream",
     "text": [
      " 38%|███▊      | 245/638 [1:20:04<1:48:17, 16.53s/it]"
     ]
    },
    {
     "name": "stdout",
     "output_type": "stream",
     "text": [
      "The Two Minute Papers is a weekly, off-beat look at the latest in science and technology.\n"
     ]
    },
    {
     "name": "stderr",
     "output_type": "stream",
     "text": [
      " 39%|███▊      | 246/638 [1:20:19<1:45:13, 16.10s/it]"
     ]
    },
    {
     "name": "stdout",
     "output_type": "stream",
     "text": [
      "Metropolis Light Transport is a new algorithm that can clean up your images quickly and easily.\n"
     ]
    },
    {
     "name": "stderr",
     "output_type": "stream",
     "text": [
      " 39%|███▊      | 247/638 [1:20:40<1:53:48, 17.46s/it]"
     ]
    },
    {
     "name": "stdout",
     "output_type": "stream",
     "text": [
      "The head of the European Commission's research division says we need to develop a new kind of artificial intelligence if we are to avoid a \"superintelligence\".\n"
     ]
    },
    {
     "name": "stderr",
     "output_type": "stream",
     "text": [
      " 39%|███▉      | 248/638 [1:21:02<2:02:38, 18.87s/it]"
     ]
    },
    {
     "name": "stdout",
     "output_type": "stream",
     "text": [
      "Nick Bostrom is a professor of computer science at the University of California, Berkeley. He is the author of \"The Edge of Reason\" and \"The Edge of Darkness.\"\n"
     ]
    },
    {
     "name": "stderr",
     "output_type": "stream",
     "text": [
      " 39%|███▉      | 249/638 [1:21:21<2:02:54, 18.96s/it]"
     ]
    },
    {
     "name": "stdout",
     "output_type": "stream",
     "text": [
      "The Two Minute Papers is CNN iReport's weekly, offbeat look at what's happening in the world of science and technology.\n"
     ]
    },
    {
     "name": "stderr",
     "output_type": "stream",
     "text": [
      " 39%|███▉      | 250/638 [1:21:40<2:02:16, 18.91s/it]"
     ]
    },
    {
     "name": "stdout",
     "output_type": "stream",
     "text": [
      "Reinforcement learning is a technique that can learn how to play computer games, or any kind of activity that requires a sequence of actions\n"
     ]
    },
    {
     "name": "stderr",
     "output_type": "stream",
     "text": [
      " 39%|███▉      | 251/638 [1:22:32<3:05:56, 28.83s/it]"
     ]
    },
    {
     "name": "stdout",
     "output_type": "stream",
     "text": [
      "A deep neural network is a type of artificial intelligence that can be trained to solve problems in the real world.\n"
     ]
    },
    {
     "name": "stderr",
     "output_type": "stream",
     "text": [
      " 39%|███▉      | 252/638 [1:23:58<4:56:47, 46.13s/it]"
     ]
    },
    {
     "name": "stdout",
     "output_type": "stream",
     "text": [
      "The Next Big Thing is CNN Tech's weekly, offbeat look at the most interesting technology stories on the web.\n"
     ]
    },
    {
     "name": "stderr",
     "output_type": "stream",
     "text": [
      " 40%|███▉      | 253/638 [1:25:11<5:47:48, 54.20s/it]"
     ]
    },
    {
     "name": "stdout",
     "output_type": "stream",
     "text": [
      "Metropolis Light Transport is a technique that helps to remove the visual clutter in computer graphics.\n"
     ]
    },
    {
     "name": "stderr",
     "output_type": "stream",
     "text": [
      " 40%|███▉      | 254/638 [1:26:08<5:52:17, 55.05s/it]"
     ]
    },
    {
     "name": "stdout",
     "output_type": "stream",
     "text": [
      "The future of engineering is looking very bright indeed.\n"
     ]
    },
    {
     "name": "stderr",
     "output_type": "stream",
     "text": [
      " 40%|███▉      | 255/638 [1:27:36<6:53:47, 64.82s/it]"
     ]
    },
    {
     "name": "stdout",
     "output_type": "stream",
     "text": [
      "The Daily Mail has interviewed the two researchers behind a new technique that could help scientists simulate the motion of fluids and smoke.\n"
     ]
    },
    {
     "name": "stderr",
     "output_type": "stream",
     "text": [
      " 40%|████      | 256/638 [1:29:23<8:14:30, 77.67s/it]"
     ]
    },
    {
     "name": "stdout",
     "output_type": "stream",
     "text": [
      "The first two weeks of a new science series are available now on iReport.com. The third and final week of the series will be available on Monday, November 14th. The series will then return on Tuesday, November 15\n"
     ]
    },
    {
     "name": "stderr",
     "output_type": "stream",
     "text": [
      " 40%|████      | 257/638 [1:30:54<8:38:06, 81.59s/it]"
     ]
    },
    {
     "name": "stdout",
     "output_type": "stream",
     "text": [
      "This week on Two Minute Papers we are talking about a paper that uses deep neural networks to apply the artistic style of a painting to a photograph.\n"
     ]
    },
    {
     "name": "stderr",
     "output_type": "stream",
     "text": [
      " 40%|████      | 258/638 [1:32:06<8:18:21, 78.69s/it]"
     ]
    },
    {
     "name": "stdout",
     "output_type": "stream",
     "text": [
      "This week, we look at how an algorithm can create beautiful time-lapse videos.\n"
     ]
    },
    {
     "name": "stderr",
     "output_type": "stream",
     "text": [
      " 41%|████      | 259/638 [1:33:15<7:58:36, 75.77s/it]"
     ]
    },
    {
     "name": "stdout",
     "output_type": "stream",
     "text": [
      "Scientists have cracked the nut of how to simulate tearing in a computer game.\n"
     ]
    },
    {
     "name": "stderr",
     "output_type": "stream",
     "text": [
      " 41%|████      | 260/638 [1:34:54<8:40:55, 82.69s/it]"
     ]
    },
    {
     "name": "stdout",
     "output_type": "stream",
     "text": [
      "YouTube channel Two Minute Papers has just reached its first 250 subscribers. The channel is dedicated to the study of computers and network algorithms. It has over a thousand views on its first lecture.\n"
     ]
    },
    {
     "name": "stderr",
     "output_type": "stream",
     "text": [
      " 41%|████      | 261/638 [1:35:57<8:01:51, 76.69s/it]"
     ]
    },
    {
     "name": "stdout",
     "output_type": "stream",
     "text": [
      "Deep learning is the science of building computers that can learn from data.\n"
     ]
    },
    {
     "name": "stderr",
     "output_type": "stream",
     "text": [
      " 41%|████      | 262/638 [1:37:08<7:50:22, 75.06s/it]"
     ]
    },
    {
     "name": "stdout",
     "output_type": "stream",
     "text": [
      "MIT researchers have created a system that is able to capture one trillion frames per second.\n"
     ]
    },
    {
     "name": "stderr",
     "output_type": "stream",
     "text": [
      " 41%|████      | 263/638 [1:38:07<7:18:26, 70.15s/it]"
     ]
    },
    {
     "name": "stdout",
     "output_type": "stream",
     "text": [
      "The video and the supplementary video is now available.\n"
     ]
    },
    {
     "name": "stderr",
     "output_type": "stream",
     "text": [
      " 41%|████▏     | 264/638 [1:39:16<7:16:05, 69.96s/it]"
     ]
    },
    {
     "name": "stdout",
     "output_type": "stream",
     "text": [
      "The Daily Mail is launching a new series of science videos called Two Minute Papers.\n"
     ]
    },
    {
     "name": "stderr",
     "output_type": "stream",
     "text": [
      " 42%|████▏     | 265/638 [1:41:00<8:17:38, 80.05s/it]"
     ]
    },
    {
     "name": "stdout",
     "output_type": "stream",
     "text": [
      "Károly Zsolnai-Fehér is a computer scientist at the University of California, Berkeley. He is the co-author of a paper published in the journal Computers in Human Behavior. In this video\n"
     ]
    },
    {
     "name": "stderr",
     "output_type": "stream",
     "text": [
      " 42%|████▏     | 266/638 [1:41:58<7:36:47, 73.68s/it]"
     ]
    },
    {
     "name": "stdout",
     "output_type": "stream",
     "text": [
      "This week, we're talking about dance videos.\n"
     ]
    },
    {
     "name": "stderr",
     "output_type": "stream",
     "text": [
      " 42%|████▏     | 267/638 [1:43:05<7:23:01, 71.65s/it]"
     ]
    },
    {
     "name": "stdout",
     "output_type": "stream",
     "text": [
      "The BBC has published a series of short papers by some of the brightest minds in computer science.\n"
     ]
    },
    {
     "name": "stderr",
     "output_type": "stream",
     "text": [
      " 42%|████▏     | 268/638 [1:44:20<7:26:38, 72.43s/it]"
     ]
    },
    {
     "name": "stdout",
     "output_type": "stream",
     "text": [
      "The Mail Online has been talking to a computer scientist in Hungary who has developed a new way to turn images into faces.\n"
     ]
    },
    {
     "name": "stderr",
     "output_type": "stream",
     "text": [
      " 42%|████▏     | 269/638 [1:45:28<7:18:26, 71.29s/it]"
     ]
    },
    {
     "name": "stdout",
     "output_type": "stream",
     "text": [
      "DeepMind has trained a machine learning algorithm to identify which patients need urgent medical attention.\n"
     ]
    },
    {
     "name": "stderr",
     "output_type": "stream",
     "text": [
      " 42%|████▏     | 270/638 [1:47:17<8:25:31, 82.42s/it]"
     ]
    },
    {
     "name": "stdout",
     "output_type": "stream",
     "text": [
      "The video is available on the author's website as well. The paper contains a lot more insights. The paper is available in two versions: the original and the obfuscated versions. The original version can be played\n"
     ]
    },
    {
     "name": "stderr",
     "output_type": "stream",
     "text": [
      " 42%|████▏     | 271/638 [1:48:42<8:30:01, 83.38s/it]"
     ]
    },
    {
     "name": "stdout",
     "output_type": "stream",
     "text": [
      "The art world has been getting a lot smarter in recent years, and now a new AI technique can help us to recreate the style of a painting.\n"
     ]
    },
    {
     "name": "stderr",
     "output_type": "stream",
     "text": [
      " 43%|████▎     | 272/638 [1:49:55<8:09:01, 80.17s/it]"
     ]
    },
    {
     "name": "stdout",
     "output_type": "stream",
     "text": [
      "The Distill journal is looking for help with their editorial work, and they're looking for help from the public.\n"
     ]
    },
    {
     "name": "stderr",
     "output_type": "stream",
     "text": [
      " 43%|████▎     | 273/638 [1:51:22<8:20:20, 82.25s/it]"
     ]
    },
    {
     "name": "stdout",
     "output_type": "stream",
     "text": [
      "This week on Two Minute Papers, we're talking about a new technique that can help us create digital materials that look like real materials.\n"
     ]
    },
    {
     "name": "stderr",
     "output_type": "stream",
     "text": [
      " 43%|████▎     | 274/638 [1:52:30<7:53:12, 78.00s/it]"
     ]
    },
    {
     "name": "stdout",
     "output_type": "stream",
     "text": [
      "Károly Zsolnai-Fehér\n"
     ]
    },
    {
     "name": "stderr",
     "output_type": "stream",
     "text": [
      " 43%|████▎     | 275/638 [1:54:19<8:47:26, 87.18s/it]"
     ]
    },
    {
     "name": "stdout",
     "output_type": "stream",
     "text": [
      "The latest episode of Two Minute Papers is out! In this episode, Károly Zsolnai-Fehér shows how a neural network can predict a person's pose using wifi signals. The network can\n"
     ]
    },
    {
     "name": "stderr",
     "output_type": "stream",
     "text": [
      " 43%|████▎     | 276/638 [1:55:42<8:38:38, 85.96s/it]"
     ]
    },
    {
     "name": "stdout",
     "output_type": "stream",
     "text": [
      "The brain-to-brain interface could help people with Parkinson's disease, autism and other neurological conditions, according to a new study.\n"
     ]
    },
    {
     "name": "stderr",
     "output_type": "stream",
     "text": [
      " 43%|████▎     | 277/638 [1:56:47<7:58:55, 79.60s/it]"
     ]
    },
    {
     "name": "stdout",
     "output_type": "stream",
     "text": [
      "The Daily Discussion is brought to you by the BBC's Future of Science team.\n"
     ]
    },
    {
     "name": "stderr",
     "output_type": "stream",
     "text": [
      " 44%|████▎     | 278/638 [1:58:09<8:02:17, 80.38s/it]"
     ]
    },
    {
     "name": "stdout",
     "output_type": "stream",
     "text": [
      "The latest video in our Two Minute Papers series is a look at how neural networks can be used to create a photorealistic image.\n"
     ]
    },
    {
     "name": "stderr",
     "output_type": "stream",
     "text": [
      " 44%|████▎     | 279/638 [1:59:34<8:09:50, 81.87s/it]"
     ]
    },
    {
     "name": "stdout",
     "output_type": "stream",
     "text": [
      "Károly Zsolnai-Fehér is a PhD student in the Department of Computer Science at the University of California, Berkeley.\n"
     ]
    },
    {
     "name": "stderr",
     "output_type": "stream",
     "text": [
      " 44%|████▍     | 280/638 [2:00:51<7:59:53, 80.43s/it]"
     ]
    },
    {
     "name": "stdout",
     "output_type": "stream",
     "text": [
      "The Two Minute Papers video series is a monthly series of short videos highlighting interesting scientific research.\n"
     ]
    },
    {
     "name": "stderr",
     "output_type": "stream",
     "text": [
      " 44%|████▍     | 281/638 [2:02:12<7:59:27, 80.58s/it]"
     ]
    },
    {
     "name": "stdout",
     "output_type": "stream",
     "text": [
      "Károly Zsolnai-Fehér is a computer scientist at the University of California, Berkeley.\n"
     ]
    },
    {
     "name": "stderr",
     "output_type": "stream",
     "text": [
      " 44%|████▍     | 282/638 [2:03:57<8:40:27, 87.72s/it]"
     ]
    },
    {
     "name": "stdout",
     "output_type": "stream",
     "text": [
      "A new technique can clean up an audio signal by suppressing the noise in a busy bar, even if the source of the noise is not seen in the video. It can also enhance the voice of the speaker at the same time.\n"
     ]
    },
    {
     "name": "stderr",
     "output_type": "stream",
     "text": [
      " 44%|████▍     | 283/638 [2:05:18<8:28:11, 85.89s/it]"
     ]
    },
    {
     "name": "stdout",
     "output_type": "stream",
     "text": [
      "A new study has shown that an AI can learn to play games better than a human player if it is given the ability to be curious.\n"
     ]
    },
    {
     "name": "stderr",
     "output_type": "stream",
     "text": [
      " 45%|████▍     | 284/638 [2:06:25<7:52:57, 80.16s/it]"
     ]
    },
    {
     "name": "stdout",
     "output_type": "stream",
     "text": [
      "A Hungarian computer scientist has developed a way to make robots dance.\n"
     ]
    },
    {
     "name": "stderr",
     "output_type": "stream",
     "text": [
      " 45%|████▍     | 285/638 [2:07:35<7:32:52, 76.98s/it]"
     ]
    },
    {
     "name": "stdout",
     "output_type": "stream",
     "text": [
      "The next time you're playing a game, you might want to think twice before you start.\n"
     ]
    },
    {
     "name": "stderr",
     "output_type": "stream",
     "text": [
      " 45%|████▍     | 286/638 [2:09:21<8:22:43, 85.69s/it]"
     ]
    },
    {
     "name": "stdout",
     "output_type": "stream",
     "text": [
      "This week, we are going to talk about style transfer, a problem in machine learning research where we have two input images, one for content, and one for style, and the output is our content image reimagined with this\n"
     ]
    },
    {
     "name": "stderr",
     "output_type": "stream",
     "text": [
      " 45%|████▍     | 287/638 [2:10:39<8:07:54, 83.40s/it]"
     ]
    },
    {
     "name": "stdout",
     "output_type": "stream",
     "text": [
      "In this week's video, I'm talking about a new technique that can create extremely detailed images with remarkable performance.\n"
     ]
    },
    {
     "name": "stderr",
     "output_type": "stream",
     "text": [
      " 45%|████▌     | 288/638 [2:12:08<8:17:17, 85.25s/it]"
     ]
    },
    {
     "name": "stdout",
     "output_type": "stream",
     "text": [
      "The director of the Institute of Computer Science and Engineering at the University of Vienna has made a video introducing the concept of reinforcement learning.\n"
     ]
    },
    {
     "name": "stderr",
     "output_type": "stream",
     "text": [
      " 45%|████▌     | 289/638 [2:13:20<7:52:36, 81.25s/it]"
     ]
    },
    {
     "name": "stdout",
     "output_type": "stream",
     "text": [
      "DeepMind scientists have published a paper on how to make AIs more human-like.\n"
     ]
    },
    {
     "name": "stderr",
     "output_type": "stream",
     "text": [
      " 45%|████▌     | 290/638 [2:14:39<7:46:46, 80.48s/it]"
     ]
    },
    {
     "name": "stdout",
     "output_type": "stream",
     "text": [
      "This week on Two Minute Papers, we're talking about reinforcement learning, and how it can be used to teach an AI to play games.\n"
     ]
    },
    {
     "name": "stderr",
     "output_type": "stream",
     "text": [
      " 46%|████▌     | 291/638 [2:16:11<8:06:34, 84.13s/it]"
     ]
    },
    {
     "name": "stdout",
     "output_type": "stream",
     "text": [
      "Károly Zsoltai-Fehér is a PhD student at the University of California, Berkeley, where he is working on a project to develop artificial intelligence.\n"
     ]
    },
    {
     "name": "stderr",
     "output_type": "stream",
     "text": [
      " 46%|████▌     | 292/638 [2:17:24<7:45:47, 80.77s/it]"
     ]
    },
    {
     "name": "stdout",
     "output_type": "stream",
     "text": [
      "Listen to this week's episode of The Two Minute Papers - it's all about binaural audio!\n"
     ]
    },
    {
     "name": "stderr",
     "output_type": "stream",
     "text": [
      " 46%|████▌     | 293/638 [2:18:16<6:55:00, 72.18s/it]"
     ]
    },
    {
     "name": "stdout",
     "output_type": "stream",
     "text": [
      "goodkind of student\n"
     ]
    },
    {
     "name": "stderr",
     "output_type": "stream",
     "text": [
      " 46%|████▌     | 294/638 [2:19:58<7:43:52, 80.91s/it]"
     ]
    },
    {
     "name": "stdout",
     "output_type": "stream",
     "text": [
      "Károly Zsolnai-Fehér is a computer scientist at NVIDIA who is the host of CNN Tech's Two Minute Papers. The show is sponsored by NVIDIA.\n"
     ]
    },
    {
     "name": "stderr",
     "output_type": "stream",
     "text": [
      " 46%|████▌     | 295/638 [2:21:39<8:18:00, 87.11s/it]"
     ]
    },
    {
     "name": "stdout",
     "output_type": "stream",
     "text": [
      "DeepMind has created an AI that can play Starcraft 2. The AI, AlphaStar, won the first game 7 minutes in, noting that in-game time is a little faster than real-time. AlphaStar can also see\n"
     ]
    },
    {
     "name": "stderr",
     "output_type": "stream",
     "text": [
      " 46%|████▋     | 296/638 [2:23:22<8:43:57, 91.92s/it]"
     ]
    },
    {
     "name": "stdout",
     "output_type": "stream",
     "text": [
      "The next two weeks of our Two Minute Papers series will focus on the topic of light and light simulators. The third and final week will be devoted to the subject of virtual reality and the development of head-mounted displays.\n"
     ]
    },
    {
     "name": "stderr",
     "output_type": "stream",
     "text": [
      " 47%|████▋     | 297/638 [2:24:24<7:50:55, 82.86s/it]"
     ]
    },
    {
     "name": "stdout",
     "output_type": "stream",
     "text": [
      "The End of the World as We Know It\n"
     ]
    },
    {
     "name": "stderr",
     "output_type": "stream",
     "text": [
      " 47%|████▋     | 298/638 [2:25:42<7:40:39, 81.29s/it]"
     ]
    },
    {
     "name": "stdout",
     "output_type": "stream",
     "text": [
      "Károly Zsolnai-Fehér is a computer scientist at the University of California, Berkeley.\n"
     ]
    },
    {
     "name": "stderr",
     "output_type": "stream",
     "text": [
      " 47%|████▋     | 299/638 [2:27:27<8:19:51, 88.47s/it]"
     ]
    },
    {
     "name": "stdout",
     "output_type": "stream",
     "text": [
      "Károly Zsolnai-Fehér is a PhD student at the University of California, Berkeley. He is a co-founder of the UC Berkeley Machine Learning Lab, and he is the author of\n"
     ]
    },
    {
     "name": "stderr",
     "output_type": "stream",
     "text": [
      " 47%|████▋     | 300/638 [2:28:28<7:32:28, 80.32s/it]"
     ]
    },
    {
     "name": "stdout",
     "output_type": "stream",
     "text": [
      "Pose estimation is a hugely important problem in computer vision.\n"
     ]
    },
    {
     "name": "stderr",
     "output_type": "stream",
     "text": [
      " 47%|████▋     | 301/638 [2:29:51<7:35:22, 81.08s/it]"
     ]
    },
    {
     "name": "stdout",
     "output_type": "stream",
     "text": [
      "Károly Zsolnai-Fehér is a computer scientist at the University of California, Berkeley.\n"
     ]
    },
    {
     "name": "stderr",
     "output_type": "stream",
     "text": [
      " 47%|████▋     | 302/638 [2:31:07<7:25:15, 79.51s/it]"
     ]
    },
    {
     "name": "stdout",
     "output_type": "stream",
     "text": [
      "The co-author of a paper on peer review has published a video on YouTube explaining the importance of the process.\n"
     ]
    },
    {
     "name": "stderr",
     "output_type": "stream",
     "text": [
      " 47%|████▋     | 303/638 [2:32:19<7:11:13, 77.24s/it]"
     ]
    },
    {
     "name": "stdout",
     "output_type": "stream",
     "text": [
      "Scientists have been working on a way to make neural networks more human-like.\n"
     ]
    },
    {
     "name": "stderr",
     "output_type": "stream",
     "text": [
      " 48%|████▊     | 304/638 [2:33:43<7:20:39, 79.16s/it]"
     ]
    },
    {
     "name": "stdout",
     "output_type": "stream",
     "text": [
      "Károly Zsolnai-Fehér is a PhD student at the University of California, Berkeley.\n"
     ]
    },
    {
     "name": "stderr",
     "output_type": "stream",
     "text": [
      " 48%|████▊     | 305/638 [2:34:55<7:08:29, 77.21s/it]"
     ]
    },
    {
     "name": "stdout",
     "output_type": "stream",
     "text": [
      "This week, we are going to learn how to edit an image using a neural network.\n"
     ]
    },
    {
     "name": "stderr",
     "output_type": "stream",
     "text": [
      " 48%|████▊     | 306/638 [2:36:03<6:51:51, 74.43s/it]"
     ]
    },
    {
     "name": "stdout",
     "output_type": "stream",
     "text": [
      "The fluids in this video are simulated using a neural network.\n"
     ]
    },
    {
     "name": "stderr",
     "output_type": "stream",
     "text": [
      " 48%|████▊     | 307/638 [2:37:23<7:00:09, 76.16s/it]"
     ]
    },
    {
     "name": "stdout",
     "output_type": "stream",
     "text": [
      "DeepMind has released a paper on a game called Hanabi that it claims is the next frontier in AI research.\n"
     ]
    },
    {
     "name": "stderr",
     "output_type": "stream",
     "text": [
      " 48%|████▊     | 308/638 [2:38:38<6:56:43, 75.77s/it]"
     ]
    },
    {
     "name": "stdout",
     "output_type": "stream",
     "text": [
      "PlaNET is a technique that is meant to solve challenging image-based planning tasks with sparse rewards.\n"
     ]
    },
    {
     "name": "stderr",
     "output_type": "stream",
     "text": [
      " 48%|████▊     | 309/638 [2:39:47<6:43:24, 73.57s/it]"
     ]
    },
    {
     "name": "stdout",
     "output_type": "stream",
     "text": [
      "The latest episode of Two Minute Papers is all about neural networks.\n"
     ]
    },
    {
     "name": "stderr",
     "output_type": "stream",
     "text": [
      " 49%|████▊     | 310/638 [2:41:16<7:07:40, 78.23s/it]"
     ]
    },
    {
     "name": "stdout",
     "output_type": "stream",
     "text": [
      "NeuroSAT is a neural network-based learning method that can solve satisfiability problems using polynomial-time reduction, according to its creator.\n"
     ]
    },
    {
     "name": "stderr",
     "output_type": "stream",
     "text": [
      " 49%|████▊     | 311/638 [2:42:28<6:57:09, 76.54s/it]"
     ]
    },
    {
     "name": "stdout",
     "output_type": "stream",
     "text": [
      "The video below shows a block of sand being granulated in a computer simulation.\n"
     ]
    },
    {
     "name": "stderr",
     "output_type": "stream",
     "text": [
      " 49%|████▉     | 312/638 [2:44:19<7:51:44, 86.82s/it]"
     ]
    },
    {
     "name": "stdout",
     "output_type": "stream",
     "text": [
      "The Bitter Lesson is a short article on how we should do research. It argues that we shouldn't try to rebuild the mind, but try to build a method that can capture arbitrary complexity and scale it up\n"
     ]
    },
    {
     "name": "stderr",
     "output_type": "stream",
     "text": [
      " 49%|████▉     | 313/638 [2:45:33<7:29:48, 83.04s/it]"
     ]
    },
    {
     "name": "stdout",
     "output_type": "stream",
     "text": [
      "The next Two Minute Papers will be on February 14th and 15th at 10:30am and 11:00am.\n"
     ]
    },
    {
     "name": "stderr",
     "output_type": "stream",
     "text": [
      " 49%|████▉     | 314/638 [2:46:53<7:22:38, 81.97s/it]"
     ]
    },
    {
     "name": "stdout",
     "output_type": "stream",
     "text": [
      "OpenAI's Károly Zsolnai-Fehér has been talking about AI for two minutes.\n"
     ]
    },
    {
     "name": "stderr",
     "output_type": "stream",
     "text": [
      " 49%|████▉     | 315/638 [2:48:20<7:29:47, 83.55s/it]"
     ]
    },
    {
     "name": "stdout",
     "output_type": "stream",
     "text": [
      "The next Two Minute Papers will be on November 14th and 15th at 10:30am and 11:00am, and on November 17th and 18th at 12:30pm.\n"
     ]
    },
    {
     "name": "stderr",
     "output_type": "stream",
     "text": [
      " 50%|████▉     | 316/638 [2:49:28<7:03:07, 78.84s/it]"
     ]
    },
    {
     "name": "stdout",
     "output_type": "stream",
     "text": [
      "The next episode of Two Minute Papers is on Monday, November 14th at 10am GMT.\n"
     ]
    },
    {
     "name": "stderr",
     "output_type": "stream",
     "text": [
      " 50%|████▉     | 317/638 [2:50:36<6:44:18, 75.57s/it]"
     ]
    },
    {
     "name": "stdout",
     "output_type": "stream",
     "text": [
      "Two Minute Papers with Károly Zsoltai-Fehér\n"
     ]
    },
    {
     "name": "stderr",
     "output_type": "stream",
     "text": [
      " 50%|████▉     | 318/638 [2:51:25<6:00:57, 67.68s/it]"
     ]
    },
    {
     "name": "stdout",
     "output_type": "stream",
     "text": [
      "The Dragon That Could\n"
     ]
    },
    {
     "name": "stderr",
     "output_type": "stream",
     "text": [
      " 50%|█████     | 319/638 [2:52:55<6:34:47, 74.26s/it]"
     ]
    },
    {
     "name": "stdout",
     "output_type": "stream",
     "text": [
      "DeepMind's AI is getting better at recognising the world around it, but it's still not good enough to beat humans at games like StarCraft 2.\n"
     ]
    },
    {
     "name": "stderr",
     "output_type": "stream",
     "text": [
      " 50%|█████     | 320/638 [2:54:06<6:28:00, 73.21s/it]"
     ]
    },
    {
     "name": "stdout",
     "output_type": "stream",
     "text": [
      "The BBC's Two Minute Papers is back with a special programme exploring the latest developments in artificial intelligence.\n"
     ]
    },
    {
     "name": "stderr",
     "output_type": "stream",
     "text": [
      " 50%|█████     | 321/638 [2:55:19<6:26:58, 73.24s/it]"
     ]
    },
    {
     "name": "stdout",
     "output_type": "stream",
     "text": [
      "The 2014 Winter Olympics are just around the corner, and the BBC has been looking at some of the science behind the games.\n"
     ]
    },
    {
     "name": "stderr",
     "output_type": "stream",
     "text": [
      " 50%|█████     | 322/638 [2:56:46<6:47:40, 77.41s/it]"
     ]
    },
    {
     "name": "stdout",
     "output_type": "stream",
     "text": [
      "The OpenAI Five team took part in a live demonstration of its skills at the recent TED (Technology, Entertainment and Design) conference in San Francisco.\n"
     ]
    },
    {
     "name": "stderr",
     "output_type": "stream",
     "text": [
      " 51%|█████     | 323/638 [2:58:02<6:44:12, 76.99s/it]"
     ]
    },
    {
     "name": "stdout",
     "output_type": "stream",
     "text": [
      "The Two Minute Papers are a series of short, entertaining videos that examine the most interesting and pressing issues in science and technology.\n"
     ]
    },
    {
     "name": "stderr",
     "output_type": "stream",
     "text": [
      " 51%|█████     | 324/638 [2:59:23<6:49:02, 78.16s/it]"
     ]
    },
    {
     "name": "stdout",
     "output_type": "stream",
     "text": [
      "Google has outmuscled neural networks in the field of image processing, and now they're showing off their latest technology in a video.\n"
     ]
    },
    {
     "name": "stderr",
     "output_type": "stream",
     "text": [
      " 51%|█████     | 325/638 [3:01:10<7:32:21, 86.71s/it]"
     ]
    },
    {
     "name": "stdout",
     "output_type": "stream",
     "text": [
      "Deep reinforcement learning is a promising research direction for AI, but it has a number of limitations, says Károly Zsolnai-Fehér, a professor of computer science at the University of California, Berkeley\n"
     ]
    },
    {
     "name": "stderr",
     "output_type": "stream",
     "text": [
      " 51%|█████     | 326/638 [3:02:19<7:04:12, 81.58s/it]"
     ]
    },
    {
     "name": "stdout",
     "output_type": "stream",
     "text": [
      "The internet is full of people who want to know how to translate an image from one language to another.\n"
     ]
    },
    {
     "name": "stderr",
     "output_type": "stream",
     "text": [
      " 51%|█████▏    | 327/638 [3:03:45<7:10:04, 82.97s/it]"
     ]
    },
    {
     "name": "stdout",
     "output_type": "stream",
     "text": [
      "A paper from DeepMind is about taking a bunch of learning algorithms and torturing them with millions of classic math questions to find out if they can solve them.\n"
     ]
    },
    {
     "name": "stderr",
     "output_type": "stream",
     "text": [
      " 51%|█████▏    | 328/638 [3:04:57<6:51:03, 79.56s/it]"
     ]
    },
    {
     "name": "stdout",
     "output_type": "stream",
     "text": [
      "This week, we're going to talk about a paper that's just out of this world.\n"
     ]
    },
    {
     "name": "stderr",
     "output_type": "stream",
     "text": [
      " 52%|█████▏    | 329/638 [3:06:39<7:24:15, 86.26s/it]"
     ]
    },
    {
     "name": "stdout",
     "output_type": "stream",
     "text": [
      "Károly Zsolnai-Fehér is a PhD student at the Technical University of Munich and a researcher at Stanford University. He is the co-author of a new paper on predicting what a\n"
     ]
    },
    {
     "name": "stderr",
     "output_type": "stream",
     "text": [
      " 52%|█████▏    | 330/638 [3:07:41<6:45:00, 78.90s/it]"
     ]
    },
    {
     "name": "stdout",
     "output_type": "stream",
     "text": [
      "Google has released an AI that can translate speech from one language into another language.\n"
     ]
    },
    {
     "name": "stderr",
     "output_type": "stream",
     "text": [
      " 52%|█████▏    | 331/638 [3:08:56<6:38:22, 77.86s/it]"
     ]
    },
    {
     "name": "stdout",
     "output_type": "stream",
     "text": [
      "The next two papers in the series will be on September 14 and September 21, 2014, and on September 22 and September 23, 2014.\n"
     ]
    },
    {
     "name": "stderr",
     "output_type": "stream",
     "text": [
      " 52%|█████▏    | 332/638 [3:10:37<7:12:07, 84.73s/it]"
     ]
    },
    {
     "name": "stdout",
     "output_type": "stream",
     "text": [
      "Károly Zsolnai-Fehér is the co-founder of OpenAI, a company that develops AI systems. In this video, he shows how a general learning algorithm can be used to\n"
     ]
    },
    {
     "name": "stderr",
     "output_type": "stream",
     "text": [
      " 52%|█████▏    | 333/638 [3:11:53<6:57:16, 82.09s/it]"
     ]
    },
    {
     "name": "stdout",
     "output_type": "stream",
     "text": [
      "The first episode of Two Minute Papers with Károly Zsolnai-Fehér is here.\n"
     ]
    },
    {
     "name": "stderr",
     "output_type": "stream",
     "text": [
      " 52%|█████▏    | 334/638 [3:13:17<6:58:56, 82.69s/it]"
     ]
    },
    {
     "name": "stdout",
     "output_type": "stream",
     "text": [
      "This week, we're talking about a new paper that shows off a new kind of AI that can create animations from just one photo.\n"
     ]
    },
    {
     "name": "stderr",
     "output_type": "stream",
     "text": [
      " 53%|█████▎    | 335/638 [3:14:30<6:43:45, 79.95s/it]"
     ]
    },
    {
     "name": "stdout",
     "output_type": "stream",
     "text": [
      "The next Two Minute Papers will be on Monday, November 14th at 10:30am on CNN.com/2minutes.\n"
     ]
    },
    {
     "name": "stderr",
     "output_type": "stream",
     "text": [
      " 53%|█████▎    | 336/638 [3:15:33<6:16:05, 74.72s/it]"
     ]
    },
    {
     "name": "stdout",
     "output_type": "stream",
     "text": [
      "WaveNet is a powerful tool for learning how to speak and writing.\n"
     ]
    },
    {
     "name": "stderr",
     "output_type": "stream",
     "text": [
      " 53%|█████▎    | 337/638 [3:16:50<6:18:47, 75.51s/it]"
     ]
    },
    {
     "name": "stdout",
     "output_type": "stream",
     "text": [
      "The University of Wisconsin-Madison is launching a new series of short videos called Two Minute Papers.\n"
     ]
    },
    {
     "name": "stderr",
     "output_type": "stream",
     "text": [
      " 53%|█████▎    | 338/638 [3:18:12<6:26:24, 77.28s/it]"
     ]
    },
    {
     "name": "stdout",
     "output_type": "stream",
     "text": [
      "The Daily Mail's tech correspondent Károly Zsolnai-Fehér is back with another episode of Two Minute Papers.\n"
     ]
    },
    {
     "name": "stderr",
     "output_type": "stream",
     "text": [
      " 53%|█████▎    | 339/638 [3:19:32<6:29:05, 78.08s/it]"
     ]
    },
    {
     "name": "stdout",
     "output_type": "stream",
     "text": [
      "Károly Zsolnai-Fehér is a professor of physics at the University of California, Berkeley.\n"
     ]
    },
    {
     "name": "stderr",
     "output_type": "stream",
     "text": [
      " 53%|█████▎    | 340/638 [3:21:24<7:18:12, 88.23s/it]"
     ]
    },
    {
     "name": "stdout",
     "output_type": "stream",
     "text": [
      "Károly Zsolnai-Fehér is a PhD student at the University of California, Berkeley. He is a co-author of a paper published in the journal PLOS ONE.\n"
     ]
    },
    {
     "name": "stderr",
     "output_type": "stream",
     "text": [
      " 53%|█████▎    | 341/638 [3:22:29<6:42:30, 81.31s/it]"
     ]
    },
    {
     "name": "stdout",
     "output_type": "stream",
     "text": [
      "Google has been working on a way to create 3D images of moving people.\n"
     ]
    },
    {
     "name": "stderr",
     "output_type": "stream",
     "text": [
      " 54%|█████▎    | 342/638 [3:23:58<6:53:13, 83.76s/it]"
     ]
    },
    {
     "name": "stdout",
     "output_type": "stream",
     "text": [
      "The Mail Online's science and technology editor Károly Zsolnai-Fehér is back with another episode of his Two Minute Papers series.\n"
     ]
    },
    {
     "name": "stderr",
     "output_type": "stream",
     "text": [
      " 54%|█████▍    | 343/638 [3:25:41<7:20:04, 89.51s/it]"
     ]
    },
    {
     "name": "stdout",
     "output_type": "stream",
     "text": [
      "Károly Zsolnai-Fehér is a PhD student in computer science at the University of California, Berkeley. He is the author of two papers on style transfer, one on video and the other on image recognition\n"
     ]
    },
    {
     "name": "stderr",
     "output_type": "stream",
     "text": [
      " 54%|█████▍    | 344/638 [3:26:58<7:00:38, 85.85s/it]"
     ]
    },
    {
     "name": "stdout",
     "output_type": "stream",
     "text": [
      "A team of researchers at the University of California, Berkeley, has built a poker AI that can beat professional players at the game.\n"
     ]
    },
    {
     "name": "stderr",
     "output_type": "stream",
     "text": [
      " 54%|█████▍    | 345/638 [3:28:35<7:15:03, 89.09s/it]"
     ]
    },
    {
     "name": "stdout",
     "output_type": "stream",
     "text": [
      "Károly Zsolnai-Fehér is a Hungarian entrepreneur and a co-founder of the Hungarian startup, iMotion.\n"
     ]
    },
    {
     "name": "stderr",
     "output_type": "stream",
     "text": [
      " 54%|█████▍    | 346/638 [3:29:48<6:50:02, 84.26s/it]"
     ]
    },
    {
     "name": "stdout",
     "output_type": "stream",
     "text": [
      "The final episode of Two Minute Papers is on November 16th at 9:30 am ET and 10:00 am ET.\n"
     ]
    },
    {
     "name": "stderr",
     "output_type": "stream",
     "text": [
      " 54%|█████▍    | 347/638 [3:31:04<6:36:18, 81.71s/it]"
     ]
    },
    {
     "name": "stdout",
     "output_type": "stream",
     "text": [
      "DeepMind's neural networks have created a video that can identify objects in a scene.\n"
     ]
    },
    {
     "name": "stderr",
     "output_type": "stream",
     "text": [
      " 55%|█████▍    | 348/638 [3:32:24<6:32:17, 81.16s/it]"
     ]
    },
    {
     "name": "stdout",
     "output_type": "stream",
     "text": [
      "A new way to synthesize images using machine learning has been created by researchers at the University of California, Berkeley.\n"
     ]
    },
    {
     "name": "stderr",
     "output_type": "stream",
     "text": [
      " 55%|█████▍    | 349/638 [3:33:35<6:16:04, 78.08s/it]"
     ]
    },
    {
     "name": "stdout",
     "output_type": "stream",
     "text": [
      "The Two Minute Papers is a weekly series of short videos exploring the intersection of computer graphics and machine learning.\n"
     ]
    },
    {
     "name": "stderr",
     "output_type": "stream",
     "text": [
      " 55%|█████▍    | 350/638 [3:35:18<6:50:51, 85.60s/it]"
     ]
    },
    {
     "name": "stdout",
     "output_type": "stream",
     "text": [
      "The first half of this video is about a paper, and the second part is about...something else. Make sure to click the link to both works in the video description, and spend a little quality time with them. You’ll\n"
     ]
    },
    {
     "name": "stderr",
     "output_type": "stream",
     "text": [
      " 55%|█████▌    | 351/638 [3:36:27<6:26:15, 80.75s/it]"
     ]
    },
    {
     "name": "stdout",
     "output_type": "stream",
     "text": [
      "This week, we're talking about a new method that can do image segmentation.\n"
     ]
    },
    {
     "name": "stderr",
     "output_type": "stream",
     "text": [
      " 55%|█████▌    | 352/638 [3:37:49<6:26:49, 81.15s/it]"
     ]
    },
    {
     "name": "stdout",
     "output_type": "stream",
     "text": [
      "This week, we're talking about a new technique that can transfer more than just gestures.\n"
     ]
    },
    {
     "name": "stderr",
     "output_type": "stream",
     "text": [
      " 55%|█████▌    | 353/638 [3:38:45<5:49:00, 73.47s/it]"
     ]
    },
    {
     "name": "stdout",
     "output_type": "stream",
     "text": [
      "The latest Two Minute Paper is out!\n"
     ]
    },
    {
     "name": "stderr",
     "output_type": "stream",
     "text": [
      " 55%|█████▌    | 354/638 [3:40:15<6:11:13, 78.43s/it]"
     ]
    },
    {
     "name": "stdout",
     "output_type": "stream",
     "text": [
      "DeepMind's research into artificial intelligence has been a hot topic in the media recently, and now researchers have published a paper that explains how they tested their system.\n"
     ]
    },
    {
     "name": "stderr",
     "output_type": "stream",
     "text": [
      " 56%|█████▌    | 355/638 [3:42:00<6:47:14, 86.34s/it]"
     ]
    },
    {
     "name": "stdout",
     "output_type": "stream",
     "text": [
      "OpenAI GPT-2 is a learning-based technique which can perform common natural language processing operations. The AI reads 40 gigabytes of internet text, which is 40 gigabytes of non-binary plaintext\n"
     ]
    },
    {
     "name": "stderr",
     "output_type": "stream",
     "text": [
      " 56%|█████▌    | 356/638 [3:43:19<6:36:25, 84.35s/it]"
     ]
    },
    {
     "name": "stdout",
     "output_type": "stream",
     "text": [
      "Google Brain has created a physics-based football simulation where we can ask an AI to control one, or multiple players in this virtual environment.\n"
     ]
    },
    {
     "name": "stderr",
     "output_type": "stream",
     "text": [
      " 56%|█████▌    | 357/638 [3:44:34<6:21:06, 81.38s/it]"
     ]
    },
    {
     "name": "stdout",
     "output_type": "stream",
     "text": [
      "Károly Zsolnai-Fehér is a computer scientist at the University of California, Berkeley.\n"
     ]
    },
    {
     "name": "stderr",
     "output_type": "stream",
     "text": [
      " 56%|█████▌    | 358/638 [3:46:18<6:51:44, 88.23s/it]"
     ]
    },
    {
     "name": "stdout",
     "output_type": "stream",
     "text": [
      "Károly Zsolnai-Fehér is a PhD student at the University of California, Berkeley. He is a research fellow at the Center for Digital Forensics at the University of California, Berkeley\n"
     ]
    },
    {
     "name": "stderr",
     "output_type": "stream",
     "text": [
      " 56%|█████▋    | 359/638 [3:47:34<6:33:36, 84.65s/it]"
     ]
    },
    {
     "name": "stdout",
     "output_type": "stream",
     "text": [
      "The final episode of our Two Minute Papers series will be dedicated to the science and computer science of human movement.\n"
     ]
    },
    {
     "name": "stderr",
     "output_type": "stream",
     "text": [
      " 56%|█████▋    | 360/638 [3:49:18<6:58:16, 90.28s/it]"
     ]
    },
    {
     "name": "stdout",
     "output_type": "stream",
     "text": [
      "The Two Minute Papers is a weekly, off-beat look at the latest in science and technology. This week, we look at a new technique that was able to look at unlabeled motion data, and learned to\n"
     ]
    },
    {
     "name": "stderr",
     "output_type": "stream",
     "text": [
      " 57%|█████▋    | 361/638 [3:50:22<6:21:03, 82.54s/it]"
     ]
    },
    {
     "name": "stdout",
     "output_type": "stream",
     "text": [
      "OpenAI has created a system that can learn to surf on top of boxes.\n"
     ]
    },
    {
     "name": "stderr",
     "output_type": "stream",
     "text": [
      " 57%|█████▋    | 362/638 [3:51:15<5:39:02, 73.71s/it]"
     ]
    },
    {
     "name": "stdout",
     "output_type": "stream",
     "text": [
      "Back to the page you came from.\n"
     ]
    },
    {
     "name": "stderr",
     "output_type": "stream",
     "text": [
      " 57%|█████▋    | 363/638 [3:52:22<5:28:09, 71.60s/it]"
     ]
    },
    {
     "name": "stdout",
     "output_type": "stream",
     "text": [
      "The latest video in the Two Minute Papers series is about cubification of 3D geometry.\n"
     ]
    },
    {
     "name": "stderr",
     "output_type": "stream",
     "text": [
      " 57%|█████▋    | 364/638 [3:53:35<5:29:18, 72.11s/it]"
     ]
    },
    {
     "name": "stdout",
     "output_type": "stream",
     "text": [
      "The final episode of our series Two Minute Papers is coming up on November 14th, 2014, at 10am GMT.\n"
     ]
    },
    {
     "name": "stderr",
     "output_type": "stream",
     "text": [
      " 57%|█████▋    | 365/638 [3:55:18<6:09:39, 81.24s/it]"
     ]
    },
    {
     "name": "stdout",
     "output_type": "stream",
     "text": [
      "Károly Zsolnai-Fehér is a computer scientist at Google. He is the co-creator of the Two Minute Papers series, a series of short videos that explain interesting research in a\n"
     ]
    },
    {
     "name": "stderr",
     "output_type": "stream",
     "text": [
      " 57%|█████▋    | 366/638 [3:56:29<5:54:55, 78.29s/it]"
     ]
    },
    {
     "name": "stdout",
     "output_type": "stream",
     "text": [
      "The future of voice recognition is here, and it's not going to be a big leap.\n"
     ]
    },
    {
     "name": "stderr",
     "output_type": "stream",
     "text": [
      " 58%|█████▊    | 367/638 [3:57:44<5:49:28, 77.37s/it]"
     ]
    },
    {
     "name": "stdout",
     "output_type": "stream",
     "text": [
      "Researchers at Texas A&M University have developed a new way to create realistic animations of bipedal characters.\n"
     ]
    },
    {
     "name": "stderr",
     "output_type": "stream",
     "text": [
      " 58%|█████▊    | 368/638 [3:58:58<5:42:24, 76.09s/it]"
     ]
    },
    {
     "name": "stdout",
     "output_type": "stream",
     "text": [
      "The makers of the Rubik's Cube have created a robot that can solve the puzzle.\n"
     ]
    },
    {
     "name": "stderr",
     "output_type": "stream",
     "text": [
      " 58%|█████▊    | 369/638 [3:59:57<5:18:35, 71.06s/it]"
     ]
    },
    {
     "name": "stdout",
     "output_type": "stream",
     "text": [
      "The final episode of Two Minute Papers is here!\n"
     ]
    },
    {
     "name": "stderr",
     "output_type": "stream",
     "text": [
      " 58%|█████▊    | 370/638 [4:01:16<5:28:38, 73.58s/it]"
     ]
    },
    {
     "name": "stdout",
     "output_type": "stream",
     "text": [
      "Everybody Dance Now is a weekly, two-minute video series featuring the work of Hungarian computer scientists at the University of Cambridge.\n"
     ]
    },
    {
     "name": "stderr",
     "output_type": "stream",
     "text": [
      " 58%|█████▊    | 371/638 [4:02:37<5:36:36, 75.64s/it]"
     ]
    },
    {
     "name": "stdout",
     "output_type": "stream",
     "text": [
      "DeepMind's AlphaStar AI has just beaten the best players in the world at Starcraft 2, a real-time strategy game.\n"
     ]
    },
    {
     "name": "stderr",
     "output_type": "stream",
     "text": [
      " 58%|█████▊    | 372/638 [4:03:36<5:13:17, 70.67s/it]"
     ]
    },
    {
     "name": "stdout",
     "output_type": "stream",
     "text": [
      "This week, we're talking about hair.\n"
     ]
    },
    {
     "name": "stderr",
     "output_type": "stream",
     "text": [
      " 58%|█████▊    | 373/638 [4:05:18<5:53:41, 80.08s/it]"
     ]
    },
    {
     "name": "stdout",
     "output_type": "stream",
     "text": [
      "The Two Minute Papers team is happy to have you as a guest on this week's episode of the Two Minute Paper Show, which airs at 9am ET/PT on Wednesday, September 26th and Thursday, September 27th\n"
     ]
    },
    {
     "name": "stderr",
     "output_type": "stream",
     "text": [
      " 59%|█████▊    | 374/638 [4:06:41<5:56:49, 81.10s/it]"
     ]
    },
    {
     "name": "stdout",
     "output_type": "stream",
     "text": [
      "Károly Zsolnai-Fehér is a PhD student at Stanford University and the author of two books on deep learning.\n"
     ]
    },
    {
     "name": "stderr",
     "output_type": "stream",
     "text": [
      " 59%|█████▉    | 375/638 [4:08:25<6:25:45, 88.00s/it]"
     ]
    },
    {
     "name": "stdout",
     "output_type": "stream",
     "text": [
      "Károly Zsolnai-Fehér is a PhD student at the University of California, Berkeley. He is working on a learning-based assembler robot that can put together simple contraptions.\n"
     ]
    },
    {
     "name": "stderr",
     "output_type": "stream",
     "text": [
      " 59%|█████▉    | 376/638 [4:09:55<6:25:40, 88.32s/it]"
     ]
    },
    {
     "name": "stdout",
     "output_type": "stream",
     "text": [
      "DeepMind has just released a new algorithm that can play chess, and it's a lot better than the one that beats us at the game.\n"
     ]
    },
    {
     "name": "stderr",
     "output_type": "stream",
     "text": [
      " 59%|█████▉    | 377/638 [4:10:59<5:53:22, 81.23s/it]"
     ]
    },
    {
     "name": "stdout",
     "output_type": "stream",
     "text": [
      "This week, we're looking at a paper on baking.\n"
     ]
    },
    {
     "name": "stderr",
     "output_type": "stream",
     "text": [
      " 59%|█████▉    | 378/638 [4:11:59<5:23:25, 74.64s/it]"
     ]
    },
    {
     "name": "stdout",
     "output_type": "stream",
     "text": [
      "The next two minutes of the Two Minute Papers series are here!\n"
     ]
    },
    {
     "name": "stderr",
     "output_type": "stream",
     "text": [
      " 59%|█████▉    | 379/638 [4:13:33<5:47:37, 80.53s/it]"
     ]
    },
    {
     "name": "stdout",
     "output_type": "stream",
     "text": [
      "The video below shows how to add foam, spray and bubble particles to a fluid simulation. The technique is so simple that it can be implemented in Blender plugin called FLIP Fluids.\n"
     ]
    },
    {
     "name": "stderr",
     "output_type": "stream",
     "text": [
      " 60%|█████▉    | 380/638 [4:15:04<5:59:34, 83.62s/it]"
     ]
    },
    {
     "name": "stdout",
     "output_type": "stream",
     "text": [
      "The Blue Agent is a virtual character that can be controlled with a controller. It learns to imitate the motion of the White Agent, while being physically simulated.\n"
     ]
    },
    {
     "name": "stderr",
     "output_type": "stream",
     "text": [
      " 60%|█████▉    | 381/638 [4:16:23<5:52:39, 82.33s/it]"
     ]
    },
    {
     "name": "stdout",
     "output_type": "stream",
     "text": [
      "This week, we're going to be talking about a new research work that performs something that they call differentiable rendering.\n"
     ]
    },
    {
     "name": "stderr",
     "output_type": "stream",
     "text": [
      " 60%|█████▉    | 382/638 [4:17:28<5:29:01, 77.12s/it]"
     ]
    },
    {
     "name": "stdout",
     "output_type": "stream",
     "text": [
      "The latest episode of Two Minute Papers is all about neural networks.\n"
     ]
    },
    {
     "name": "stderr",
     "output_type": "stream",
     "text": [
      " 60%|██████    | 383/638 [4:18:48<5:32:00, 78.12s/it]"
     ]
    },
    {
     "name": "stdout",
     "output_type": "stream",
     "text": [
      "This week, we're looking at a paper about simulating how we can tear this loaf of bread apart.\n"
     ]
    },
    {
     "name": "stderr",
     "output_type": "stream",
     "text": [
      " 60%|██████    | 384/638 [4:20:02<5:24:35, 76.67s/it]"
     ]
    },
    {
     "name": "stdout",
     "output_type": "stream",
     "text": [
      "The Mail Online is bringing you a series of short videos from some of the brightest minds in artificial intelligence.\n"
     ]
    },
    {
     "name": "stderr",
     "output_type": "stream",
     "text": [
      " 60%|██████    | 385/638 [4:21:28<5:35:42, 79.62s/it]"
     ]
    },
    {
     "name": "stdout",
     "output_type": "stream",
     "text": [
      "The problem of how to relight a portrait is a common one, and it's one that has been a problem for a long time.\n"
     ]
    },
    {
     "name": "stderr",
     "output_type": "stream",
     "text": [
      " 61%|██████    | 386/638 [4:22:32<5:14:00, 74.76s/it]"
     ]
    },
    {
     "name": "stdout",
     "output_type": "stream",
     "text": [
      "The latest episode of Two Minute Papers is all about video production.\n"
     ]
    },
    {
     "name": "stderr",
     "output_type": "stream",
     "text": [
      " 61%|██████    | 387/638 [4:23:53<5:21:05, 76.75s/it]"
     ]
    },
    {
     "name": "stdout",
     "output_type": "stream",
     "text": [
      "The main paper of this episode of Two Minute Papers is about how to make light travel between points in space, and between two beams instead.\n"
     ]
    },
    {
     "name": "stderr",
     "output_type": "stream",
     "text": [
      " 61%|██████    | 388/638 [4:25:35<5:51:57, 84.47s/it]"
     ]
    },
    {
     "name": "stdout",
     "output_type": "stream",
     "text": [
      "Károly Zsolnai-Fehér is a professor of computer science at the University of California, Berkeley. He is the author of two books on computer vision and has been a visiting scientist at the University of\n"
     ]
    },
    {
     "name": "stderr",
     "output_type": "stream",
     "text": [
      " 61%|██████    | 389/638 [4:27:24<6:20:34, 91.70s/it]"
     ]
    },
    {
     "name": "stdout",
     "output_type": "stream",
     "text": [
      "DeepFake detection is a hot topic in the field of artificial intelligence, and a new paper published in the journal Nature Communications argues that it is possible to detect if an image was generated by one of these learning-based\n"
     ]
    },
    {
     "name": "stderr",
     "output_type": "stream",
     "text": [
      " 61%|██████    | 390/638 [4:28:28<5:45:14, 83.53s/it]"
     ]
    },
    {
     "name": "stdout",
     "output_type": "stream",
     "text": [
      "This week on Two Minute Papers, we're talking about the Paparazzi.\n"
     ]
    },
    {
     "name": "stderr",
     "output_type": "stream",
     "text": [
      " 61%|██████▏   | 391/638 [4:29:43<5:33:04, 80.91s/it]"
     ]
    },
    {
     "name": "stdout",
     "output_type": "stream",
     "text": [
      "This week, we are talking about how to make it to the top of the leaderboards in your deep learning projects.\n"
     ]
    },
    {
     "name": "stderr",
     "output_type": "stream",
     "text": [
      " 61%|██████▏   | 392/638 [4:30:53<5:18:02, 77.57s/it]"
     ]
    },
    {
     "name": "stdout",
     "output_type": "stream",
     "text": [
      "CycleGAN is a new technique for generating new images.\n"
     ]
    },
    {
     "name": "stderr",
     "output_type": "stream",
     "text": [
      " 62%|██████▏   | 393/638 [4:32:06<5:11:23, 76.26s/it]"
     ]
    },
    {
     "name": "stdout",
     "output_type": "stream",
     "text": [
      "A cellular automaton is a computer program that can be used to train a deep neural network.\n"
     ]
    },
    {
     "name": "stderr",
     "output_type": "stream",
     "text": [
      " 62%|██████▏   | 394/638 [4:33:49<5:42:10, 84.14s/it]"
     ]
    },
    {
     "name": "stdout",
     "output_type": "stream",
     "text": [
      "Meena is a chatbot that can answer questions sensibly and coherently, and is even capable of cracking a joke. This is measured with the Sensibleness and Specificity Average score, from now on, \n"
     ]
    },
    {
     "name": "stderr",
     "output_type": "stream",
     "text": [
      " 62%|██████▏   | 395/638 [4:35:34<6:05:52, 90.34s/it]"
     ]
    },
    {
     "name": "stdout",
     "output_type": "stream",
     "text": [
      "This week, we look at unsupervised depth learning from videos. Unsupervised learning is proper machine learning, where no crutches are allowed. We just unleash the algorithm on a bunch of data, with no labels, and if we\n"
     ]
    },
    {
     "name": "stderr",
     "output_type": "stream",
     "text": [
      " 62%|██████▏   | 396/638 [4:36:45<5:41:31, 84.68s/it]"
     ]
    },
    {
     "name": "stdout",
     "output_type": "stream",
     "text": [
      "DeepFakes: How to make a fake face from a video of yourself.\n"
     ]
    },
    {
     "name": "stderr",
     "output_type": "stream",
     "text": [
      " 62%|██████▏   | 397/638 [4:38:00<5:27:50, 81.62s/it]"
     ]
    },
    {
     "name": "stdout",
     "output_type": "stream",
     "text": [
      "This week, we're looking at how to create photorealistic images using a technique called light transport simulations.\n"
     ]
    },
    {
     "name": "stderr",
     "output_type": "stream",
     "text": [
      " 62%|██████▏   | 398/638 [4:39:38<5:47:02, 86.76s/it]"
     ]
    },
    {
     "name": "stdout",
     "output_type": "stream",
     "text": [
      "The next episode of Two Minute Papers with Károslav Zsoltai-Fehér is on Monday, November 14th at 10:30am GMT (GMT-4:30pm ET).\n"
     ]
    },
    {
     "name": "stderr",
     "output_type": "stream",
     "text": [
      " 63%|██████▎   | 399/638 [4:40:38<5:13:40, 78.75s/it]"
     ]
    },
    {
     "name": "stdout",
     "output_type": "stream",
     "text": [
      "This week, we're talking about facewapping.\n"
     ]
    },
    {
     "name": "stderr",
     "output_type": "stream",
     "text": [
      " 63%|██████▎   | 400/638 [4:41:58<5:13:41, 79.08s/it]"
     ]
    },
    {
     "name": "stdout",
     "output_type": "stream",
     "text": [
      "The Two Minute Papers is a weekly video series that features short, high-quality interviews with prominent researchers in the field of artificial intelligence.\n"
     ]
    },
    {
     "name": "stderr",
     "output_type": "stream",
     "text": [
      " 63%|██████▎   | 401/638 [4:43:28<5:25:00, 82.28s/it]"
     ]
    },
    {
     "name": "stdout",
     "output_type": "stream",
     "text": [
      "FaceForensics is a paper by the name of FaceForensics that contains a large dataset of original and manipulated video pairs.\n"
     ]
    },
    {
     "name": "stderr",
     "output_type": "stream",
     "text": [
      " 63%|██████▎   | 402/638 [4:44:44<5:16:46, 80.54s/it]"
     ]
    },
    {
     "name": "stdout",
     "output_type": "stream",
     "text": [
      "Károly Zsolnai-Fehér is a professor of computer science at the University of Southern California.\n"
     ]
    },
    {
     "name": "stderr",
     "output_type": "stream",
     "text": [
      " 63%|██████▎   | 403/638 [4:45:48<4:55:50, 75.53s/it]"
     ]
    },
    {
     "name": "stdout",
     "output_type": "stream",
     "text": [
      "CycleGAN is a neural network that can transform images into other images.\n"
     ]
    },
    {
     "name": "stderr",
     "output_type": "stream",
     "text": [
      " 63%|██████▎   | 404/638 [4:47:30<5:25:44, 83.52s/it]"
     ]
    },
    {
     "name": "stdout",
     "output_type": "stream",
     "text": [
      "The amount of detail we can simulate with computer programs is increasing every year. A new paper provides an extension to handle elastic objects, such as hair, rubber, and you will see that it even works for skin simulations. With this, we\n"
     ]
    },
    {
     "name": "stderr",
     "output_type": "stream",
     "text": [
      " 63%|██████▎   | 405/638 [4:49:11<5:43:44, 88.52s/it]"
     ]
    },
    {
     "name": "stdout",
     "output_type": "stream",
     "text": [
      "Károly Zsolnai-Fehér is a software engineer at the OpenAI Foundation, a non-profit organisation that aims to make artificial intelligence more accessible to the general public.\n"
     ]
    },
    {
     "name": "stderr",
     "output_type": "stream",
     "text": [
      " 64%|██████▎   | 406/638 [4:50:09<5:07:15, 79.46s/it]"
     ]
    },
    {
     "name": "stdout",
     "output_type": "stream",
     "text": [
      "The final episode of Two Minute Papers is here!\n"
     ]
    },
    {
     "name": "stderr",
     "output_type": "stream",
     "text": [
      " 64%|██████▍   | 407/638 [4:51:03<4:37:08, 71.99s/it]"
     ]
    },
    {
     "name": "stdout",
     "output_type": "stream",
     "text": [
      "The Two Minute Papers are back!\n"
     ]
    },
    {
     "name": "stderr",
     "output_type": "stream",
     "text": [
      " 64%|██████▍   | 408/638 [4:52:13<4:33:11, 71.27s/it]"
     ]
    },
    {
     "name": "stdout",
     "output_type": "stream",
     "text": [
      "The pong game is a great example of a game that can be broken by an adversary.\n"
     ]
    },
    {
     "name": "stderr",
     "output_type": "stream",
     "text": [
      " 64%|██████▍   | 409/638 [4:53:23<4:31:00, 71.01s/it]"
     ]
    },
    {
     "name": "stdout",
     "output_type": "stream",
     "text": [
      "The next episode of the Two Minute Paper series is on Friday, February 14th at 10am GMT.\n"
     ]
    },
    {
     "name": "stderr",
     "output_type": "stream",
     "text": [
      " 64%|██████▍   | 410/638 [4:54:19<4:12:14, 66.38s/it]"
     ]
    },
    {
     "name": "stdout",
     "output_type": "stream",
     "text": [
      "This week, we're talking about deep learning.\n"
     ]
    },
    {
     "name": "stderr",
     "output_type": "stream",
     "text": [
      " 64%|██████▍   | 411/638 [4:55:24<4:09:04, 65.84s/it]"
     ]
    },
    {
     "name": "stdout",
     "output_type": "stream",
     "text": [
      "The future of artificial intelligence is here, and it's looking pretty good.\n"
     ]
    },
    {
     "name": "stderr",
     "output_type": "stream",
     "text": [
      " 65%|██████▍   | 412/638 [4:56:41<4:21:17, 69.37s/it]"
     ]
    },
    {
     "name": "stdout",
     "output_type": "stream",
     "text": [
      "DeepMind has created a computer that can play all 57 Atari games better than humans.\n"
     ]
    },
    {
     "name": "stderr",
     "output_type": "stream",
     "text": [
      " 65%|██████▍   | 413/638 [4:58:24<4:57:40, 79.38s/it]"
     ]
    },
    {
     "name": "stdout",
     "output_type": "stream",
     "text": [
      "Two Minute Papers is a weekly, offbeat look at the latest in science and technology in the U.S. and around the world. This week, we look at two papers from the University of California, San Diego's Computer\n"
     ]
    },
    {
     "name": "stderr",
     "output_type": "stream",
     "text": [
      " 65%|██████▍   | 414/638 [4:59:24<4:34:11, 73.44s/it]"
     ]
    },
    {
     "name": "stdout",
     "output_type": "stream",
     "text": [
      "AI can help doctors to make better diagnoses in medical imaging\n"
     ]
    },
    {
     "name": "stderr",
     "output_type": "stream",
     "text": [
      " 65%|██████▌   | 415/638 [5:00:48<4:45:31, 76.82s/it]"
     ]
    },
    {
     "name": "stdout",
     "output_type": "stream",
     "text": [
      "The art world is going to be in awe of a new technique that can make even the most discerning art curators believe that the art is real.\n"
     ]
    },
    {
     "name": "stderr",
     "output_type": "stream",
     "text": [
      " 65%|██████▌   | 416/638 [5:02:08<4:47:18, 77.65s/it]"
     ]
    },
    {
     "name": "stdout",
     "output_type": "stream",
     "text": [
      "A new technique that enables us to create realistic-looking computer-generated characters has been developed by researchers at the University of California, Berkeley.\n"
     ]
    },
    {
     "name": "stderr",
     "output_type": "stream",
     "text": [
      " 65%|██████▌   | 417/638 [5:03:16<4:36:00, 74.93s/it]"
     ]
    },
    {
     "name": "stdout",
     "output_type": "stream",
     "text": [
      "OpenAI has created a music-making AI that can create a song for us.\n"
     ]
    },
    {
     "name": "stderr",
     "output_type": "stream",
     "text": [
      " 66%|██████▌   | 418/638 [5:04:22<4:24:19, 72.09s/it]"
     ]
    },
    {
     "name": "stdout",
     "output_type": "stream",
     "text": [
      "The fluid simulations are amazing, but neural networks are making them even better.\n"
     ]
    },
    {
     "name": "stderr",
     "output_type": "stream",
     "text": [
      " 66%|██████▌   | 419/638 [5:05:28<4:17:02, 70.42s/it]"
     ]
    },
    {
     "name": "stdout",
     "output_type": "stream",
     "text": [
      "The video is a bit longer than usual, but I hope you enjoy it.\n"
     ]
    },
    {
     "name": "stderr",
     "output_type": "stream",
     "text": [
      " 66%|██████▌   | 420/638 [5:06:33<4:09:03, 68.55s/it]"
     ]
    },
    {
     "name": "stdout",
     "output_type": "stream",
     "text": [
      "The latest episode of the Two Minute Papers podcast is out now.\n"
     ]
    },
    {
     "name": "stderr",
     "output_type": "stream",
     "text": [
      " 66%|██████▌   | 421/638 [5:08:17<4:47:11, 79.41s/it]"
     ]
    },
    {
     "name": "stdout",
     "output_type": "stream",
     "text": [
      "This week, we look at a new system that can generate photorealistic images from a written text description. The system is called StyleGAN and it was developed by researchers at NVIDIA. The technique can also perform image inter\n"
     ]
    },
    {
     "name": "stderr",
     "output_type": "stream",
     "text": [
      " 66%|██████▌   | 422/638 [5:09:24<4:31:48, 75.50s/it]"
     ]
    },
    {
     "name": "stdout",
     "output_type": "stream",
     "text": [
      "The first part of a two-part video series on neural network visualization has been released.\n"
     ]
    },
    {
     "name": "stderr",
     "output_type": "stream",
     "text": [
      " 66%|██████▋   | 423/638 [5:10:58<4:50:36, 81.10s/it]"
     ]
    },
    {
     "name": "stdout",
     "output_type": "stream",
     "text": [
      "A new technique that promises smooth and detailed depth maps that are of much higher quality than what previous works offer has been developed by researchers at the University of Wisconsin-Madison.\n"
     ]
    },
    {
     "name": "stderr",
     "output_type": "stream",
     "text": [
      " 66%|██████▋   | 424/638 [5:11:54<4:22:53, 73.71s/it]"
     ]
    },
    {
     "name": "stdout",
     "output_type": "stream",
     "text": [
      "Monte Carlo Geometry Processing\n"
     ]
    },
    {
     "name": "stderr",
     "output_type": "stream",
     "text": [
      " 67%|██████▋   | 425/638 [5:13:36<4:51:49, 82.20s/it]"
     ]
    },
    {
     "name": "stdout",
     "output_type": "stream",
     "text": [
      "A new technique is able to produce the entirety of this speech after looking at the video footage of the lip movements. Potential applications of this could be video conferencing in zones where we have to be silent, giving a voice to people with\n"
     ]
    },
    {
     "name": "stderr",
     "output_type": "stream",
     "text": [
      " 67%|██████▋   | 426/638 [5:14:33<4:23:29, 74.57s/it]"
     ]
    },
    {
     "name": "stdout",
     "output_type": "stream",
     "text": [
      "The Two Minute Papers series is back!\n"
     ]
    },
    {
     "name": "stderr",
     "output_type": "stream",
     "text": [
      " 67%|██████▋   | 427/638 [5:16:17<4:53:01, 83.32s/it]"
     ]
    },
    {
     "name": "stdout",
     "output_type": "stream",
     "text": [
      "StarGAN 2 can generate images of photorealistic human faces for people that don’t exist. It can also translate different features, for instance, ears, eyes, noses from a cat to a dog or a\n"
     ]
    },
    {
     "name": "stderr",
     "output_type": "stream",
     "text": [
      " 67%|██████▋   | 428/638 [5:17:29<4:39:56, 79.99s/it]"
     ]
    },
    {
     "name": "stdout",
     "output_type": "stream",
     "text": [
      "The Two Minute Paper is back with another look at the latest in science and technology.\n"
     ]
    },
    {
     "name": "stderr",
     "output_type": "stream",
     "text": [
      " 67%|██████▋   | 429/638 [5:19:05<4:55:01, 84.70s/it]"
     ]
    },
    {
     "name": "stdout",
     "output_type": "stream",
     "text": [
      "Károly Zsolnai-Fehér, a computer scientist at the University of California, Berkeley, has developed a new way to make virtual characters move.\n"
     ]
    },
    {
     "name": "stderr",
     "output_type": "stream",
     "text": [
      " 67%|██████▋   | 430/638 [5:20:37<5:01:45, 87.05s/it]"
     ]
    },
    {
     "name": "stdout",
     "output_type": "stream",
     "text": [
      "In the future, machines will be able to read and understand human language, and they will be able to do so without any human intervention.\n"
     ]
    },
    {
     "name": "stderr",
     "output_type": "stream",
     "text": [
      " 68%|██████▊   | 431/638 [5:22:22<5:18:34, 92.34s/it]"
     ]
    },
    {
     "name": "stdout",
     "output_type": "stream",
     "text": [
      "This week, we look at a new way to simulate cracking and tearing phenomena. With this method, we could smash oreos, candy crabs, pumpkins, and much, much more. It even supported tearing\n"
     ]
    },
    {
     "name": "stderr",
     "output_type": "stream",
     "text": [
      " 68%|██████▊   | 432/638 [5:24:01<5:23:44, 94.29s/it]"
     ]
    },
    {
     "name": "stdout",
     "output_type": "stream",
     "text": [
      "Researchers at NVIDIA have proposed a new technique, that requests some additional information, for instance, a depth map that provides a little more information on how far different parts of the image are from the camera.\n"
     ]
    },
    {
     "name": "stderr",
     "output_type": "stream",
     "text": [
      " 68%|██████▊   | 433/638 [5:25:08<4:53:51, 86.01s/it]"
     ]
    },
    {
     "name": "stdout",
     "output_type": "stream",
     "text": [
      "A new technique has been developed that can simulate the evolution of two droplets in real time.\n"
     ]
    },
    {
     "name": "stderr",
     "output_type": "stream",
     "text": [
      " 68%|██████▊   | 434/638 [5:26:23<4:41:30, 82.80s/it]"
     ]
    },
    {
     "name": "stdout",
     "output_type": "stream",
     "text": [
      "Károly Zsolnai-Fehér is a PhD student at the University of California, Berkeley.\n"
     ]
    },
    {
     "name": "stderr",
     "output_type": "stream",
     "text": [
      " 68%|██████▊   | 435/638 [5:27:49<4:44:00, 83.94s/it]"
     ]
    },
    {
     "name": "stdout",
     "output_type": "stream",
     "text": [
      "The second half of the second week of the year will be the Third Week of 2012, and we'll see the results of a study on super resolution in video.\n"
     ]
    },
    {
     "name": "stderr",
     "output_type": "stream",
     "text": [
      " 68%|██████▊   | 436/638 [5:29:32<5:00:54, 89.38s/it]"
     ]
    },
    {
     "name": "stdout",
     "output_type": "stream",
     "text": [
      "The owl is looking into the camera with both eyes, while, we see its backside below the head. If it looked to the side, like the input content image, this might be a possibility. But with this contor\n"
     ]
    },
    {
     "name": "stderr",
     "output_type": "stream",
     "text": [
      " 68%|██████▊   | 437/638 [5:30:45<4:43:42, 84.69s/it]"
     ]
    },
    {
     "name": "stdout",
     "output_type": "stream",
     "text": [
      "The Google Translate system has been a huge success, but now it has been applied to a new problem.\n"
     ]
    },
    {
     "name": "stderr",
     "output_type": "stream",
     "text": [
      " 69%|██████▊   | 438/638 [5:32:02<4:33:53, 82.17s/it]"
     ]
    },
    {
     "name": "stdout",
     "output_type": "stream",
     "text": [
      "The next two minutes of our Two Minute Paper series are dedicated to fluid dynamics and how to simulate it in a computer program.\n"
     ]
    },
    {
     "name": "stderr",
     "output_type": "stream",
     "text": [
      " 69%|██████▉   | 439/638 [5:33:37<4:45:30, 86.08s/it]"
     ]
    },
    {
     "name": "stdout",
     "output_type": "stream",
     "text": [
      "The Two Minute Papers with Dr. Károly Zsolnai-Fehér is CNN's weekly video series featuring short, thought-provoking pieces of original research.\n"
     ]
    },
    {
     "name": "stderr",
     "output_type": "stream",
     "text": [
      " 69%|██████▉   | 440/638 [5:34:49<4:30:39, 82.02s/it]"
     ]
    },
    {
     "name": "stdout",
     "output_type": "stream",
     "text": [
      "The next time you see a smoke simulation, you might think it is a computer game.\n"
     ]
    },
    {
     "name": "stderr",
     "output_type": "stream",
     "text": [
      " 69%|██████▉   | 441/638 [5:35:51<4:09:06, 75.87s/it]"
     ]
    },
    {
     "name": "stdout",
     "output_type": "stream",
     "text": [
      "The first part of our Two Minute Papers series is here.\n"
     ]
    },
    {
     "name": "stderr",
     "output_type": "stream",
     "text": [
      " 69%|██████▉   | 442/638 [5:37:33<4:33:12, 83.63s/it]"
     ]
    },
    {
     "name": "stdout",
     "output_type": "stream",
     "text": [
      "This week, we're looking at a new system that turns a real tennis match into a realistic looking video game that is controllable. This includes synthesizing not only movements, but also what effect the movements have\n"
     ]
    },
    {
     "name": "stderr",
     "output_type": "stream",
     "text": [
      " 69%|██████▉   | 443/638 [5:39:18<4:52:38, 90.04s/it]"
     ]
    },
    {
     "name": "stdout",
     "output_type": "stream",
     "text": [
      "Neural radiance fields can learn and reproduce entire real-world scenes from only a few views by using neural networks. It could deal with many kinds of matte and glossy materials, and even refractions worked quite well \n"
     ]
    },
    {
     "name": "stderr",
     "output_type": "stream",
     "text": [
      " 70%|██████▉   | 444/638 [5:40:38<4:41:24, 87.03s/it]"
     ]
    },
    {
     "name": "stdout",
     "output_type": "stream",
     "text": [
      "The brain of a pig has been implanted with electrodes that can read and write information to and from the brain.\n"
     ]
    },
    {
     "name": "stderr",
     "output_type": "stream",
     "text": [
      " 70%|██████▉   | 445/638 [5:41:45<4:21:25, 81.27s/it]"
     ]
    },
    {
     "name": "stdout",
     "output_type": "stream",
     "text": [
      "A year ago, researchers at Google DeepMind announced a breakthrough in the field of style transfer.\n"
     ]
    },
    {
     "name": "stderr",
     "output_type": "stream",
     "text": [
      " 70%|██████▉   | 446/638 [5:42:44<3:58:15, 74.46s/it]"
     ]
    },
    {
     "name": "stdout",
     "output_type": "stream",
     "text": [
      "This week, we look at light transport simulations.\n"
     ]
    },
    {
     "name": "stderr",
     "output_type": "stream",
     "text": [
      " 70%|███████   | 447/638 [5:43:46<3:45:16, 70.77s/it]"
     ]
    },
    {
     "name": "stdout",
     "output_type": "stream",
     "text": [
      "The latest episode of the TED Talks series is all about robots.\n"
     ]
    },
    {
     "name": "stderr",
     "output_type": "stream",
     "text": [
      " 70%|███████   | 448/638 [5:44:54<3:40:58, 69.78s/it]"
     ]
    },
    {
     "name": "stdout",
     "output_type": "stream",
     "text": [
      "The future of video game visuals is ever looking as exciting as it has ever been.\n"
     ]
    },
    {
     "name": "stderr",
     "output_type": "stream",
     "text": [
      " 70%|███████   | 449/638 [5:46:08<3:43:41, 71.01s/it]"
     ]
    },
    {
     "name": "stdout",
     "output_type": "stream",
     "text": [
      "A Hungarian computer vision expert has claimed that his method is the best in the world at segmenting video.\n"
     ]
    },
    {
     "name": "stderr",
     "output_type": "stream",
     "text": [
      " 71%|███████   | 450/638 [5:47:19<3:42:47, 71.10s/it]"
     ]
    },
    {
     "name": "stdout",
     "output_type": "stream",
     "text": [
      "Scientists have created a new way to create 3D animations that are more realistic than ever before.\n"
     ]
    },
    {
     "name": "stderr",
     "output_type": "stream",
     "text": [
      " 71%|███████   | 451/638 [5:48:23<3:35:30, 69.15s/it]"
     ]
    },
    {
     "name": "stdout",
     "output_type": "stream",
     "text": [
      "The latest episode of NVIDIA's Two Minute Papers is here!\n"
     ]
    },
    {
     "name": "stderr",
     "output_type": "stream",
     "text": [
      " 71%|███████   | 452/638 [5:49:44<3:44:40, 72.48s/it]"
     ]
    },
    {
     "name": "stdout",
     "output_type": "stream",
     "text": [
      "The University of Edinburgh's computer science department has produced a series of short videos to explain some of the latest developments in computer science.\n"
     ]
    },
    {
     "name": "stderr",
     "output_type": "stream",
     "text": [
      " 71%|███████   | 453/638 [5:50:48<3:35:51, 70.01s/it]"
     ]
    },
    {
     "name": "stdout",
     "output_type": "stream",
     "text": [
      "This week, we look at a new technique that can simulate fluid simulations.\n"
     ]
    },
    {
     "name": "stderr",
     "output_type": "stream",
     "text": [
      " 71%|███████   | 454/638 [5:52:30<4:04:32, 79.74s/it]"
     ]
    },
    {
     "name": "stdout",
     "output_type": "stream",
     "text": [
      "Scientists have created a new way to create amazing worlds in the Omniverse - a virtual world that can be explored by a computer. The new method is 30 times faster than the old method, and can be used\n"
     ]
    },
    {
     "name": "stderr",
     "output_type": "stream",
     "text": [
      " 71%|███████▏  | 455/638 [5:53:46<3:59:46, 78.61s/it]"
     ]
    },
    {
     "name": "stdout",
     "output_type": "stream",
     "text": [
      "Károly Zsolnai-Fehér: Can we reconstruct the entire 3D geometry of the model itself?\n"
     ]
    },
    {
     "name": "stderr",
     "output_type": "stream",
     "text": [
      " 71%|███████▏  | 456/638 [5:55:03<3:56:49, 78.07s/it]"
     ]
    },
    {
     "name": "stdout",
     "output_type": "stream",
     "text": [
      "Deepfakes are fake videos that are created by computers and can be used to fool people into believing they are watching real videos.\n"
     ]
    },
    {
     "name": "stderr",
     "output_type": "stream",
     "text": [
      " 72%|███████▏  | 457/638 [5:56:23<3:57:26, 78.71s/it]"
     ]
    },
    {
     "name": "stdout",
     "output_type": "stream",
     "text": [
      "This week on Two Minute Papers, we're talking about a paper that explains how to solve some really challenging puzzles.\n"
     ]
    },
    {
     "name": "stderr",
     "output_type": "stream",
     "text": [
      " 72%|███████▏  | 458/638 [5:57:41<3:55:33, 78.52s/it]"
     ]
    },
    {
     "name": "stdout",
     "output_type": "stream",
     "text": [
      "The latest advancement in facial reconstruction is a step closer to the ability to make a 3D face from a single frame of video.\n"
     ]
    },
    {
     "name": "stderr",
     "output_type": "stream",
     "text": [
      " 72%|███████▏  | 459/638 [5:58:55<3:49:52, 77.05s/it]"
     ]
    },
    {
     "name": "stdout",
     "output_type": "stream",
     "text": [
      "The Two Minute Papers are CNN Tech's weekly, offbeat look at the most interesting technology stories generating buzz online.\n"
     ]
    },
    {
     "name": "stderr",
     "output_type": "stream",
     "text": [
      " 72%|███████▏  | 460/638 [6:00:02<3:39:55, 74.13s/it]"
     ]
    },
    {
     "name": "stdout",
     "output_type": "stream",
     "text": [
      "The right part of the suit is better, but it needs to be a little more consistent.\n"
     ]
    },
    {
     "name": "stderr",
     "output_type": "stream",
     "text": [
      " 72%|███████▏  | 461/638 [6:01:06<3:29:29, 71.02s/it]"
     ]
    },
    {
     "name": "stdout",
     "output_type": "stream",
     "text": [
      "A new method for creating 3D photos using an AI system has been demonstrated.\n"
     ]
    },
    {
     "name": "stderr",
     "output_type": "stream",
     "text": [
      " 72%|███████▏  | 462/638 [6:02:51<3:58:26, 81.29s/it]"
     ]
    },
    {
     "name": "stdout",
     "output_type": "stream",
     "text": [
      "The University of California, Berkeley, has launched a new series of short videos called \"Two Minute Papers.\" In this video, Dr. Károly Zsolnai-Fehér, a professor of\n"
     ]
    },
    {
     "name": "stderr",
     "output_type": "stream",
     "text": [
      " 73%|███████▎  | 463/638 [6:03:47<3:34:13, 73.45s/it]"
     ]
    },
    {
     "name": "stdout",
     "output_type": "stream",
     "text": [
      "The European Centre for Theoretical Physics\n"
     ]
    },
    {
     "name": "stderr",
     "output_type": "stream",
     "text": [
      " 73%|███████▎  | 464/638 [6:05:21<3:51:34, 79.85s/it]"
     ]
    },
    {
     "name": "stdout",
     "output_type": "stream",
     "text": [
      "In this week's episode of the Two Minute Papers, we take a look at a new technology that can turn a selfie video into a portrait that we can rotate around freely.\n"
     ]
    },
    {
     "name": "stderr",
     "output_type": "stream",
     "text": [
      " 73%|███████▎  | 465/638 [6:06:30<3:40:56, 76.63s/it]"
     ]
    },
    {
     "name": "stdout",
     "output_type": "stream",
     "text": [
      "The future of photography is here, and it's not just about the cameras.\n"
     ]
    },
    {
     "name": "stderr",
     "output_type": "stream",
     "text": [
      " 73%|███████▎  | 466/638 [6:07:45<3:38:07, 76.09s/it]"
     ]
    },
    {
     "name": "stdout",
     "output_type": "stream",
     "text": [
      "OpenAI has released a new AI technique that can complete images.\n"
     ]
    },
    {
     "name": "stderr",
     "output_type": "stream",
     "text": [
      " 73%|███████▎  | 467/638 [6:09:10<3:44:32, 78.78s/it]"
     ]
    },
    {
     "name": "stdout",
     "output_type": "stream",
     "text": [
      "The Two Minute Papers is a weekly webcast featuring short, thought-provoking videos on a wide range of scientific topics.\n"
     ]
    },
    {
     "name": "stderr",
     "output_type": "stream",
     "text": [
      " 73%|███████▎  | 468/638 [6:10:22<3:37:21, 76.72s/it]"
     ]
    },
    {
     "name": "stdout",
     "output_type": "stream",
     "text": [
      "The BBC's Two Minute Papers is back with a new video every week this month.\n"
     ]
    },
    {
     "name": "stderr",
     "output_type": "stream",
     "text": [
      " 74%|███████▎  | 469/638 [6:11:47<3:42:51, 79.12s/it]"
     ]
    },
    {
     "name": "stdout",
     "output_type": "stream",
     "text": [
      "A new technique can synthesize previously unseen views of a scene, and it can also change the lighting, but only the lighting.\n"
     ]
    },
    {
     "name": "stderr",
     "output_type": "stream",
     "text": [
      " 74%|███████▎  | 470/638 [6:13:35<4:05:53, 87.82s/it]"
     ]
    },
    {
     "name": "stdout",
     "output_type": "stream",
     "text": [
      "In 2012, we were able to simulate the kinematics of yarn and cloth on our computers. Today, with this new technique, we can conjure up similar animations where pieces of garments tighten. The new\n"
     ]
    },
    {
     "name": "stderr",
     "output_type": "stream",
     "text": [
      " 74%|███████▍  | 471/638 [6:14:59<4:00:55, 86.56s/it]"
     ]
    },
    {
     "name": "stdout",
     "output_type": "stream",
     "text": [
      "A Hungarian computer scientist has developed a new method for animating humanoids that is a step closer to the real thing.\n"
     ]
    },
    {
     "name": "stderr",
     "output_type": "stream",
     "text": [
      " 74%|███████▍  | 472/638 [6:16:18<3:53:40, 84.46s/it]"
     ]
    },
    {
     "name": "stdout",
     "output_type": "stream",
     "text": [
      "Károly Zsolnai-Fehér is a professor of computer graphics at the University of California, Berkeley.\n"
     ]
    },
    {
     "name": "stderr",
     "output_type": "stream",
     "text": [
      " 74%|███████▍  | 473/638 [6:18:08<4:12:53, 91.96s/it]"
     ]
    },
    {
     "name": "stdout",
     "output_type": "stream",
     "text": [
      "The promise of virtual reality, VR is indeed truly incredible. If one day it comes to fruition, doctors could be trained to perform surgery in a virtual environment. We could train better pilots with better flight simulators, expose astronaut\n"
     ]
    },
    {
     "name": "stderr",
     "output_type": "stream",
     "text": [
      " 74%|███████▍  | 474/638 [6:19:42<4:12:54, 92.52s/it]"
     ]
    },
    {
     "name": "stdout",
     "output_type": "stream",
     "text": [
      "Károly Zsolnai-Fehér is a computer scientist and a co-founder of the AI company, DeepMind.\n"
     ]
    },
    {
     "name": "stderr",
     "output_type": "stream",
     "text": [
      " 74%|███████▍  | 475/638 [6:20:52<3:53:28, 85.94s/it]"
     ]
    },
    {
     "name": "stdout",
     "output_type": "stream",
     "text": [
      "This week, we're looking at how to teach robots to walk on stepping stones.\n"
     ]
    },
    {
     "name": "stderr",
     "output_type": "stream",
     "text": [
      " 75%|███████▍  | 476/638 [6:21:56<3:34:06, 79.30s/it]"
     ]
    },
    {
     "name": "stdout",
     "output_type": "stream",
     "text": [
      "This week, we are going to travel in time.\n"
     ]
    },
    {
     "name": "stderr",
     "output_type": "stream",
     "text": [
      " 75%|███████▍  | 477/638 [6:23:27<3:42:19, 82.85s/it]"
     ]
    },
    {
     "name": "stdout",
     "output_type": "stream",
     "text": [
      "The paper was accepted to the SIGGRAPH ASIA conference, which is equivalent to winning an olympic gold medal in computer graphics research if you will.\n"
     ]
    },
    {
     "name": "stderr",
     "output_type": "stream",
     "text": [
      " 75%|███████▍  | 478/638 [6:25:11<3:57:55, 89.22s/it]"
     ]
    },
    {
     "name": "stdout",
     "output_type": "stream",
     "text": [
      "The latest issue of the Journal of Computer Science and Engineering is out now, and can be downloaded from the journal’s website for free. The Two Minute Paper is a weekly, off-beat look at the latest in science and technology,\n"
     ]
    },
    {
     "name": "stderr",
     "output_type": "stream",
     "text": [
      " 75%|███████▌  | 479/638 [6:26:47<4:01:41, 91.20s/it]"
     ]
    },
    {
     "name": "stdout",
     "output_type": "stream",
     "text": [
      "The Two Minute Papers series is CNN's weekly science series, which airs on the weekends at 10:30am and 11:00am GMT and 1:30pm and 5:00pm EST.\n"
     ]
    },
    {
     "name": "stderr",
     "output_type": "stream",
     "text": [
      " 75%|███████▌  | 480/638 [6:28:00<3:45:38, 85.69s/it]"
     ]
    },
    {
     "name": "stdout",
     "output_type": "stream",
     "text": [
      "The next time you're tempted to throw a rock at a computer screen, think again.\n"
     ]
    },
    {
     "name": "stderr",
     "output_type": "stream",
     "text": [
      " 75%|███████▌  | 481/638 [6:29:49<4:02:54, 92.83s/it]"
     ]
    },
    {
     "name": "stdout",
     "output_type": "stream",
     "text": [
      "StyleFlow is a neural network-based learning method by the name StyleFlow. It can take an input photo of a test subject, and edit a number of meaningful parameters. Age, expression, lighting, pose, you name\n"
     ]
    },
    {
     "name": "stderr",
     "output_type": "stream",
     "text": [
      " 76%|███████▌  | 482/638 [6:31:36<4:12:13, 97.01s/it]"
     ]
    },
    {
     "name": "stdout",
     "output_type": "stream",
     "text": [
      "Károly Zsolnai-Fehér: Hi, everyone! I'm Károly Zsolnai-Fehér, and today I'm going to show you a new technique for\n"
     ]
    },
    {
     "name": "stderr",
     "output_type": "stream",
     "text": [
      " 76%|███████▌  | 483/638 [6:33:23<4:18:08, 99.93s/it]"
     ]
    },
    {
     "name": "stdout",
     "output_type": "stream",
     "text": [
      "Scientists at NVIDIA have come up with an absolutely insane idea for video conferencing. Their idea is not to do what everyone else is doing, which is, transmitting our video to the person on the other end. What they do\n"
     ]
    },
    {
     "name": "stderr",
     "output_type": "stream",
     "text": [
      " 76%|███████▌  | 484/638 [6:34:45<4:02:55, 94.64s/it]"
     ]
    },
    {
     "name": "stdout",
     "output_type": "stream",
     "text": [
      "The first part of the Two Minute Papers with Dr. Károslav Zsoltai-Fehér is here.\n"
     ]
    },
    {
     "name": "stderr",
     "output_type": "stream",
     "text": [
      " 76%|███████▌  | 485/638 [6:36:04<3:49:21, 89.94s/it]"
     ]
    },
    {
     "name": "stdout",
     "output_type": "stream",
     "text": [
      "DeepMind's artificial intelligence system has beaten the best human players at a computer game, the company's chief scientist has said.\n"
     ]
    },
    {
     "name": "stderr",
     "output_type": "stream",
     "text": [
      " 76%|███████▌  | 486/638 [6:37:29<3:44:16, 88.53s/it]"
     ]
    },
    {
     "name": "stdout",
     "output_type": "stream",
     "text": [
      "The latest video in the Two Minute Papers series is a look at text summarization and how it can be used to train AIs.\n"
     ]
    },
    {
     "name": "stderr",
     "output_type": "stream",
     "text": [
      " 76%|███████▋  | 487/638 [6:38:42<3:31:00, 83.85s/it]"
     ]
    },
    {
     "name": "stdout",
     "output_type": "stream",
     "text": [
      "In the year 2020, there has been a lot of progress in the field of computer vision.\n"
     ]
    },
    {
     "name": "stderr",
     "output_type": "stream",
     "text": [
      " 76%|███████▋  | 488/638 [6:39:52<3:19:06, 79.65s/it]"
     ]
    },
    {
     "name": "stdout",
     "output_type": "stream",
     "text": [
      "The bubbles in the water are a very important part of computer graphics research.\n"
     ]
    },
    {
     "name": "stderr",
     "output_type": "stream",
     "text": [
      " 77%|███████▋  | 489/638 [6:41:03<3:11:04, 76.94s/it]"
     ]
    },
    {
     "name": "stdout",
     "output_type": "stream",
     "text": [
      "A new method for stabilizing video has been presented at the ICCV conference in Las Vegas.\n"
     ]
    },
    {
     "name": "stderr",
     "output_type": "stream",
     "text": [
      " 77%|███████▋  | 490/638 [6:42:16<3:06:50, 75.75s/it]"
     ]
    },
    {
     "name": "stdout",
     "output_type": "stream",
     "text": [
      "The essence of Jesus Christ, the crown of thorns, and Lady Gaga\n"
     ]
    },
    {
     "name": "stderr",
     "output_type": "stream",
     "text": [
      " 77%|███████▋  | 491/638 [6:43:25<3:01:04, 73.91s/it]"
     ]
    },
    {
     "name": "stdout",
     "output_type": "stream",
     "text": [
      "The future of virtual reality is here, and it's all about the camera.\n"
     ]
    },
    {
     "name": "stderr",
     "output_type": "stream",
     "text": [
      " 77%|███████▋  | 492/638 [6:44:50<3:07:30, 77.06s/it]"
     ]
    },
    {
     "name": "stdout",
     "output_type": "stream",
     "text": [
      "In the video, I show you a video of a splash, and then I show you a video of my beard.\n"
     ]
    },
    {
     "name": "stderr",
     "output_type": "stream",
     "text": [
      " 77%|███████▋  | 493/638 [6:46:37<3:28:09, 86.14s/it]"
     ]
    },
    {
     "name": "stdout",
     "output_type": "stream",
     "text": [
      "In 2012, researchers were able to create highly detailed cloth geometries for digital characters. Now, nearly 9 years later, we can still simulate knitted and woven materials through similar programs that we call direct yarn-level simulations\n"
     ]
    },
    {
     "name": "stderr",
     "output_type": "stream",
     "text": [
      " 77%|███████▋  | 494/638 [6:47:39<3:09:37, 79.01s/it]"
     ]
    },
    {
     "name": "stdout",
     "output_type": "stream",
     "text": [
      "The world's fastest computer simulations are here!\n"
     ]
    },
    {
     "name": "stderr",
     "output_type": "stream",
     "text": [
      " 78%|███████▊  | 495/638 [6:48:48<3:00:48, 75.86s/it]"
     ]
    },
    {
     "name": "stdout",
     "output_type": "stream",
     "text": [
      "The latest episode of CNN's Two Minute Papers series is all about 3D printing.\n"
     ]
    },
    {
     "name": "stderr",
     "output_type": "stream",
     "text": [
      " 78%|███████▊  | 496/638 [6:50:04<2:59:44, 75.94s/it]"
     ]
    },
    {
     "name": "stdout",
     "output_type": "stream",
     "text": [
      "This week, we're looking at a simulation of a tree burning down.\n"
     ]
    },
    {
     "name": "stderr",
     "output_type": "stream",
     "text": [
      " 78%|███████▊  | 497/638 [6:51:26<3:02:21, 77.60s/it]"
     ]
    },
    {
     "name": "stdout",
     "output_type": "stream",
     "text": [
      "DeepFake is a term that refers to a computer program that can create fake video and audio content.\n"
     ]
    },
    {
     "name": "stderr",
     "output_type": "stream",
     "text": [
      " 78%|███████▊  | 498/638 [6:52:43<3:00:43, 77.45s/it]"
     ]
    },
    {
     "name": "stdout",
     "output_type": "stream",
     "text": [
      "This week on Two Minute Papers, we are talking about a paper that can create synthetic human faces.\n"
     ]
    },
    {
     "name": "stderr",
     "output_type": "stream",
     "text": [
      " 78%|███████▊  | 499/638 [6:54:21<3:13:46, 83.65s/it]"
     ]
    },
    {
     "name": "stdout",
     "output_type": "stream",
     "text": [
      "The Two Minute Papers series is a weekly video series by Károly Zsolnai-Fehér, a professor of computer science at the University of Budapest.\n"
     ]
    },
    {
     "name": "stderr",
     "output_type": "stream",
     "text": [
      " 78%|███████▊  | 500/638 [6:56:02<3:24:25, 88.88s/it]"
     ]
    },
    {
     "name": "stdout",
     "output_type": "stream",
     "text": [
      "A new neural network-based technique can dream up completely new images, and more. This is not the first technique to do this, but this...this does them better. We take an image, embed it into a latent space,\n"
     ]
    },
    {
     "name": "stderr",
     "output_type": "stream",
     "text": [
      " 79%|███████▊  | 501/638 [6:57:43<3:31:07, 92.46s/it]"
     ]
    },
    {
     "name": "stdout",
     "output_type": "stream",
     "text": [
      "A new technique promises to render glittering surfaces in real time. The technique uses a computer program that we run on our machine at home. We can change the density of microfacets, these are tiny imperfections in the surface that really make these\n"
     ]
    },
    {
     "name": "stderr",
     "output_type": "stream",
     "text": [
      " 79%|███████▊  | 502/638 [6:59:03<3:21:09, 88.74s/it]"
     ]
    },
    {
     "name": "stdout",
     "output_type": "stream",
     "text": [
      "The Sixth Law of Papers says that we should look at the current state of the art in the field of machine learning and computer graphics\n"
     ]
    },
    {
     "name": "stderr",
     "output_type": "stream",
     "text": [
      " 79%|███████▉  | 503/638 [7:00:03<3:00:24, 80.18s/it]"
     ]
    },
    {
     "name": "stdout",
     "output_type": "stream",
     "text": [
      "The final episode of Two Minute Papers is here!\n"
     ]
    },
    {
     "name": "stderr",
     "output_type": "stream",
     "text": [
      " 79%|███████▉  | 504/638 [7:01:13<2:52:08, 77.08s/it]"
     ]
    },
    {
     "name": "stdout",
     "output_type": "stream",
     "text": [
      "DeepMind has just released a new version of its neural network that can simulate fluid motion.\n"
     ]
    },
    {
     "name": "stderr",
     "output_type": "stream",
     "text": [
      " 79%|███████▉  | 505/638 [7:02:17<2:42:17, 73.22s/it]"
     ]
    },
    {
     "name": "stdout",
     "output_type": "stream",
     "text": [
      "A computer scientist has created an algorithm that can make convincing images from video game footage.\n"
     ]
    },
    {
     "name": "stderr",
     "output_type": "stream",
     "text": [
      " 79%|███████▉  | 506/638 [7:03:27<2:39:04, 72.31s/it]"
     ]
    },
    {
     "name": "stdout",
     "output_type": "stream",
     "text": [
      "A neural cellular automaton can regenerate itself when damaged, according to a new paper.\n"
     ]
    },
    {
     "name": "stderr",
     "output_type": "stream",
     "text": [
      " 79%|███████▉  | 507/638 [7:04:27<2:29:43, 68.57s/it]"
     ]
    },
    {
     "name": "stdout",
     "output_type": "stream",
     "text": [
      "The third episode of this week's Two Minute Papers series is here!\n"
     ]
    },
    {
     "name": "stderr",
     "output_type": "stream",
     "text": [
      " 80%|███████▉  | 508/638 [7:05:35<2:28:29, 68.54s/it]"
     ]
    },
    {
     "name": "stdout",
     "output_type": "stream",
     "text": [
      "Scientists have developed a new way to make people look more realistic in video chats.\n"
     ]
    },
    {
     "name": "stderr",
     "output_type": "stream",
     "text": [
      " 80%|███████▉  | 509/638 [7:06:50<2:31:22, 70.41s/it]"
     ]
    },
    {
     "name": "stdout",
     "output_type": "stream",
     "text": [
      "The image of a beautiful underwater scene is the work of a scientist who has developed a new technique to create it.\n"
     ]
    },
    {
     "name": "stderr",
     "output_type": "stream",
     "text": [
      " 80%|███████▉  | 510/638 [7:08:13<2:38:23, 74.25s/it]"
     ]
    },
    {
     "name": "stdout",
     "output_type": "stream",
     "text": [
      "The latest episode of Two Minute Papers with Dr. K Hungary-born Dr. Károle Zsolnai-Fehér is out now!\n"
     ]
    },
    {
     "name": "stderr",
     "output_type": "stream",
     "text": [
      " 80%|████████  | 511/638 [7:09:19<2:31:27, 71.56s/it]"
     ]
    },
    {
     "name": "stdout",
     "output_type": "stream",
     "text": [
      "Researchers have created an AI that can jump over a bar.\n"
     ]
    },
    {
     "name": "stderr",
     "output_type": "stream",
     "text": [
      " 80%|████████  | 512/638 [7:11:05<2:51:55, 81.87s/it]"
     ]
    },
    {
     "name": "stdout",
     "output_type": "stream",
     "text": [
      "Two Minute Papers is a weekly, off-beat look at the latest in science and technology. This week, we look at two papers from the Journal of Computer Graphics, written by Dr. Károley Zsol\n"
     ]
    },
    {
     "name": "stderr",
     "output_type": "stream",
     "text": [
      " 80%|████████  | 513/638 [7:12:20<2:46:23, 79.87s/it]"
     ]
    },
    {
     "name": "stdout",
     "output_type": "stream",
     "text": [
      "The Papers is a weekly, two-minute podcast exploring the intersection of science and technology.\n"
     ]
    },
    {
     "name": "stderr",
     "output_type": "stream",
     "text": [
      " 81%|████████  | 514/638 [7:13:43<2:46:54, 80.76s/it]"
     ]
    },
    {
     "name": "stdout",
     "output_type": "stream",
     "text": [
      "The Two Minute Papers with Dr. Károly Zsoltai-Fehér is published by Oxford University Press.\n"
     ]
    },
    {
     "name": "stderr",
     "output_type": "stream",
     "text": [
      " 81%|████████  | 515/638 [7:15:07<2:47:28, 81.70s/it]"
     ]
    },
    {
     "name": "stdout",
     "output_type": "stream",
     "text": [
      "This week on Two Minute Papers, we are looking at a new method for animating still images using a learning-based algorithm.\n"
     ]
    },
    {
     "name": "stderr",
     "output_type": "stream",
     "text": [
      " 81%|████████  | 516/638 [7:16:15<2:38:15, 77.84s/it]"
     ]
    },
    {
     "name": "stdout",
     "output_type": "stream",
     "text": [
      "The Two Minute Papers are short, two-minute videos that highlight interesting scientific research.\n"
     ]
    },
    {
     "name": "stderr",
     "output_type": "stream",
     "text": [
      " 81%|████████  | 517/638 [7:17:51<2:47:25, 83.02s/it]"
     ]
    },
    {
     "name": "stdout",
     "output_type": "stream",
     "text": [
      "The next Two Minute Papers is with Károly Zsolnai-Fehér, a physicist at the University of California, Berkeley.\n"
     ]
    },
    {
     "name": "stderr",
     "output_type": "stream",
     "text": [
      " 81%|████████  | 518/638 [7:19:42<3:03:09, 91.58s/it]"
     ]
    },
    {
     "name": "stdout",
     "output_type": "stream",
     "text": [
      "StyleGAN2 is a neural network-based learning algorithm that is capable of synthesizing these eye-poppingly detailed images of human beings that don’t even exist. StyleGAN2 uses walks in a\n"
     ]
    },
    {
     "name": "stderr",
     "output_type": "stream",
     "text": [
      " 81%|████████▏ | 519/638 [7:21:05<2:56:16, 88.88s/it]"
     ]
    },
    {
     "name": "stdout",
     "output_type": "stream",
     "text": [
      "In this video, I am going to show you how to make a smooth slow-motion video out of a choppy one.\n"
     ]
    },
    {
     "name": "stderr",
     "output_type": "stream",
     "text": [
      " 82%|████████▏ | 520/638 [7:22:17<2:45:14, 84.02s/it]"
     ]
    },
    {
     "name": "stdout",
     "output_type": "stream",
     "text": [
      "The UK's Royal Society of Chemistry has developed a new way to simulate the behaviour of liquids.\n"
     ]
    },
    {
     "name": "stderr",
     "output_type": "stream",
     "text": [
      " 82%|████████▏ | 521/638 [7:23:35<2:40:21, 82.23s/it]"
     ]
    },
    {
     "name": "stdout",
     "output_type": "stream",
     "text": [
      "The researchers at the University of Southern California have come up with a new way to make computer animations look more realistic.\n"
     ]
    },
    {
     "name": "stderr",
     "output_type": "stream",
     "text": [
      " 82%|████████▏ | 522/638 [7:24:46<2:32:24, 78.83s/it]"
     ]
    },
    {
     "name": "stdout",
     "output_type": "stream",
     "text": [
      "The future of AI is here, and it is going to be very interesting.\n"
     ]
    },
    {
     "name": "stderr",
     "output_type": "stream",
     "text": [
      " 82%|████████▏ | 523/638 [7:25:53<2:24:02, 75.15s/it]"
     ]
    },
    {
     "name": "stdout",
     "output_type": "stream",
     "text": [
      "This week, we are going to see how to remove people from a video.\n"
     ]
    },
    {
     "name": "stderr",
     "output_type": "stream",
     "text": [
      " 82%|████████▏ | 524/638 [7:27:39<2:40:42, 84.58s/it]"
     ]
    },
    {
     "name": "stdout",
     "output_type": "stream",
     "text": [
      "A new paper showcases AI agents that can learn boxing. The agents learned to lunge, deflect, evade attacks, and more. The researchers didn't quit after a 130 million steps, they just kept on and\n"
     ]
    },
    {
     "name": "stderr",
     "output_type": "stream",
     "text": [
      " 82%|████████▏ | 525/638 [7:29:01<2:37:36, 83.69s/it]"
     ]
    },
    {
     "name": "stdout",
     "output_type": "stream",
     "text": [
      "In this week's episode of Two Minute Papers, we're looking at a new paper in the field of neural view synthesis.\n"
     ]
    },
    {
     "name": "stderr",
     "output_type": "stream",
     "text": [
      " 82%|████████▏ | 526/638 [7:30:11<2:28:39, 79.64s/it]"
     ]
    },
    {
     "name": "stdout",
     "output_type": "stream",
     "text": [
      "The future of virtual reality is here, but it's still a long way off.\n"
     ]
    },
    {
     "name": "stderr",
     "output_type": "stream",
     "text": [
      " 83%|████████▎ | 527/638 [7:31:33<2:28:46, 80.42s/it]"
     ]
    },
    {
     "name": "stdout",
     "output_type": "stream",
     "text": [
      "Tesla's self-driving cars are getting closer to reality, and it's all thanks to a new AI system.\n"
     ]
    },
    {
     "name": "stderr",
     "output_type": "stream",
     "text": [
      " 83%|████████▎ | 528/638 [7:33:23<2:43:29, 89.18s/it]"
     ]
    },
    {
     "name": "stdout",
     "output_type": "stream",
     "text": [
      "A year ago, scientists at OpenAI published a technique by the name GPT-3 that was unleashed to read the internet with the sole task of finishing your sentences. Now, OpenAI Codex is a GPT language model\n"
     ]
    },
    {
     "name": "stderr",
     "output_type": "stream",
     "text": [
      " 83%|████████▎ | 529/638 [7:34:31<2:30:18, 82.74s/it]"
     ]
    },
    {
     "name": "stdout",
     "output_type": "stream",
     "text": [
      "The Academy of Computer Games is holding a series of talks on the future of computer games.\n"
     ]
    },
    {
     "name": "stderr",
     "output_type": "stream",
     "text": [
      " 83%|████████▎ | 530/638 [7:35:31<2:16:46, 75.99s/it]"
     ]
    },
    {
     "name": "stdout",
     "output_type": "stream",
     "text": [
      "The future of computer graphics is looking brighter than ever.\n"
     ]
    },
    {
     "name": "stderr",
     "output_type": "stream",
     "text": [
      " 83%|████████▎ | 531/638 [7:37:20<2:33:03, 85.83s/it]"
     ]
    },
    {
     "name": "stdout",
     "output_type": "stream",
     "text": [
      "The new way of simulating collision is a hundred times faster than previous methods. It can simulate intricate mechanisms for robotics and more before committing to manufacturing anything. And, if you feel the urge to build a\n"
     ]
    },
    {
     "name": "stderr",
     "output_type": "stream",
     "text": [
      " 83%|████████▎ | 532/638 [7:38:45<2:31:22, 85.68s/it]"
     ]
    },
    {
     "name": "stdout",
     "output_type": "stream",
     "text": [
      "Video: Károly Zsolnai-Fehér explains how NVIDIA's new system is at simplifying virtual objects.\n"
     ]
    },
    {
     "name": "stderr",
     "output_type": "stream",
     "text": [
      " 84%|████████▎ | 533/638 [7:39:59<2:23:55, 82.24s/it]"
     ]
    },
    {
     "name": "stdout",
     "output_type": "stream",
     "text": [
      "A new study shows that an AI agent can learn a stunt from just one video clip.\n"
     ]
    },
    {
     "name": "stderr",
     "output_type": "stream",
     "text": [
      " 84%|████████▎ | 534/638 [7:41:13<2:17:49, 79.52s/it]"
     ]
    },
    {
     "name": "stdout",
     "output_type": "stream",
     "text": [
      "The future of virtual reality is here, and it's all thanks to a PhD student.\n"
     ]
    },
    {
     "name": "stderr",
     "output_type": "stream",
     "text": [
      " 84%|████████▍ | 535/638 [7:42:37<2:19:17, 81.14s/it]"
     ]
    },
    {
     "name": "stdout",
     "output_type": "stream",
     "text": [
      "The Winter Olympics are in full swing, and we're taking a look at some of the most interesting technology that's been used so far.\n"
     ]
    },
    {
     "name": "stderr",
     "output_type": "stream",
     "text": [
      " 84%|████████▍ | 536/638 [7:43:55<2:16:15, 80.15s/it]"
     ]
    },
    {
     "name": "stdout",
     "output_type": "stream",
     "text": [
      "The Two Minute Papers is a weekly webcast featuring short, thought-provoking interviews with leading scientists and engineers.\n"
     ]
    },
    {
     "name": "stderr",
     "output_type": "stream",
     "text": [
      " 84%|████████▍ | 537/638 [7:45:41<2:27:47, 87.80s/it]"
     ]
    },
    {
     "name": "stdout",
     "output_type": "stream",
     "text": [
      "The new way of simulating elastic interactions has been presented by Dr. Károly Zsolnai-Fehér. The reduced simulation is 110 times quicker than the reference simulation, which is ten to fifteen times\n"
     ]
    },
    {
     "name": "stderr",
     "output_type": "stream",
     "text": [
      " 84%|████████▍ | 538/638 [7:47:04<2:23:56, 86.36s/it]"
     ]
    },
    {
     "name": "stdout",
     "output_type": "stream",
     "text": [
      "Károly Zsolnai-Fehér is a computer scientist at the University of California, Berkeley.\n"
     ]
    },
    {
     "name": "stderr",
     "output_type": "stream",
     "text": [
      " 84%|████████▍ | 539/638 [7:48:53<2:33:49, 93.23s/it]"
     ]
    },
    {
     "name": "stdout",
     "output_type": "stream",
     "text": [
      "The Two Minute Paper is a weekly, offbeat look at what's coming up in the world of computer science. This week, we look at a quick paper on a complex soft body simulation of an elephant. The paper is\n"
     ]
    },
    {
     "name": "stderr",
     "output_type": "stream",
     "text": [
      " 85%|████████▍ | 540/638 [7:50:11<2:24:37, 88.55s/it]"
     ]
    },
    {
     "name": "stdout",
     "output_type": "stream",
     "text": [
      "A new paper has proposed a way to automatically remesh 3D objects to make them more realistic.\n"
     ]
    },
    {
     "name": "stderr",
     "output_type": "stream",
     "text": [
      " 85%|████████▍ | 541/638 [7:51:44<2:25:11, 89.81s/it]"
     ]
    },
    {
     "name": "stdout",
     "output_type": "stream",
     "text": [
      "This week, we're introducing you to Károly Zsolnai-Fehér, a Cambridge University professor of computer science and artificial intelligence.\n"
     ]
    },
    {
     "name": "stderr",
     "output_type": "stream",
     "text": [
      " 85%|████████▍ | 542/638 [7:52:52<2:13:23, 83.37s/it]"
     ]
    },
    {
     "name": "stdout",
     "output_type": "stream",
     "text": [
      "The next Two Minute Papers is on Monday, February 14th at 10am GMT.\n"
     ]
    },
    {
     "name": "stderr",
     "output_type": "stream",
     "text": [
      " 85%|████████▌ | 543/638 [7:54:32<2:19:42, 88.23s/it]"
     ]
    },
    {
     "name": "stdout",
     "output_type": "stream",
     "text": [
      "The final part of our Two Minute Papers series with Dr. Károly Zsolnai-Fehér, a professor of computer graphics at the University of Szeged, Hungary.\n"
     ]
    },
    {
     "name": "stderr",
     "output_type": "stream",
     "text": [
      " 85%|████████▌ | 544/638 [7:56:06<2:21:04, 90.05s/it]"
     ]
    },
    {
     "name": "stdout",
     "output_type": "stream",
     "text": [
      "The latest episode of Two Minute Papers is all about simulations. This time, we're talking about a new way to simulate fluids with porous materials.\n"
     ]
    },
    {
     "name": "stderr",
     "output_type": "stream",
     "text": [
      " 85%|████████▌ | 545/638 [7:57:12<2:08:39, 83.01s/it]"
     ]
    },
    {
     "name": "stdout",
     "output_type": "stream",
     "text": [
      "The OpenAI team has just demonstrated a robot that can play table tennis.\n"
     ]
    },
    {
     "name": "stderr",
     "output_type": "stream",
     "text": [
      " 86%|████████▌ | 546/638 [7:58:33<2:06:22, 82.42s/it]"
     ]
    },
    {
     "name": "stdout",
     "output_type": "stream",
     "text": [
      "The BBC's Two Minute Papers is a weekly video series that highlights the best research in computer science.\n"
     ]
    },
    {
     "name": "stderr",
     "output_type": "stream",
     "text": [
      " 86%|████████▌ | 547/638 [7:59:41<1:58:27, 78.10s/it]"
     ]
    },
    {
     "name": "stdout",
     "output_type": "stream",
     "text": [
      "The first of three Two Minute Papers exploring the science behind StyleGAN3 has been published.\n"
     ]
    },
    {
     "name": "stderr",
     "output_type": "stream",
     "text": [
      " 86%|████████▌ | 548/638 [8:00:44<1:50:05, 73.40s/it]"
     ]
    },
    {
     "name": "stdout",
     "output_type": "stream",
     "text": [
      "The first time I have seen a cat pulling a table cloth.\n"
     ]
    },
    {
     "name": "stderr",
     "output_type": "stream",
     "text": [
      " 86%|████████▌ | 549/638 [8:02:01<1:50:20, 74.39s/it]"
     ]
    },
    {
     "name": "stdout",
     "output_type": "stream",
     "text": [
      "The Mail Online's Károly Zsolnai-Fehér is back with another Two Minute Papers video.\n"
     ]
    },
    {
     "name": "stderr",
     "output_type": "stream",
     "text": [
      " 86%|████████▌ | 550/638 [8:03:42<2:00:58, 82.48s/it]"
     ]
    },
    {
     "name": "stdout",
     "output_type": "stream",
     "text": [
      "NVIDIA's new AI is able to understand basically any human movement. By the end of this video, you will see that this can help us move around in virtual worlds, the metaverse, if you will. No\n"
     ]
    },
    {
     "name": "stderr",
     "output_type": "stream",
     "text": [
      " 86%|████████▋ | 551/638 [8:05:01<1:57:57, 81.35s/it]"
     ]
    },
    {
     "name": "stdout",
     "output_type": "stream",
     "text": [
      "The Daily Mail's Dr. Károly Zsolnai-Fehér is back with another Two Minute Paper.\n"
     ]
    },
    {
     "name": "stderr",
     "output_type": "stream",
     "text": [
      " 87%|████████▋ | 552/638 [8:06:18<1:54:57, 80.20s/it]"
     ]
    },
    {
     "name": "stdout",
     "output_type": "stream",
     "text": [
      "This week, we're going to take a look at an AI that can create some really cool animations.\n"
     ]
    },
    {
     "name": "stderr",
     "output_type": "stream",
     "text": [
      " 87%|████████▋ | 553/638 [8:08:02<2:03:42, 87.33s/it]"
     ]
    },
    {
     "name": "stdout",
     "output_type": "stream",
     "text": [
      "Károly Zsolnai-Fehér: NERFies are selfies from the future. The goal here is to take a selfie video, and turn it into a portrait that we can rotate around\n"
     ]
    },
    {
     "name": "stderr",
     "output_type": "stream",
     "text": [
      " 87%|████████▋ | 554/638 [8:09:44<2:08:13, 91.59s/it]"
     ]
    },
    {
     "name": "stdout",
     "output_type": "stream",
     "text": [
      "The head of the AI lab at the University of California, Berkeley, Károly Zsolnai-Fehér, has just published a paper that shows that artificial intelligence can create virtual humans that can pass for real humans\n"
     ]
    },
    {
     "name": "stderr",
     "output_type": "stream",
     "text": [
      " 87%|████████▋ | 555/638 [8:11:25<2:10:44, 94.51s/it]"
     ]
    },
    {
     "name": "stdout",
     "output_type": "stream",
     "text": [
      "In this video, I'm going to show you how to transfer your motion onto a virtual character. We can even play table tennis as if we were a character in a computer game! This research work proposes to not\n"
     ]
    },
    {
     "name": "stderr",
     "output_type": "stream",
     "text": [
      " 87%|████████▋ | 556/638 [8:12:56<2:07:39, 93.41s/it]"
     ]
    },
    {
     "name": "stdout",
     "output_type": "stream",
     "text": [
      "A new paper has shown that artificial intelligence (AI) can create new videos, create lava from water, enhance your dance videos, add new players to a football game, and more.\n"
     ]
    },
    {
     "name": "stderr",
     "output_type": "stream",
     "text": [
      " 87%|████████▋ | 557/638 [8:14:17<2:01:04, 89.69s/it]"
     ]
    },
    {
     "name": "stdout",
     "output_type": "stream",
     "text": [
      "The Two Minute Paper is CNN's new short video series that features two minute interviews with some of the world's top thinkers.\n"
     ]
    },
    {
     "name": "stderr",
     "output_type": "stream",
     "text": [
      " 87%|████████▋ | 558/638 [8:15:23<1:50:18, 82.73s/it]"
     ]
    },
    {
     "name": "stdout",
     "output_type": "stream",
     "text": [
      "A Hungarian professor has created a new way to create a photorealistic video.\n"
     ]
    },
    {
     "name": "stderr",
     "output_type": "stream",
     "text": [
      " 88%|████████▊ | 559/638 [8:16:49<1:50:05, 83.62s/it]"
     ]
    },
    {
     "name": "stdout",
     "output_type": "stream",
     "text": [
      "In this week's episode of Two Minute Papers, I'm talking about a new tool that can help you create a 3D video.\n"
     ]
    },
    {
     "name": "stderr",
     "output_type": "stream",
     "text": [
      " 88%|████████▊ | 560/638 [8:17:47<1:38:35, 75.84s/it]"
     ]
    },
    {
     "name": "stdout",
     "output_type": "stream",
     "text": [
      "The next part of the Two Minute Papers series is here!\n"
     ]
    },
    {
     "name": "stderr",
     "output_type": "stream",
     "text": [
      " 88%|████████▊ | 561/638 [8:18:54<1:34:05, 73.32s/it]"
     ]
    },
    {
     "name": "stdout",
     "output_type": "stream",
     "text": [
      "Károslav Zsolnai-Fehér: The Art of AI\n"
     ]
    },
    {
     "name": "stderr",
     "output_type": "stream",
     "text": [
      " 88%|████████▊ | 562/638 [8:20:37<1:43:54, 82.03s/it]"
     ]
    },
    {
     "name": "stdout",
     "output_type": "stream",
     "text": [
      "The next two weeks of CNN's Two Minute Papers series will be devoted to discussing the latest developments in computer graphics research and technology, including a look at the work of Dr. Károly Zsolnai-\n"
     ]
    },
    {
     "name": "stderr",
     "output_type": "stream",
     "text": [
      " 88%|████████▊ | 563/638 [8:21:27<1:30:39, 72.53s/it]"
     ]
    },
    {
     "name": "stdout",
     "output_type": "stream",
     "text": [
      "The latest Two Minute Papers video is here!\n"
     ]
    },
    {
     "name": "stderr",
     "output_type": "stream",
     "text": [
      " 88%|████████▊ | 564/638 [8:22:49<1:33:04, 75.46s/it]"
     ]
    },
    {
     "name": "stdout",
     "output_type": "stream",
     "text": [
      "Károly Zsolnai-Fehér is a professor of computer science at the Budapest University of Technology and Science, Hungary.\n"
     ]
    },
    {
     "name": "stderr",
     "output_type": "stream",
     "text": [
      " 89%|████████▊ | 565/638 [8:24:29<1:40:39, 82.74s/it]"
     ]
    },
    {
     "name": "stdout",
     "output_type": "stream",
     "text": [
      "The next Two Minute Paper is on Monday, September 11, at 10am ET on CNN.org/2MinutePapers, or go to www.cnn.com/2MinutesPapers to see the next two minutes of 2\n"
     ]
    },
    {
     "name": "stderr",
     "output_type": "stream",
     "text": [
      " 89%|████████▊ | 566/638 [8:26:11<1:46:20, 88.62s/it]"
     ]
    },
    {
     "name": "stdout",
     "output_type": "stream",
     "text": [
      "OpenAI has created an AI that can draw almost anything we can imagine. Dall-E can create a custom storefront for us, understands the concept of low-polygon rendering, isometric views, clay objects,\n"
     ]
    },
    {
     "name": "stderr",
     "output_type": "stream",
     "text": [
      " 89%|████████▉ | 567/638 [8:27:54<1:49:57, 92.93s/it]"
     ]
    },
    {
     "name": "stdout",
     "output_type": "stream",
     "text": [
      "The next Two Minute Papers is on Monday, November 14 at 10:30am ET on Two Minute Radio and 2:30pm ET on CNN. For the next Two Minutes Papers, visit CNN.com/TwoMinutePapers\n"
     ]
    },
    {
     "name": "stderr",
     "output_type": "stream",
     "text": [
      " 89%|████████▉ | 568/638 [8:28:53<1:36:20, 82.58s/it]"
     ]
    },
    {
     "name": "stdout",
     "output_type": "stream",
     "text": [
      "The results are in, and they are spectacular.\n"
     ]
    },
    {
     "name": "stderr",
     "output_type": "stream",
     "text": [
      " 89%|████████▉ | 569/638 [8:30:36<1:42:06, 88.79s/it]"
     ]
    },
    {
     "name": "stdout",
     "output_type": "stream",
     "text": [
      "The pace of progress in AI and computer graphics research is absolutely incredible, and it is accelerating over the time span of a few years, says Károly Zsolnai-Fehér, the co-founder and\n"
     ]
    },
    {
     "name": "stderr",
     "output_type": "stream",
     "text": [
      " 89%|████████▉ | 570/638 [8:31:39<1:31:53, 81.09s/it]"
     ]
    },
    {
     "name": "stdout",
     "output_type": "stream",
     "text": [
      "This week's Two Minute Paper is on fluid and smoke simulations.\n"
     ]
    },
    {
     "name": "stderr",
     "output_type": "stream",
     "text": [
      " 89%|████████▉ | 571/638 [8:33:19<1:36:47, 86.68s/it]"
     ]
    },
    {
     "name": "stdout",
     "output_type": "stream",
     "text": [
      "The first of a series of webcasts from the 2014 Hungarian Nobel Prize in Physiology or Medicine will be broadcast on November 1 at 10:30am and 11:00am ET, and at 11:15am and 1:30pm on\n"
     ]
    },
    {
     "name": "stderr",
     "output_type": "stream",
     "text": [
      " 90%|████████▉ | 572/638 [8:34:15<1:25:18, 77.55s/it]"
     ]
    },
    {
     "name": "stdout",
     "output_type": "stream",
     "text": [
      "The latest episode of Two Minute Papers is here!\n"
     ]
    },
    {
     "name": "stderr",
     "output_type": "stream",
     "text": [
      " 90%|████████▉ | 573/638 [8:35:16<1:18:32, 72.50s/it]"
     ]
    },
    {
     "name": "stdout",
     "output_type": "stream",
     "text": [
      "The latest episode of Two Minute Papers is here!\n"
     ]
    },
    {
     "name": "stderr",
     "output_type": "stream",
     "text": [
      " 90%|████████▉ | 574/638 [8:37:02<1:27:59, 82.49s/it]"
     ]
    },
    {
     "name": "stdout",
     "output_type": "stream",
     "text": [
      "NVIDIA has released Audio2Face, a collection of AI techniques that we can use to perform this quickly and easily. We can even perform a face swap, not only between humanoid characters, but, my goodness\n"
     ]
    },
    {
     "name": "stderr",
     "output_type": "stream",
     "text": [
      " 90%|█████████ | 575/638 [8:38:42<1:32:25, 88.03s/it]"
     ]
    },
    {
     "name": "stdout",
     "output_type": "stream",
     "text": [
      "Károly Zsolnai-Fehér is the co-founder and CTO of Google’s AI division, DeepMind. In this episode, he shows you how the company taught a computer to program\n"
     ]
    },
    {
     "name": "stderr",
     "output_type": "stream",
     "text": [
      " 90%|█████████ | 576/638 [8:40:09<1:30:30, 87.58s/it]"
     ]
    },
    {
     "name": "stdout",
     "output_type": "stream",
     "text": [
      "A new robot can help us explore dangerous areas without putting humans at risk, says Dr. Károly Zsolnai-Fehér.\n"
     ]
    },
    {
     "name": "stderr",
     "output_type": "stream",
     "text": [
      " 90%|█████████ | 577/638 [8:41:24<1:25:10, 83.78s/it]"
     ]
    },
    {
     "name": "stdout",
     "output_type": "stream",
     "text": [
      "DeepMind's AlphaFold has been hailed as a game changer in the field of artificial intelligence.\n"
     ]
    },
    {
     "name": "stderr",
     "output_type": "stream",
     "text": [
      " 91%|█████████ | 578/638 [8:42:37<1:20:31, 80.52s/it]"
     ]
    },
    {
     "name": "stdout",
     "output_type": "stream",
     "text": [
      "NVIDIA has unveiled a new AI that can do three seemingly impossible things with just one elegant technique.\n"
     ]
    },
    {
     "name": "stderr",
     "output_type": "stream",
     "text": [
      " 91%|█████████ | 579/638 [8:43:49<1:16:39, 77.96s/it]"
     ]
    },
    {
     "name": "stdout",
     "output_type": "stream",
     "text": [
      "It's a new technique that can make your computer look like a real-life spaceship.\n"
     ]
    },
    {
     "name": "stderr",
     "output_type": "stream",
     "text": [
      " 91%|█████████ | 580/638 [8:45:11<1:16:26, 79.09s/it]"
     ]
    },
    {
     "name": "stdout",
     "output_type": "stream",
     "text": [
      "The co-founder of Google's self-driving car project Waymo has been talking to Fast Company about the technology's potential applications.\n"
     ]
    },
    {
     "name": "stderr",
     "output_type": "stream",
     "text": [
      " 91%|█████████ | 581/638 [8:46:30<1:15:11, 79.14s/it]"
     ]
    },
    {
     "name": "stdout",
     "output_type": "stream",
     "text": [
      "In this week's episode of Two Minute Papers, we're looking at artificial intelligence and how it can be used to create synthetic videos.\n"
     ]
    },
    {
     "name": "stderr",
     "output_type": "stream",
     "text": [
      " 91%|█████████ | 582/638 [8:47:38<1:10:50, 75.90s/it]"
     ]
    },
    {
     "name": "stdout",
     "output_type": "stream",
     "text": [
      "InstructGPT, the AI developed by OpenAI, is a new method of learning to follow instructions.\n"
     ]
    },
    {
     "name": "stderr",
     "output_type": "stream",
     "text": [
      " 91%|█████████▏| 583/638 [8:48:51<1:08:50, 75.10s/it]"
     ]
    },
    {
     "name": "stdout",
     "output_type": "stream",
     "text": [
      "The next time you see a bird, you might not be able to tell that it’s a bird.\n"
     ]
    },
    {
     "name": "stderr",
     "output_type": "stream",
     "text": [
      " 92%|█████████▏| 584/638 [8:50:33<1:14:48, 83.12s/it]"
     ]
    },
    {
     "name": "stdout",
     "output_type": "stream",
     "text": [
      "In June 2020, OpenAI created GPT-3, a magical AI that could finish your sentences, and among many incredible examples, it could generate website layouts from a written description. A few months later, scientists at OpenAI\n"
     ]
    },
    {
     "name": "stderr",
     "output_type": "stream",
     "text": [
      " 92%|█████████▏| 585/638 [8:51:39<1:08:55, 78.03s/it]"
     ]
    },
    {
     "name": "stdout",
     "output_type": "stream",
     "text": [
      "The University of California, Berkeley, has published a paper that uses neural networks to simulate light.\n"
     ]
    },
    {
     "name": "stderr",
     "output_type": "stream",
     "text": [
      " 92%|█████████▏| 586/638 [8:52:39<1:02:50, 72.52s/it]"
     ]
    },
    {
     "name": "stdout",
     "output_type": "stream",
     "text": [
      "The Mail Online is bringing you two new short videos every weekday morning.\n"
     ]
    },
    {
     "name": "stderr",
     "output_type": "stream",
     "text": [
      " 92%|█████████▏| 587/638 [8:54:00<1:03:42, 74.95s/it]"
     ]
    },
    {
     "name": "stdout",
     "output_type": "stream",
     "text": [
      "DeepMind’s AI, MuZero, has finally entered the real world and has learned to solve important real-world problems.\n"
     ]
    },
    {
     "name": "stderr",
     "output_type": "stream",
     "text": [
      " 92%|█████████▏| 588/638 [8:55:43<1:09:36, 83.52s/it]"
     ]
    },
    {
     "name": "stdout",
     "output_type": "stream",
     "text": [
      "Researchers at NVIDIA are training an AI that moves a virtual robot arm to finish everyday tasks on a table. It learned to do this, and more, from only 179 image-action pairs. That, in the era\n"
     ]
    },
    {
     "name": "stderr",
     "output_type": "stream",
     "text": [
      " 92%|█████████▏| 589/638 [8:57:24<1:12:33, 88.86s/it]"
     ]
    },
    {
     "name": "stdout",
     "output_type": "stream",
     "text": [
      "DeepMind’s AI can learn from humans doing silly things, like playing the drums with a comb. If this AI does something, is this imitation, or is this learning? Imitation is not that impressive,\n"
     ]
    },
    {
     "name": "stderr",
     "output_type": "stream",
     "text": [
      " 92%|█████████▏| 590/638 [8:59:07<1:14:14, 92.81s/it]"
     ]
    },
    {
     "name": "stdout",
     "output_type": "stream",
     "text": [
      "The DeepMind AI is able to learn from a human, but with a twist. The twist is that we are going to remove the human teacher from the game. Is it just memorizing what the human does, or\n"
     ]
    },
    {
     "name": "stderr",
     "output_type": "stream",
     "text": [
      " 93%|█████████▎| 591/638 [9:00:50<1:15:07, 95.91s/it]"
     ]
    },
    {
     "name": "stdout",
     "output_type": "stream",
     "text": [
      "NVIDIA's new AI transfers real objects into a virtual world. In just as little as two minutes, we already have a usable model of an object. We can even change the lighting around it and see what\n"
     ]
    },
    {
     "name": "stderr",
     "output_type": "stream",
     "text": [
      " 93%|█████████▎| 592/638 [9:02:05<1:08:52, 89.83s/it]"
     ]
    },
    {
     "name": "stdout",
     "output_type": "stream",
     "text": [
      "The OpenAI AI system has been able to write poetry and even continue your stories, says the company's chief scientist.\n"
     ]
    },
    {
     "name": "stderr",
     "output_type": "stream",
     "text": [
      " 93%|█████████▎| 593/638 [9:03:18<1:03:31, 84.69s/it]"
     ]
    },
    {
     "name": "stdout",
     "output_type": "stream",
     "text": [
      "This week, we are going to take a look at a technique that could make it easier to create video games.\n"
     ]
    },
    {
     "name": "stderr",
     "output_type": "stream",
     "text": [
      " 93%|█████████▎| 594/638 [9:04:40<1:01:33, 83.94s/it]"
     ]
    },
    {
     "name": "stdout",
     "output_type": "stream",
     "text": [
      "The Mail Online's science correspondent, Dr. Károly Zsolnai-Fehér, is back with another Two Minute Paper.\n"
     ]
    },
    {
     "name": "stderr",
     "output_type": "stream",
     "text": [
      " 93%|█████████▎| 595/638 [9:06:04<1:00:05, 83.85s/it]"
     ]
    },
    {
     "name": "stdout",
     "output_type": "stream",
     "text": [
      "I am going to be talking about a new algorithm that can render a virtual amusement park that contains no less than 3.4 million light sources interactively.\n"
     ]
    },
    {
     "name": "stderr",
     "output_type": "stream",
     "text": [
      " 93%|█████████▎| 596/638 [9:07:22<57:34, 82.25s/it]  "
     ]
    },
    {
     "name": "stdout",
     "output_type": "stream",
     "text": [
      "OpenAI's DALL-E 2 can create images and videos that are completely new and different from anything that has ever been created before.\n"
     ]
    },
    {
     "name": "stderr",
     "output_type": "stream",
     "text": [
      " 94%|█████████▎| 597/638 [9:08:32<53:35, 78.43s/it]"
     ]
    },
    {
     "name": "stdout",
     "output_type": "stream",
     "text": [
      "This week, we look at how one area of research can unlock new capabilities on a completely different area.\n"
     ]
    },
    {
     "name": "stderr",
     "output_type": "stream",
     "text": [
      " 94%|█████████▎| 598/638 [9:09:50<52:14, 78.37s/it]"
     ]
    },
    {
     "name": "stdout",
     "output_type": "stream",
     "text": [
      "Google has just released a new AI that can generate images of guitars, pandas, and even a p Panda playing a guitar.\n"
     ]
    },
    {
     "name": "stderr",
     "output_type": "stream",
     "text": [
      " 94%|█████████▍| 599/638 [9:11:03<49:54, 76.78s/it]"
     ]
    },
    {
     "name": "stdout",
     "output_type": "stream",
     "text": [
      "The AI has made a series of donuts, but how do they stack up against real ones?\n"
     ]
    },
    {
     "name": "stderr",
     "output_type": "stream",
     "text": [
      " 94%|█████████▍| 600/638 [9:12:22<49:06, 77.54s/it]"
     ]
    },
    {
     "name": "stdout",
     "output_type": "stream",
     "text": [
      "DeepMind has created a computer that can play chess, answer questions, label pictures and even control a robot arm.\n"
     ]
    },
    {
     "name": "stderr",
     "output_type": "stream",
     "text": [
      " 94%|█████████▍| 601/638 [9:13:34<46:37, 75.60s/it]"
     ]
    },
    {
     "name": "stdout",
     "output_type": "stream",
     "text": [
      "NVIDIA has just released a new technique that can render some of the most difficult images in the world.\n"
     ]
    },
    {
     "name": "stderr",
     "output_type": "stream",
     "text": [
      " 94%|█████████▍| 602/638 [9:14:40<43:45, 72.93s/it]"
     ]
    },
    {
     "name": "stdout",
     "output_type": "stream",
     "text": [
      "Google Brain scientists have created a computer program that can paint the Mona Lisa for us.\n"
     ]
    },
    {
     "name": "stderr",
     "output_type": "stream",
     "text": [
      " 95%|█████████▍| 603/638 [9:15:49<41:52, 71.79s/it]"
     ]
    },
    {
     "name": "stdout",
     "output_type": "stream",
     "text": [
      "NVIDIA has just published a research paper that shows how it can make people into Witchers.\n"
     ]
    },
    {
     "name": "stderr",
     "output_type": "stream",
     "text": [
      " 95%|█████████▍| 604/638 [9:17:01<40:39, 71.76s/it]"
     ]
    },
    {
     "name": "stdout",
     "output_type": "stream",
     "text": [
      "The next Two Minute Papers with Károly Zsolnai-Fehér is here!\n"
     ]
    },
    {
     "name": "stderr",
     "output_type": "stream",
     "text": [
      " 95%|█████████▍| 605/638 [9:18:11<39:13, 71.31s/it]"
     ]
    },
    {
     "name": "stdout",
     "output_type": "stream",
     "text": [
      "It can create amazing images, but does it really have more surprises up its sleeve?\n"
     ]
    },
    {
     "name": "stderr",
     "output_type": "stream",
     "text": [
      " 95%|█████████▍| 606/638 [9:19:55<43:09, 80.91s/it]"
     ]
    },
    {
     "name": "stdout",
     "output_type": "stream",
     "text": [
      "NVIDIA's virtual characters can move around after they have trained for 10 years. This is 10 years of training, but in a virtual world. A real world computer simulates this virtual world and it can do it much\n"
     ]
    },
    {
     "name": "stderr",
     "output_type": "stream",
     "text": [
      " 95%|█████████▌| 607/638 [9:21:23<42:57, 83.14s/it]"
     ]
    },
    {
     "name": "stdout",
     "output_type": "stream",
     "text": [
      "The next two minutes of our Two Minute Paper series will be devoted to the laws of physics and the law of gravity.\n"
     ]
    },
    {
     "name": "stderr",
     "output_type": "stream",
     "text": [
      " 95%|█████████▌| 608/638 [9:22:24<38:17, 76.60s/it]"
     ]
    },
    {
     "name": "stdout",
     "output_type": "stream",
     "text": [
      "The latest episode of Two Minute Papers is here!\n"
     ]
    },
    {
     "name": "stderr",
     "output_type": "stream",
     "text": [
      " 95%|█████████▌| 609/638 [9:24:23<43:07, 89.24s/it]"
     ]
    },
    {
     "name": "stdout",
     "output_type": "stream",
     "text": [
      "It can learn to play and build things in Minecraft and more. It can learn practical knowledge from tutorial videos, encyclopedic knowledge from the wiki, and it can learn what makes the best creations the best that are shared on\n"
     ]
    },
    {
     "name": "stderr",
     "output_type": "stream",
     "text": [
      " 96%|█████████▌| 610/638 [9:25:51<41:24, 88.75s/it]"
     ]
    },
    {
     "name": "stdout",
     "output_type": "stream",
     "text": [
      "NVIDIA has just published a paper that shows how they can render real-time light transport simulations.\n"
     ]
    },
    {
     "name": "stderr",
     "output_type": "stream",
     "text": [
      " 96%|█████████▌| 611/638 [9:27:45<43:27, 96.57s/it]"
     ]
    },
    {
     "name": "stdout",
     "output_type": "stream",
     "text": [
      "In this week's episode of the Daily Dot, we're going to take a look at a new AI that can do image inpainting and image outpainting.\n"
     ]
    },
    {
     "name": "stderr",
     "output_type": "stream",
     "text": [
      " 96%|█████████▌| 612/638 [9:29:02<39:16, 90.65s/it]"
     ]
    },
    {
     "name": "stdout",
     "output_type": "stream",
     "text": [
      "The first time I heard about a project that was trying to teach an AI to play Minecraft, I was a little skeptical.\n"
     ]
    },
    {
     "name": "stderr",
     "output_type": "stream",
     "text": [
      " 96%|█████████▌| 613/638 [9:30:16<35:42, 85.69s/it]"
     ]
    },
    {
     "name": "stdout",
     "output_type": "stream",
     "text": [
      "DeepFake is a new technology that uses artificial intelligence to create realistic looking fakes of people.\n"
     ]
    },
    {
     "name": "stderr",
     "output_type": "stream",
     "text": [
      " 96%|█████████▌| 614/638 [9:31:30<32:46, 81.94s/it]"
     ]
    },
    {
     "name": "stdout",
     "output_type": "stream",
     "text": [
      "The NERF technique is a technique that can be used to create 3D reconstructions of real-world objects.\n"
     ]
    },
    {
     "name": "stderr",
     "output_type": "stream",
     "text": [
      " 96%|█████████▋| 615/638 [9:32:42<30:17, 79.02s/it]"
     ]
    },
    {
     "name": "stdout",
     "output_type": "stream",
     "text": [
      "Microsoft has just released a new AI technique that can identify facial landmarks of real people.\n"
     ]
    },
    {
     "name": "stderr",
     "output_type": "stream",
     "text": [
      " 97%|█████████▋| 616/638 [9:33:48<27:31, 75.09s/it]"
     ]
    },
    {
     "name": "stdout",
     "output_type": "stream",
     "text": [
      "A new technique promises to create a digital human from a collection of photos.\n"
     ]
    },
    {
     "name": "stderr",
     "output_type": "stream",
     "text": [
      " 97%|█████████▋| 617/638 [9:35:31<29:15, 83.57s/it]"
     ]
    },
    {
     "name": "stdout",
     "output_type": "stream",
     "text": [
      "Imagine if you could make a painting of your house, or a portrait of a person, or a landscape, or a road, or a tree, or a flower, or a tree stump, or\n"
     ]
    },
    {
     "name": "stderr",
     "output_type": "stream",
     "text": [
      " 97%|█████████▋| 618/638 [9:36:50<27:24, 82.22s/it]"
     ]
    },
    {
     "name": "stdout",
     "output_type": "stream",
     "text": [
      "The world's fastest supercomputer is being used to study the behaviour of fluids, a University of Oxford scientist has claimed.\n"
     ]
    },
    {
     "name": "stderr",
     "output_type": "stream",
     "text": [
      " 97%|█████████▋| 619/638 [9:38:28<27:28, 86.78s/it]"
     ]
    },
    {
     "name": "stdout",
     "output_type": "stream",
     "text": [
      "This year, through OpenAI’s DALL-E 2, we are entering the age of AI-driven image generation. Most of these techniques take a text prompt, which means that we can write whatever we wish to see on the screen\n"
     ]
    },
    {
     "name": "stderr",
     "output_type": "stream",
     "text": [
      " 97%|█████████▋| 620/638 [9:39:30<23:49, 79.39s/it]"
     ]
    },
    {
     "name": "stdout",
     "output_type": "stream",
     "text": [
      "Google has created a video that lets you fly into a photo.\n"
     ]
    },
    {
     "name": "stderr",
     "output_type": "stream",
     "text": [
      " 97%|█████████▋| 621/638 [9:40:42<21:53, 77.24s/it]"
     ]
    },
    {
     "name": "stdout",
     "output_type": "stream",
     "text": [
      "The head of the European Organization for Nuclear Research (CERN) says his team has made a major breakthrough in artificial intelligence.\n"
     ]
    },
    {
     "name": "stderr",
     "output_type": "stream",
     "text": [
      " 97%|█████████▋| 622/638 [9:42:00<20:37, 77.35s/it]"
     ]
    },
    {
     "name": "stdout",
     "output_type": "stream",
     "text": [
      "The next episode of the Two Minute Papers series is on Julie Frost, the former editor-in-chief of the Financial Times.\n"
     ]
    },
    {
     "name": "stderr",
     "output_type": "stream",
     "text": [
      " 98%|█████████▊| 623/638 [9:43:06<18:29, 73.95s/it]"
     ]
    },
    {
     "name": "stdout",
     "output_type": "stream",
     "text": [
      "Károly Zsolnai-Fehér: AI and computer graphics\n"
     ]
    },
    {
     "name": "stderr",
     "output_type": "stream",
     "text": [
      " 98%|█████████▊| 624/638 [9:44:49<19:19, 82.83s/it]"
     ]
    },
    {
     "name": "stdout",
     "output_type": "stream",
     "text": [
      "OpenAI’s DALL-E 2 technique is able to take a piece of text from us, and generate an image that matches this description. Stable Diffusion, a similar, but open source technique is also\n"
     ]
    },
    {
     "name": "stderr",
     "output_type": "stream",
     "text": [
      " 98%|█████████▊| 625/638 [9:46:07<17:37, 81.38s/it]"
     ]
    },
    {
     "name": "stdout",
     "output_type": "stream",
     "text": [
      "Google’s self-driving car is a real-life example of the Second Law of Papers, which says that everything is connected.\n"
     ]
    },
    {
     "name": "stderr",
     "output_type": "stream",
     "text": [
      " 98%|█████████▊| 626/638 [9:46:56<14:20, 71.73s/it]"
     ]
    },
    {
     "name": "stdout",
     "output_type": "stream",
     "text": [
      "Insane!\n"
     ]
    },
    {
     "name": "stderr",
     "output_type": "stream",
     "text": [
      " 98%|█████████▊| 627/638 [9:47:59<12:40, 69.15s/it]"
     ]
    },
    {
     "name": "stdout",
     "output_type": "stream",
     "text": [
      "The winner of this year's Two Minute Papers competition is...\n"
     ]
    },
    {
     "name": "stderr",
     "output_type": "stream",
     "text": [
      " 98%|█████████▊| 628/638 [9:49:34<12:47, 76.80s/it]"
     ]
    },
    {
     "name": "stdout",
     "output_type": "stream",
     "text": [
      "The UK's National Suicide Prevention Lifeline is available on 0800 273-TALK (8255) or visit http://www.suicidepreventionlifeline.co.uk/.\n"
     ]
    },
    {
     "name": "stderr",
     "output_type": "stream",
     "text": [
      " 99%|█████████▊| 629/638 [9:50:52<11:34, 77.16s/it]"
     ]
    },
    {
     "name": "stdout",
     "output_type": "stream",
     "text": [
      "The Two Minute Papers is back with a look at some of the most interesting academic research that has been published over the past seven days.\n"
     ]
    },
    {
     "name": "stderr",
     "output_type": "stream",
     "text": [
      " 99%|█████████▊| 630/638 [9:52:10<10:19, 77.43s/it]"
     ]
    },
    {
     "name": "stdout",
     "output_type": "stream",
     "text": [
      "The nephew of NVIDIA's founder has presented a series of papers on light transport at the GTC 2013 conference in Las Vegas.\n"
     ]
    },
    {
     "name": "stderr",
     "output_type": "stream",
     "text": [
      " 99%|█████████▉| 631/638 [9:53:22<08:50, 75.82s/it]"
     ]
    },
    {
     "name": "stdout",
     "output_type": "stream",
     "text": [
      "Imagine if you could take a picture of anything you wanted, and turn it into a 3D model?\n"
     ]
    },
    {
     "name": "stderr",
     "output_type": "stream",
     "text": [
      " 99%|█████████▉| 632/638 [9:54:25<07:11, 71.84s/it]"
     ]
    },
    {
     "name": "stdout",
     "output_type": "stream",
     "text": [
      "The next episode of Two Minute Papers is on the subject of computer graphics.\n"
     ]
    },
    {
     "name": "stderr",
     "output_type": "stream",
     "text": [
      " 99%|█████████▉| 633/638 [9:56:10<06:48, 81.78s/it]"
     ]
    },
    {
     "name": "stdout",
     "output_type": "stream",
     "text": [
      "Google has released a robot that can understand English, move around, make a plan, and most importantly, come up with a plan when plan A fails. The pace of progress in AI research is nothing short of amazing. What would\n"
     ]
    },
    {
     "name": "stderr",
     "output_type": "stream",
     "text": [
      " 99%|█████████▉| 634/638 [9:57:19<05:12, 78.05s/it]"
     ]
    },
    {
     "name": "stdout",
     "output_type": "stream",
     "text": [
      "Imagine if you could create a video of a teddy bear doing dishes.\n"
     ]
    },
    {
     "name": "stderr",
     "output_type": "stream",
     "text": [
      "100%|█████████▉| 635/638 [9:58:33<03:50, 76.69s/it]"
     ]
    },
    {
     "name": "stdout",
     "output_type": "stream",
     "text": [
      "I'm back with another episode of Two Minute Papers, this time with a guest from NVIDIA.\n"
     ]
    },
    {
     "name": "stderr",
     "output_type": "stream",
     "text": [
      "100%|█████████▉| 636/638 [9:59:46<02:31, 75.70s/it]"
     ]
    },
    {
     "name": "stdout",
     "output_type": "stream",
     "text": [
      "Scientists at Ubisoft have created a system that can read your mind and then translate it into gestures.\n"
     ]
    },
    {
     "name": "stderr",
     "output_type": "stream",
     "text": [
      "100%|█████████▉| 637/638 [10:00:44<01:10, 70.25s/it]"
     ]
    },
    {
     "name": "stdout",
     "output_type": "stream",
     "text": [
      "It can write your essay for you!\n"
     ]
    },
    {
     "name": "stderr",
     "output_type": "stream",
     "text": [
      "100%|██████████| 638/638 [10:01:54<00:00, 56.61s/it]"
     ]
    },
    {
     "name": "stdout",
     "output_type": "stream",
     "text": [
      "This is the first time I’ve seen a computer program that can create entire virtual worlds out of thin air.\n"
     ]
    },
    {
     "name": "stderr",
     "output_type": "stream",
     "text": [
      "\n"
     ]
    }
   ],
   "source": [
    "generated_titles = list()\n",
    "for _, row in tqdm(summaries.iterrows(), total=summaries.shape[0]):\n",
    "    prompt = 'Write a title for that text: ' + row['summary']\n",
    "\n",
    "    inputs = tokenizer.encode(prompt, return_tensors=\"pt\")\n",
    "    outputs = model.generate(inputs.to(device), max_length=50)\n",
    "\n",
    "    title = tokenizer.decode(outputs[0]).replace('<pad> ', '').replace('</s>', '')\n",
    "\n",
    "    print(title)\n",
    "\n",
    "    generated_titles.append(title)"
   ],
   "metadata": {
    "collapsed": false
   }
  },
  {
   "cell_type": "code",
   "execution_count": 7,
   "outputs": [
    {
     "data": {
      "text/plain": "['The Gotthard Base Tunnel',\n 'Why do YouTubers clap at the start of their recordings?',\n 'The University of Texas has a machine designed to shake the ground itself.',\n 'In 1997, when the postal service had 55 Remote Encoding Centers open, all of those RECs combined keyed 19 billion images. In 2021, as the last REC remaining, we only keyed 1.2 billion',\n \"The Dutch Flower Auction Clock is a monument to the Dutch flower market, but it's not the only one.\",\n 'The University of Leeds has a massive machine that can test the durability of road surfaces.',\n 'The Anthorn clock is a simple device that can tell the time in the UK.',\n 'The biggest terminal at Gatwick Airport is reopening to the public after a two-year closure.',\n 'A report on nuclear bombs in the North Sea was written in 1969, a month before Neil Armstrong set foot on the moon.',\n 'The Royal Mint has just announced that it will no longer make one-penny coins in 1933.',\n \"It's a common complaint that the mains hum in your home can be really annoying.\",\n \"The world's smallest stamp has gone on display at the Royal Mint in London.\",\n 'A German company is testing a robot that can inspect power substations in the Alps.',\n 'The islands of Orkney and Shetland are facing a serious power shortage.',\n \"A defibrillator is a life-saving piece of kit, but how do you know if it's working?\",\n 'The cannon at Betws-y-Coed is a replica of one that was used in the 19th century to celebrate the arrival of dignitaries.',\n 'The ferry that crosses the Firth of Forth is a unique vessel.',\n \"Ralph Smith's spacesuit was never built, but a few years ago, a British designer has recreated it.\",\n \"The first microwave oven was invented in the 1950s, but it wasn't invented by a British engineer.\",\n 'The explosion in the movie.',\n 'The Great Fire of London',\n \"It's a myth, a hoax, a smear, a smear campaign.\",\n 'The War of the Worlds was a film that spawned a lot of fake news.',\n 'In England, hovercrafts are allowed to sell alcohol to the public.',\n 'The monorail is back!',\n \"Iceland has a lot of hot water, and it's also got a lot of power.\",\n \"The way the Earth's gravity is affecting the Earth's height is a very complex problem.\",\n 'The history of the British standard yard',\n \"It's a myth, but it's not a lie.\",\n 'The Icknield Way is one of the most famous footpaths in Britain.',\n \"In the age of YouTube, it's easy to forget that music videos were once shot on film.\",\n 'The junction where two cyclists have died in the last ten years is a disaster, according to a cyclist who has researched the issue.',\n \"In this video, I'm going to show you how to fix some of the problems with colour grading in video.\",\n 'It was the biggest marketing disaster in the history of the world.',\n \"In this week's episode of Brains On Trial, neurosurgeons explain how they use image guidance systems to help them operate on the brain.\",\n 'The U.S. Department of Energy is ending its helium program and is privatizing the activity.',\n \"The world's first elevator shaft\",\n \"The world's first library with robots has opened in Helsinki, Finland.\",\n \"The world's shortest river is a 61-metre-long stream in Montana, USA.\",\n 'Aerosparx are a team of pilots who have been flying for more than 20 years.',\n 'The Humber Bridge is the longest single-span suspension bridge in the world.',\n 'The Olds Elevator',\n 'The brain-eating amoeba is a terrifying name for a terrifying disease.',\n \"It's a popular tourist destination, but it's not where two oceans meet.\",\n 'The Gregory Brothers are back with a new episode of their PBS series, \"The Gregory Brothers.\" Tonight at 10 p.m. ET, the brothers are back with a new episode of \"The Gregory Brothers,\" \"Gregory',\n 'IEX, the new stock exchange, has introduced a new rule to stop high-frequency trading.',\n 'Kurtis Baute is a self-taught biodome enthusiast who has built a small, airtight greenhouse in his basement.',\n 'The knot theory solves the painting hanging puzzle',\n \"I'm going to try to stay underwater for a bit longer.\",\n 'The MAT is a simulator that astronauts use to train.',\n 'The tree that owns itself',\n \"Electric Mountain is BBC One's new series exploring the world of pumped storage hydroelectric power stations.\",\n \"London's pavements are exploding, and it's not just the odd one.\",\n 'Ogham is the only language in Unicode where a space is not a space.',\n 'In the 1920s, wing-walking was an incredibly dangerous stunt.',\n \"It's a beautiful day in Cornwall and the sun is shining down on Porthcurno beach.\",\n \"The Algorithm is on BBC2 at 9pm this week, and it's a computer programme that chooses the best programmes for you to watch.\",\n 'Stargate SG-1 star Steven Spielberg has been talking to a group of scientists about how to better manage wildfires in British Columbia.',\n 'The Sourtoe Cocktail',\n 'Gander Air Traffic Control Centre',\n 'The International Standard Cup of Tea',\n \"The Red Arrows are the world's most famous aerobatic display team.\",\n 'Clocks in Europe are going slow, because of a power crisis in Serbia and Kosovo.',\n \"It's a mystery light.\",\n 'William Lyon Mackenzie King',\n \"12tone is a music theory channel that uses pen and paper, and piano notes, and doodles of elephants, but today they are also talking about language. For the first time ever, this week's guest video uses\",\n \"This week on MailOnline, we're talking about sign language.\",\n 'The European Space Agency (ESA) is offering a chance for PhD students to fly in space.',\n 'The legend of Gotham City began in the 13th century, when King John wanted to travel through the town.',\n \"Phone calls are a lot like music - they're compressed, they're distorted, they're distorted again.\",\n 'Calipatria, California',\n \"The world's oldest bond is being paid interest in the US, and it's a pretty good bet that it's going to be there for a while.\",\n 'The US government has a warehouse full of materials that are used to calibrate and test machines around the world.',\n 'Mount Evans',\n \"Stuart Semple has created a pink so intense your screen can't display it properly. He also created the world's most glittery natural glitter and the mattest blackest art material in the world.\",\n \"It's there, and in this room, with all these monitors on.\",\n \"The RAF's wartime system of clearing fog has been revealed in a new book.\",\n \"The Enterprise has just landed in Los Angeles, and it's not quite clear where it's going.\",\n 'Voyager 1 is now in the neighborhood.',\n 'Splenda is marketed as a zero-calorie sweetener or a healthy replacement for sugar.',\n 'The latest episode of Channel 4’s tongue-in-cheek quiz show Play The Mind is on tonight at 10pm on Channel 4.',\n \"It's a tiny piece of Apollo 11's thermal protection shield.\",\n 'In the second half of the 20th century, engineers have been working on a number of projects that have been hailed as some of the greatest in history.',\n 'The Sound of Music',\n 'In the 17th century, there were no periodic tables, so chemists had to work out what elements they were looking at.',\n 'The US Army Corps of Engineers is pumping sand onto a beach in New Jersey to protect it from the sea.',\n 'Harald Bluetooth',\n 'The British Blind Association has a YouTube channel, and they have a video about tactile paving.',\n 'Zurich has a backup water system, just in case.',\n \"The UK's Christmas number one single isn't a pop number one, it's a chart number one.\",\n \"In this week's episode of the Tech Tent, we're talking about the history of the telephone.\",\n 'A true perpetual motion machine would be a machine that could never stop, or run out of energy.',\n 'When does moving a body stop being disrespect for the dead and start being archaeology?',\n 'The Utah Teapot',\n 'A robot that can weld metal is being developed by Autodesk.',\n \"Anouk Wipprecht's robotic spider dress is on display at the Autodesk Gallery in San Francisco until March 2017.\",\n \"The story of the 'British Spy' who was buried in a war grave in Spain has been told in a new book.\",\n 'The Mediterranean Sea is a vast body of water that stretches from north Africa to southern Italy.',\n \"The world's largest solar power plant is being demolished, after a decade of planning and construction.\",\n \"The Arctic is changing, and it's changing fast.\",\n \"In this week's video, we're learning the Inuktitut language.\",\n 'The Arctic Circle',\n 'The first person to reach the North Pole is still a mystery.',\n 'The Jakobshavn Glacier is one of the fastest and most productive in the world.',\n 'Inés at Draw Curiosity talks about 4 visual phenomena that we all experience. From floaters to visual snow to phosphenes, Inés explains what you see in your eye.',\n 'Mountain Dew has a higher titratable acidity than Coca-Cola. Citric acid is an organic acid, meaning that it will be able to break down the calcium in your teeth faster than inorganic',\n \"The BBC's Newsround is taking a break this week, and I'm going to be taking over.\",\n 'For the first time in more than a century, Britain was burning zero coal to generate electricity.',\n 'The Fauld bomb crater',\n \"It's not like margarine and butter, where the chemical make-up and health effects are actually different, it's just a slightly different taste and a slightly different make up.\",\n 'Victor Gruen, the architect who designed Brent Cross Shopping Centre, is buried in a cemetery in the US.',\n 'The watt balance is a new way of measuring mass, and it could be used to define the new standard for mass.',\n \"Titan arums are one of the most spectacular flowers in the world, but they're also one of the most eerie.\",\n 'Noel Edmonds endorsed a yoga mat that uses electromagnetic fields to help cells in the body function. The company disavowed Noel Edmonds entirely. The reason was: he’d claimed',\n \"The JET experiment is the most powerful machine ever built, but it's also the most dangerous.\",\n 'The Panama Papers leak has made people think about their finances in a whole new way.',\n \"ITV's Year of Promise was a disaster.\",\n 'The government has decided to leave the World War II bombs on the SS \"Antarctica\" in the Thames estuary, despite the risk they could explode at any time.',\n 'The National Gridiron',\n \"The world's largest clock is a huge structure atop the Mecca Clock Tower in Saudi Arabia.\",\n 'Tom Scott is in Norway filming the Youth Winter Olympic Games.',\n \"It's a myth that's been around for a while, but it's not true.\",\n \"In this week's episode of Road Safety, we're looking at the dangers of crossing the road where there isn't a marked crossing.\",\n 'The rules on product placement in British TV are very strict.',\n \"The St Francis Dam, a key part of Los Angeles's water supply, has been destroyed by a massive earthquake.\",\n 'Is it legal to show you the Walt Disney World logo?',\n \"The world's scariest tourist attraction\",\n 'HMS Defender is a new generation of Royal Navy warships - but it has one design flaw.',\n 'The UK general election is just over a month away, and the BBC News website has been looking at the adverts that will be shown on TV and online.',\n 'Kate Oliver and Andy Collins are scientists who make tips for X-ray machines.',\n \"If you want to know what it would be like to drive on a turnpike, you'd better head to France.\",\n \"The UK's first quantum computer is online, and it's being used to solve complex problems, such as predicting the weather.\",\n \"It's cold outside, but it's not snowing!\",\n 'The Winter Solstice is a time of year when the earth is at its longest night and the sun is at its highest point.',\n \"It's a little bit of a mystery, isn't it?\",\n \"The UK's most famous landmarks are being celebrated in a series of videos, including a look at the trig points that helped to re-triangulate the country.\",\n \"Lincoln's Gettysburg Address\",\n \"The Ambrose lightship is a floating lighthouse in New York's Hudson River.\",\n \"It's pretty hot in New York.\",\n \"In the 1960s, Tad's Broiled Steaks was one of the first fast food restaurants.\",\n 'In New York City, you can stand on a bit of England.',\n \"It's considered extremely bad luck to use 'that word', 'that name' on an actual set\",\n 'The Kelston toll road in Somerset, England, was built without planning permission. The road is 14 miles long and connects the villages of Kelston and a dozen others besides to the picturesque city of Bath. In the',\n \"The BBC's Mark Duell has been talking to the Samaritans about the dangers of mixing taps.\",\n 'Norm, the man who taught us how to choke someone in a pub, has been teaching people how to do it for years.',\n 'The BarBot is a device for turning alcohol and spirits into a nice inhalable mist. In a column of this, you get about two or three teaspoonfuls of booze. Take the lid off',\n \"It's that time of year again when we're all tempted to get a bit naughty and try out some stunts.\",\n 'Wicked!',\n \"It's a word that's been around for a long time, but it's not what you'd call it in real life.\",\n 'Cindy',\n 'The flag of France is not a flag at all.',\n 'Sundials are inaccurate',\n \"Longplayer is a music composition for singing bowls, designed to last one thousand years from the start of 2000 to the end of 2999. In order for that to work, it doesn't have to be a person that see\",\n \"Colin's channel is on screen now.\",\n 'The first video is a selection of the things you sent in to the BBC News website.',\n 'Bubble Football',\n 'The Angel of the North',\n \"Tom is on a train, with no brakes, going backwards. This is Stephenson's Rocket, which was built in 1829. When this was built, proper brakes really hadn't been invented. So,\",\n 'The whole of the UK and northern Europe is perpetually in twilight, until finally Autumn rolls around and we dip into night once again',\n \"It's a gasometer, a big old thing that tells you how much gas is in the ground.\",\n 'A train driver is letting a car cross a railway track at speeds of up to 140mph.',\n 'Paris syndrome: a real thing or a myth?',\n \"Duggan: I'm in France, and I'm going to be filming a video of the Eiffel Tower.\",\n 'Point Zero is the place from which all distances in France are measured from.',\n 'The Channel Tunnel is one of the great engineering marvels of the modern world.',\n 'British tanks have a kettle',\n 'The London Necropolis railway was a real thing for nearly a century, but it was bombed out during World War II. The first train ran in 1854, and it ran until World War II. If those',\n \"Richard Quest, the author of The Phone, is a regular guest on BBC Radio 4's The Daily Discussion.\",\n \"British libel law is terrifying if you're a journalist, says the BBC's legal correspondent, Martin Robinson.\",\n \"The Miura fold can fold a solar panel all the way out and back in. It's also used to fold maps and has even been tested with lithium ion batteries. It is the most useful piece of origam\",\n 'The common cold is a killer, writes Dr Martin Bland.',\n 'CNN.com is looking for your best travel snaps from around the world.',\n 'Iceland is a country where names are very different from the way we think about names in the United States.',\n 'The Grylls Survival Team is a group of people who have been trained by Bear Grylls to survive in the wild.',\n 'The Mississippi River is the most important river in America.',\n 'The US postal service has a secret weapon in its arsenal against spammers: ZIP codes.',\n 'Walt Disney World has planning permission to build a nuclear power station.',\n \"David Walliams has been talking about sunblock and the dangers of the sun in an interview with The Daily Mail's iReport channel.\",\n \"You can tell if you're lucid dreaming by looking at the words on a sign or a newspaper.\",\n 'In the early 90s, before the web came along, a couple of British programs on ITV experimented with something called a datablast. Home video recorders were now a thing. So, right at the end of',\n \"I'm not a big fan of the show The Only Way Is Essex, but I'm not going to lie, I'm not a big fan of the show either.\",\n 'GPS units are designed to be used on the ground, not in space.',\n 'The rockets that put people into space are very powerful machines.',\n 'Kevin Prince is a professional actor and a regular contributor to the Mail on Sunday.',\n 'In the United States, ice cream has to contain milk.',\n 'The video is part of a series of clips from CNN Hero\\'s documentary series, \"Einstein: A Biography.\"',\n \"It's a cable car, but it's not a great one.\",\n \"The BBC's Newsnight programme has been talking to former Prime Minister Tony Blair about the UK's nuclear weapons.\",\n 'The National Grid: How It Works',\n 'MM is taught how to stage-slap someone by Norm.',\n 'Norm shows how to stage choke someone.',\n 'The number of platforms at Kings Cross station is to be renumbered to make it easier to find your way around.',\n 'Kiddo the cat',\n 'Gold has an E number. E numbers are the numbers given by the European Food Safety Group. You can have it for decoration or -you know, in little drinks or something like that. And you can also get it as gold leaf.',\n 'The video is part of a series called \"Things You Might Not Have Knew\" about British pedestrian crossings.',\n \"The Thames is a river that runs through London, England, and it's a river that has changed a lot over the years.\",\n 'The difference between the European and American power grids.',\n \"The world's longest tunnel\",\n 'NRK, the National Broadcaster, excels at slow television',\n 'The Daily Mail has been inundated with calls from people who have been faking bank notes with a colour photocopier.',\n 'The Manhattan Project is a bar in London specialising in making cocktails using a range of unusual ingredients.',\n 'The pilot of a helicopter that crashed into the River Thames in London on Saturday was killed, police have said.',\n 'In Britain, there are special crossings for horses. The best part is the name, because in Britain we have Pelican crossings. And then, because all those are named after flying things: we have this, which is a',\n \"It's been a while since I've been on a monorail, but I've just been to the Garaventa factory in Switzerland.\",\n \"The Guédelon Castle in Normandy is a medieval castle that's being rebuilt in the style of the Middle Ages.\",\n \"The Royal Albert Hall's roof is made of wrought iron, and it is a very complex structure.\",\n 'The mail boat jumps off the pier every day at 10am.',\n \"Soda Springs, Idaho, has a geyser that shoots soda water up into the sky. Underneath the town, there's a natural reservoir of carbonated mineral water. In 1937, \",\n \"It's not the most obvious place to find a ski slope made of sand.\",\n 'The Water Games of Bergpark Wilhelmshöhe',\n 'The largest mechanical art project in the world is based in the French city of Nantes.',\n \"It's a replica, but it's pretty accurate.\",\n \"Madeira's Funchal Airport is a huge, concrete-covered bridge that juts out into the sea.\",\n \"Funchal's basket carts are one of Europe's strangest tourist attractions. The wooden toboggans are powered by people in straw hats. The baskets are made of normal wood and if they\",\n \"It's a bridge that's been there for a century, and it's still shaking.\",\n \"DeepStore is a digital archive for Laura Ashley, but it's also a physical archive for actual physical objects.\",\n 'The railway line between Oban and Callander is one of the most exposed in Scotland.',\n 'The Elie Chainwalk',\n 'Rochester was a city, but it was no longer a city.',\n \"The world's largest sheet of chain mail has been built to protect a historic house from the elements.\",\n \"In the centre of the Earth, there's a big, flat rock.\",\n 'The International Cocoa Quarantine Center is a place where cocoa plants can be quarantined for two years to make sure they are free of disease.',\n '\"It\\'s really bonkers, really, out of this world, so that has attracted quite a different film crews, not just horror films, which is the obvious one, but also music videos,\" says owner of the',\n \"The Thames Barrier is the world's largest flood defence system.\",\n 'Across Britain, people are celebrating Bonfire Night in all sorts of ways.',\n 'The video is about a medical application of radon in Germany.',\n 'The Hallig islands are a group of tiny islands in Germany that are protected by hundreds of kilometers of sandbars and mudflats that act as a natural wave break and storm defense. People who live on the islands',\n 'A road in Switzerland has been closed because of a rockfall.',\n 'What if you stand up?',\n \"The world's only floating McDonald's has opened in Hamburg, Germany.\",\n 'Schmid Peoplemover',\n \"The world's most useful model railway\",\n 'The Nürburgring is a dangerous place to drive.',\n 'The Hulmes Ferry is a small ferry that crosses the River Irwell in Greater Manchester.',\n \"The world's shortest commercial flight is taking off from Papa Westray in the Orkney Islands.\",\n \"The Ness of Brodgar is a huge Neolithic complex discovered in 2002. It is a place of gathering, 5000 years ago. Neolithic society wasn't a static society and through the thousand years\",\n 'The Tauchgondel, the diving gondola, is a modern-day version of a 19th-century diving bell.',\n \"Iceland's new volcano Fagradsads is a big attraction for tourists, but it's not the kind of attraction you'd expect to see from the airport.\",\n \"It's a bit of a tourist attraction, but it's also a vital part of the Claughton Quarry in Derbyshire.\",\n 'The Hive Mind is a collection of individual robots that work together to pack your groceries.',\n 'The U.S. Postal Service is putting Lincoln on the streets of New York City with a series of iReports. The project, called \"Lincoln\\'s Journey,\" will feature a series of',\n 'Gruinard Island',\n \"It's a huge expanse of sand, the wind is in the right direction, and the waves are coming in.\",\n \"Mother Shipton's Cave\",\n \"The Deep aquarium in Hull is the UK's largest marine life-support system.\",\n \"A village that's been eroding for centuries is set to disappear, according to new simulations.\",\n \"It's a road that's been used in a number of TV shows, but it's not the kind of road you'd expect to see in the middle of nowhere.\",\n 'The Broomway is a dangerous path in Britain.',\n \"The world's biggest coal mine has closed, but the legacy of the industry can still be seen in the landscape.\",\n 'The Vertical Swing is a rollercoaster in a cooling tower.',\n \"Iceland's Bridge Between Continents is a popular tourist attraction, but it's not the real deal.\",\n 'Iceland is a country with a reputation for being cold and northern.',\n 'Old Sarum',\n \"It's a story that's been repeated a thousand times, but it's never been true.\",\n 'The EVN nuclear power plant in Zwentendorf, Austria, is the only one of its kind in the world.',\n \"Luxembourg is a small country, but it's a very rich one.\",\n 'The Dutch are known for their extreme sports, but one of the most extreme is cycling against the wind.',\n \"It's not much to talk about, is it?\",\n 'The Newby-McMahon Building, a tiny building in the small town of Newby, Nebraska, is a popular tourist attraction.',\n 'Jarno Cordia is a wingsuit skydiving world champion who has been flying in a wind tunnel for the past six years.',\n \"It's a bit like a symphony orchestra, but with a difference.\",\n 'Finland is building a tomb for something that really is dangerous.',\n \"The world's largest iron ore pit is about to be filled with water.\",\n \"Louisiana's Wax Lake Delta is a place where people can walk on land and stand on it.\",\n \"The world's largest underground tank is located in Tokyo, Japan.\",\n 'The Byron Bay Railway Company in Australia has converted a 70-year-old vintage train to be 100% solar powered.',\n 'Dunedin Railways',\n \"Mount Taranaki, the world's most active volcano, is about to explode.\",\n \"The world's biggest container terminal is being transformed by robots.\",\n \"The most famous piece of art in the world is on display in New Zealand, but you'll have to queue for tickets.\",\n 'The last play-for-cash arcade in the world is open for business.',\n \"St Peter's Seminary\",\n \"It's a beautiful place, but it's also dangerous.\",\n 'Peachtree City, Georgia, has a lot of golf carts.',\n 'The mystery of the Georgia Guidestones has been solved in a BBC documentary.',\n 'Inchindown',\n \"The UK's oldest chalk figure is being restored to its original appearance.\",\n \"The RAF's oldest radar station is still working, 90 years after it was built.\",\n \"The DEW Line, the Cold War's first air defence system, was a huge success.\",\n \"Inuvik, Canada's most northerly town, is a place of contrasts.\",\n 'The Giant Mine is the largest gold mine in the world, but it also has the biggest toxic legacy.',\n 'The St Lawrence Burns',\n 'The border between Canada and the United States is a tricky one.',\n 'Asbestos, a town in Canada, is a town with a name.',\n \"The President's train, the one that took him from Washington to Chicago in 1913, is now on display at the Smithsonian's National Museum of American History.\",\n \"The mermaids at Weeki Wachee are a big attraction in Florida, but they're also a big attraction for the locals.\",\n 'Google Maps and Microsoft Street View are both wrong about the addresses in a German city.',\n 'Bad weather. Bad people. Bad roads. Bad buildings. Bad traffic. Bad skies. Bad conditions. Bad airports. Bad road conditions. And bad weather.',\n 'A town in Germany is being flooded by a fault line caused by a failed energy drilling operation.',\n 'Cloudflare has been using lava lamps to generate random numbers for its encryption system.',\n \"Leonard Knight's Salvation Mountain is a place where people can come and just enjoy themselves.\",\n 'The musical road of Lancaster, California',\n '\"What if I\\'ve missed the easy option to start with?\"',\n 'In the United States, there are a few types of jails.',\n 'The US has a long history of dirty secrets.',\n 'The German company Thyssenkrupp has developed a new type of elevator that can travel sideways.',\n 'The Museum of Failure',\n \"The Duchess of Northumberland has created a garden that is a 'living museum' of poisonous plants.\",\n 'The Saltstraumen Maelstrom',\n 'Half Moon Brewery in Bruges, Belgium, has raised £50,000 to build a new pipeline to transport beer from the brewery to the pubs and homes of the city.',\n \"We're using the HTC Vive to show off the latest version of the game, which is called Daydream.\",\n \"It's a bit like the Mona Lisa, only it's not in Paris.\",\n \"It's a bit of a mess, but it's not really a big deal.\",\n 'The Bay Model',\n \"It's a goat, and it's a goat, and it's a goat, and it's a goat, and it's a goat, and it's a goat, and it\",\n \"It's a bit of a cliché, but it's true: if you're a thrill seeker, you'll love this.\",\n 'Morgantown PRT is a personal rapid transit system that was supposed to be the future of travel.',\n \"The Green Bank Telescope is a huge scientific facility in West Virginia, but it's also a magnet for people who are sensitive to electromagnetic radiation.\",\n 'In the middle of the Arctic Ocean, on Ellesmere Island, a team of scientists is trying to keep an eye on the world.',\n 'Thames Town',\n 'The dinosaurs in the grounds of the former Crystal Palace in London are listed.',\n 'A narrow gauge railway in the Scottish Highlands has been running a bus replacement service between two villages while their main road is closed.',\n \"Genoa's Ascensore Castello d'Albertis Montegalleto is a bit of a mystery.\",\n 'The River Wharfe is the most dangerous stretch of water anywhere on Earth, according to a new study.',\n \"The UK's biggest nuclear power plant is being built in Berkshire.\",\n \"If you're a British tourist, Russia isn't easy to get into.\",\n 'The Netherlands is launching a new generation of satellites, called Cubesats, which are small satellites that can be launched into space.',\n \"The bobsleigh track at the Youth Winter Olympic Games in Norway is the world's biggest freezer.\",\n \"Monorails are a great idea for a city, but they're not the best way to get around.\",\n 'The Duga-3 Array, a Soviet radar station in Chernobyl, Ukraine, is now closed.',\n 'Bananas are a great source of potassium, and a tiny fraction of that potassium is an unstable, radioactive isotope. Every second, a few hundred potassium atoms in this banana decay.',\n 'The Fukushima disaster was the worst nuclear accident in history.']"
     },
     "execution_count": 7,
     "metadata": {},
     "output_type": "execute_result"
    }
   ],
   "source": [
    "generated_titles"
   ],
   "metadata": {
    "collapsed": false
   }
  },
  {
   "cell_type": "code",
   "execution_count": 10,
   "outputs": [],
   "source": [
    "summaries['t0_3B_vanilla_title_summarized'] = generated_titles\n",
    "summaries.to_csv('../data/generated/two_minute_papers_t0_3B_vanilla_summarized_v2.csv')"
   ],
   "metadata": {
    "collapsed": false
   }
  }
 ],
 "metadata": {
  "kernelspec": {
   "display_name": "Python 3",
   "language": "python",
   "name": "python3"
  },
  "language_info": {
   "codemirror_mode": {
    "name": "ipython",
    "version": 2
   },
   "file_extension": ".py",
   "mimetype": "text/x-python",
   "name": "python",
   "nbconvert_exporter": "python",
   "pygments_lexer": "ipython2",
   "version": "2.7.6"
  }
 },
 "nbformat": 4,
 "nbformat_minor": 0
}
