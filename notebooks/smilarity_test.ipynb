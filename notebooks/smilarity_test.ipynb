{
 "cells": [
  {
   "cell_type": "code",
   "execution_count": 10,
   "metadata": {
    "collapsed": true,
    "pycharm": {
     "name": "#%%\n"
    }
   },
   "outputs": [
    {
     "name": "stderr",
     "output_type": "stream",
     "text": [
      "[nltk_data] Downloading package stopwords to C:\\Users\\Marvin\n",
      "[nltk_data]     Kosmider\\AppData\\Roaming\\nltk_data...\n",
      "[nltk_data]   Package stopwords is already up-to-date!\n",
      "100%|██████████| 2/2 [00:00<00:00, 28.19it/s]\n",
      "100%|██████████| 9/9 [00:00<00:00, 58.80it/s]\n",
      "100%|██████████| 9/9 [00:00<00:00, 51.61it/s]\n",
      "100%|██████████| 15/15 [00:00<00:00, 52.08it/s]\n",
      "100%|██████████| 11/11 [00:00<00:00, 41.79it/s]\n",
      "100%|██████████| 8/8 [00:00<00:00, 45.28it/s]\n",
      "100%|██████████| 12/12 [00:00<00:00, 34.99it/s]\n",
      "100%|██████████| 10/10 [00:00<00:00, 46.52it/s]\n",
      "100%|██████████| 8/8 [00:00<00:00, 36.94it/s]\n",
      "100%|██████████| 12/12 [00:00<00:00, 55.55it/s]\n",
      "100%|██████████| 6/6 [00:00<00:00, 39.20it/s]\n",
      "100%|██████████| 11/11 [00:00<00:00, 50.45it/s]\n",
      "100%|██████████| 11/11 [00:00<00:00, 61.99it/s]\n",
      "100%|██████████| 10/10 [00:00<00:00, 45.99it/s]\n",
      "100%|██████████| 11/11 [00:00<00:00, 32.28it/s]\n",
      "100%|██████████| 10/10 [00:00<00:00, 68.71it/s]\n",
      "100%|██████████| 6/6 [00:00<00:00, 39.74it/s]\n",
      "100%|██████████| 9/9 [00:00<00:00, 36.00it/s]\n",
      "100%|██████████| 9/9 [00:00<00:00, 44.74it/s]\n",
      "100%|██████████| 4/4 [00:00<00:00, 153.78it/s]\n",
      "100%|██████████| 8/8 [00:00<00:00, 45.79it/s]\n",
      "100%|██████████| 4/4 [00:00<00:00, 59.10it/s]\n",
      "100%|██████████| 11/11 [00:00<00:00, 67.03it/s]\n",
      "100%|██████████| 5/5 [00:00<00:00, 55.57it/s]\n",
      "100%|██████████| 5/5 [00:00<00:00, 54.92it/s]\n",
      "100%|██████████| 7/7 [00:00<00:00, 143.48it/s]\n",
      "100%|██████████| 5/5 [00:00<00:00, 69.12it/s]\n",
      "100%|██████████| 14/14 [00:00<00:00, 69.14it/s]\n",
      "100%|██████████| 14/14 [00:00<00:00, 69.41it/s]\n",
      "100%|██████████| 9/9 [00:00<00:00, 77.08it/s]\n",
      "100%|██████████| 9/9 [00:00<00:00, 63.34it/s]\n",
      "100%|██████████| 8/8 [00:00<00:00, 70.15it/s]\n",
      "100%|██████████| 13/13 [00:00<00:00, 53.63it/s]\n",
      "100%|██████████| 7/7 [00:00<00:00, 58.34it/s]\n",
      "100%|██████████| 11/11 [00:00<00:00, 58.23it/s]\n",
      "100%|██████████| 9/9 [00:00<00:00, 67.43it/s]\n",
      "100%|██████████| 10/10 [00:00<00:00, 79.21it/s]\n",
      "100%|██████████| 8/8 [00:00<00:00, 63.23it/s]\n",
      "100%|██████████| 8/8 [00:00<00:00, 58.23it/s]\n",
      "100%|██████████| 6/6 [00:00<00:00, 51.51it/s]\n",
      "100%|██████████| 10/10 [00:00<00:00, 76.98it/s]\n",
      "100%|██████████| 11/11 [00:00<00:00, 53.38it/s]\n",
      "100%|██████████| 7/7 [00:00<00:00, 52.28it/s]\n",
      "100%|██████████| 12/12 [00:00<00:00, 85.02it/s]\n",
      "100%|██████████| 5/5 [00:00<00:00, 60.66it/s]\n",
      "100%|██████████| 7/7 [00:00<00:00, 83.46it/s]\n",
      "100%|██████████| 5/5 [00:00<00:00, 47.14it/s]\n",
      "100%|██████████| 8/8 [00:00<00:00, 60.92it/s]\n",
      "100%|██████████| 11/11 [00:00<00:00, 64.50it/s]\n",
      "100%|██████████| 9/9 [00:00<00:00, 46.24it/s]\n",
      "100%|██████████| 11/11 [00:00<00:00, 49.53it/s]\n",
      "100%|██████████| 12/12 [00:00<00:00, 73.63it/s]\n",
      "100%|██████████| 8/8 [00:00<00:00, 45.73it/s]\n",
      "100%|██████████| 9/9 [00:00<00:00, 84.78it/s]\n",
      "100%|██████████| 5/5 [00:00<00:00, 51.02it/s]\n",
      "100%|██████████| 7/7 [00:00<00:00, 77.14it/s]\n",
      "100%|██████████| 9/9 [00:00<00:00, 52.61it/s]\n",
      "100%|██████████| 6/6 [00:00<00:00, 73.45it/s]\n",
      "100%|██████████| 10/10 [00:00<00:00, 64.83it/s]\n",
      "100%|██████████| 9/9 [00:00<00:00, 65.33it/s]\n",
      "100%|██████████| 3/3 [00:00<00:00, 71.69it/s]\n",
      "100%|██████████| 5/5 [00:00<00:00, 59.54it/s]\n",
      "100%|██████████| 8/8 [00:00<00:00, 64.09it/s]\n",
      "100%|██████████| 9/9 [00:00<00:00, 50.54it/s]\n",
      "100%|██████████| 8/8 [00:00<00:00, 52.62it/s]\n",
      "100%|██████████| 12/12 [00:00<00:00, 60.77it/s]\n",
      "100%|██████████| 10/10 [00:00<00:00, 46.04it/s]\n",
      "100%|██████████| 7/7 [00:00<00:00, 86.14it/s]\n",
      "100%|██████████| 12/12 [00:00<00:00, 50.06it/s]\n",
      "100%|██████████| 11/11 [00:00<00:00, 49.57it/s]\n",
      "100%|██████████| 9/9 [00:00<00:00, 51.22it/s]\n",
      "100%|██████████| 10/10 [00:00<00:00, 63.60it/s]\n",
      "100%|██████████| 6/6 [00:00<00:00, 102.97it/s]\n",
      "100%|██████████| 8/8 [00:00<00:00, 80.64it/s]\n",
      "100%|██████████| 7/7 [00:00<00:00, 87.56it/s]\n",
      "100%|██████████| 10/10 [00:00<00:00, 83.56it/s]\n",
      "100%|██████████| 8/8 [00:00<00:00, 54.48it/s]\n",
      "100%|██████████| 10/10 [00:00<00:00, 63.16it/s]\n",
      "100%|██████████| 14/14 [00:00<00:00, 66.61it/s]\n",
      "100%|██████████| 9/9 [00:00<00:00, 46.06it/s]\n",
      "100%|██████████| 9/9 [00:00<00:00, 50.26it/s]\n",
      "100%|██████████| 10/10 [00:00<00:00, 54.78it/s]\n",
      "100%|██████████| 7/7 [00:00<00:00, 59.65it/s]\n",
      "100%|██████████| 13/13 [00:00<00:00, 91.05it/s] \n",
      "100%|██████████| 4/4 [00:00<00:00, 65.44it/s]\n",
      "100%|██████████| 9/9 [00:00<00:00, 70.09it/s]\n",
      "100%|██████████| 9/9 [00:00<00:00, 59.43it/s]\n",
      "100%|██████████| 9/9 [00:00<00:00, 68.31it/s]\n",
      "100%|██████████| 9/9 [00:00<00:00, 98.15it/s]\n",
      "100%|██████████| 6/6 [00:00<00:00, 54.09it/s]\n",
      "100%|██████████| 6/6 [00:00<00:00, 73.73it/s]\n",
      "100%|██████████| 6/6 [00:00<00:00, 58.70it/s]\n",
      "100%|██████████| 9/9 [00:00<00:00, 62.78it/s]\n",
      "100%|██████████| 9/9 [00:00<00:00, 54.25it/s]\n",
      "100%|██████████| 9/9 [00:00<00:00, 47.90it/s]\n",
      "100%|██████████| 9/9 [00:00<00:00, 62.57it/s]\n",
      "100%|██████████| 8/8 [00:00<00:00, 57.51it/s]\n",
      "100%|██████████| 7/7 [00:00<00:00, 43.77it/s]\n",
      "100%|██████████| 8/8 [00:00<00:00, 55.94it/s]\n",
      "100%|██████████| 11/11 [00:00<00:00, 71.09it/s]\n",
      "100%|██████████| 6/6 [00:00<00:00, 48.76it/s]\n",
      "100%|██████████| 10/10 [00:00<00:00, 58.46it/s]\n",
      "100%|██████████| 10/10 [00:00<00:00, 82.68it/s]\n",
      "100%|██████████| 11/11 [00:00<00:00, 62.04it/s]\n",
      "100%|██████████| 7/7 [00:00<00:00, 50.46it/s]\n",
      "100%|██████████| 11/11 [00:00<00:00, 70.82it/s]\n",
      "100%|██████████| 13/13 [00:00<00:00, 60.39it/s]\n",
      "100%|██████████| 6/6 [00:00<00:00, 57.14it/s]\n",
      "100%|██████████| 9/9 [00:00<00:00, 68.76it/s]\n",
      "100%|██████████| 5/5 [00:00<00:00, 52.47it/s]\n",
      "100%|██████████| 10/10 [00:00<00:00, 62.81it/s]\n",
      "100%|██████████| 6/6 [00:00<00:00, 62.93it/s]\n",
      "100%|██████████| 9/9 [00:00<00:00, 82.75it/s]\n",
      "100%|██████████| 13/13 [00:00<00:00, 69.65it/s]\n",
      "100%|██████████| 8/8 [00:00<00:00, 90.35it/s]\n",
      "100%|██████████| 10/10 [00:00<00:00, 56.39it/s]\n",
      "100%|██████████| 9/9 [00:00<00:00, 48.69it/s]\n",
      "100%|██████████| 8/8 [00:00<00:00, 69.53it/s]\n",
      "100%|██████████| 6/6 [00:00<00:00, 71.63it/s]\n",
      "100%|██████████| 9/9 [00:00<00:00, 49.36it/s]\n",
      "100%|██████████| 7/7 [00:00<00:00, 88.68it/s]\n",
      "100%|██████████| 11/11 [00:00<00:00, 63.00it/s]\n",
      "100%|██████████| 9/9 [00:00<00:00, 56.25it/s]\n",
      "100%|██████████| 8/8 [00:00<00:00, 50.70it/s]\n",
      "100%|██████████| 5/5 [00:00<00:00, 72.94it/s]\n",
      "100%|██████████| 5/5 [00:00<00:00, 53.54it/s]\n",
      "100%|██████████| 6/6 [00:00<00:00, 53.38it/s]\n",
      "100%|██████████| 10/10 [00:00<00:00, 75.65it/s]\n",
      "100%|██████████| 8/8 [00:00<00:00, 89.07it/s]\n",
      "100%|██████████| 9/9 [00:00<00:00, 57.04it/s]\n",
      "100%|██████████| 7/7 [00:00<00:00, 57.56it/s]\n",
      "100%|██████████| 8/8 [00:00<00:00, 59.49it/s]\n",
      "100%|██████████| 11/11 [00:00<00:00, 50.04it/s]\n",
      "100%|██████████| 7/7 [00:00<00:00, 78.24it/s]\n",
      "100%|██████████| 5/5 [00:00<00:00, 69.95it/s]\n",
      "100%|██████████| 10/10 [00:00<00:00, 73.04it/s]\n",
      "100%|██████████| 12/12 [00:00<00:00, 76.04it/s]\n",
      "100%|██████████| 9/9 [00:00<00:00, 87.52it/s]\n",
      "100%|██████████| 11/11 [00:00<00:00, 67.44it/s]\n",
      "100%|██████████| 9/9 [00:00<00:00, 61.14it/s]\n",
      "100%|██████████| 7/7 [00:00<00:00, 58.00it/s]\n",
      "100%|██████████| 10/10 [00:00<00:00, 72.56it/s]\n",
      "100%|██████████| 12/12 [00:00<00:00, 96.96it/s]\n",
      "100%|██████████| 10/10 [00:00<00:00, 66.63it/s]\n",
      "100%|██████████| 7/7 [00:00<00:00, 68.60it/s]\n",
      "100%|██████████| 11/11 [00:00<00:00, 56.13it/s]\n",
      "100%|██████████| 9/9 [00:00<00:00, 70.69it/s]\n",
      "100%|██████████| 10/10 [00:00<00:00, 53.85it/s]\n",
      "100%|██████████| 5/5 [00:00<00:00, 55.18it/s]\n",
      "100%|██████████| 5/5 [00:00<00:00, 73.24it/s]\n",
      "100%|██████████| 8/8 [00:00<00:00, 67.47it/s]\n",
      "100%|██████████| 7/7 [00:00<00:00, 55.53it/s]\n",
      "100%|██████████| 8/8 [00:00<00:00, 64.84it/s]\n",
      "100%|██████████| 5/5 [00:00<00:00, 53.49it/s]\n",
      "100%|██████████| 9/9 [00:00<00:00, 75.76it/s]\n",
      "100%|██████████| 7/7 [00:00<00:00, 55.62it/s]\n",
      "100%|██████████| 12/12 [00:00<00:00, 61.23it/s]\n",
      "100%|██████████| 12/12 [00:00<00:00, 68.10it/s]\n",
      "100%|██████████| 9/9 [00:00<00:00, 92.20it/s]\n",
      "100%|██████████| 11/11 [00:00<00:00, 68.91it/s]\n",
      "100%|██████████| 8/8 [00:00<00:00, 76.96it/s]\n",
      "100%|██████████| 9/9 [00:00<00:00, 64.00it/s]\n",
      "100%|██████████| 7/7 [00:00<00:00, 76.84it/s]\n",
      "100%|██████████| 9/9 [00:00<00:00, 61.52it/s]\n",
      "100%|██████████| 2/2 [00:00<00:00, 59.85it/s]\n",
      "100%|██████████| 8/8 [00:00<00:00, 90.22it/s]\n",
      "100%|██████████| 9/9 [00:00<00:00, 83.47it/s]\n",
      "100%|██████████| 8/8 [00:00<00:00, 74.37it/s]\n",
      "100%|██████████| 9/9 [00:00<00:00, 87.68it/s]\n",
      "100%|██████████| 6/6 [00:00<00:00, 82.07it/s]\n",
      "100%|██████████| 7/7 [00:00<00:00, 133.31it/s]\n",
      "100%|██████████| 10/10 [00:00<00:00, 64.88it/s]\n",
      "100%|██████████| 15/15 [00:00<00:00, 63.86it/s]\n",
      "100%|██████████| 9/9 [00:00<00:00, 103.58it/s]\n",
      "100%|██████████| 5/5 [00:00<00:00, 139.01it/s]\n",
      "100%|██████████| 12/12 [00:00<00:00, 68.28it/s]\n",
      "100%|██████████| 6/6 [00:00<00:00, 53.75it/s]\n",
      "100%|██████████| 6/6 [00:00<00:00, 72.13it/s]\n",
      "100%|██████████| 13/13 [00:00<00:00, 63.37it/s]\n",
      "100%|██████████| 10/10 [00:00<00:00, 60.52it/s]\n",
      "100%|██████████| 8/8 [00:00<00:00, 65.80it/s]\n",
      "100%|██████████| 8/8 [00:00<00:00, 43.89it/s]\n",
      "100%|██████████| 8/8 [00:00<00:00, 66.37it/s]\n",
      "100%|██████████| 6/6 [00:00<00:00, 80.82it/s]\n",
      "100%|██████████| 7/7 [00:00<00:00, 82.19it/s]\n",
      "100%|██████████| 7/7 [00:00<00:00, 76.76it/s]\n",
      "100%|██████████| 8/8 [00:00<00:00, 64.00it/s]\n",
      "100%|██████████| 8/8 [00:00<00:00, 65.54it/s]\n",
      "100%|██████████| 10/10 [00:00<00:00, 61.84it/s]\n",
      "100%|██████████| 9/9 [00:00<00:00, 124.94it/s]\n",
      "100%|██████████| 9/9 [00:00<00:00, 91.66it/s]\n",
      "100%|██████████| 8/8 [00:00<00:00, 61.99it/s]\n",
      "100%|██████████| 3/3 [00:00<00:00, 61.74it/s]\n",
      "100%|██████████| 15/15 [00:00<00:00, 66.15it/s]\n",
      "100%|██████████| 10/10 [00:00<00:00, 69.32it/s]\n",
      "100%|██████████| 10/10 [00:00<00:00, 61.27it/s]\n",
      "100%|██████████| 11/11 [00:00<00:00, 91.77it/s]\n",
      "100%|██████████| 9/9 [00:00<00:00, 69.95it/s]\n",
      "100%|██████████| 5/5 [00:00<00:00, 56.37it/s]\n",
      "100%|██████████| 11/11 [00:00<00:00, 82.57it/s]\n",
      "100%|██████████| 9/9 [00:00<00:00, 64.71it/s]\n",
      "100%|██████████| 8/8 [00:00<00:00, 89.13it/s]\n",
      "100%|██████████| 12/12 [00:00<00:00, 83.18it/s]\n",
      "100%|██████████| 9/9 [00:00<00:00, 52.67it/s]\n",
      "100%|██████████| 10/10 [00:00<00:00, 66.93it/s]\n",
      "100%|██████████| 11/11 [00:00<00:00, 87.95it/s]\n",
      "100%|██████████| 9/9 [00:00<00:00, 87.24it/s]\n",
      "100%|██████████| 11/11 [00:00<00:00, 78.79it/s]\n",
      "100%|██████████| 10/10 [00:00<00:00, 60.37it/s]\n",
      "100%|██████████| 10/10 [00:00<00:00, 68.87it/s]\n",
      "100%|██████████| 5/5 [00:00<00:00, 62.51it/s]\n",
      "100%|██████████| 7/7 [00:00<00:00, 76.46it/s]\n",
      "100%|██████████| 14/14 [00:00<00:00, 74.98it/s]\n",
      "100%|██████████| 7/7 [00:00<00:00, 83.46it/s]\n",
      "100%|██████████| 5/5 [00:00<00:00, 82.16it/s]\n",
      "100%|██████████| 10/10 [00:00<00:00, 72.40it/s]\n",
      "100%|██████████| 8/8 [00:00<00:00, 98.01it/s]\n",
      "100%|██████████| 6/6 [00:00<00:00, 56.39it/s]\n",
      "100%|██████████| 10/10 [00:00<00:00, 75.04it/s]\n",
      "100%|██████████| 11/11 [00:00<00:00, 65.33it/s]\n",
      "100%|██████████| 9/9 [00:00<00:00, 65.11it/s]\n",
      "100%|██████████| 6/6 [00:00<00:00, 67.38it/s]\n",
      "100%|██████████| 11/11 [00:00<00:00, 115.94it/s]\n",
      "100%|██████████| 10/10 [00:00<00:00, 83.61it/s]\n",
      "100%|██████████| 5/5 [00:00<00:00, 83.93it/s]\n",
      "100%|██████████| 12/12 [00:00<00:00, 68.26it/s]\n",
      "100%|██████████| 7/7 [00:00<00:00, 72.15it/s]\n",
      "100%|██████████| 7/7 [00:00<00:00, 61.71it/s]\n"
     ]
    }
   ],
   "source": [
    "import csv\n",
    "\n",
    "from src.similarity.TitleSimilarity import TitleSimilarity\n",
    "\n",
    "ts = TitleSimilarity()\n",
    "ts.__int__()\n",
    "\n",
    "scores = list()\n",
    "no_similarity = list()\n",
    "perfect_similarity = list()\n",
    "somewhat_similar = list()\n",
    "\n",
    "with open('../data/generated/tom_scott_videos_gpt3_vanilla_v1.csv', 'r', encoding='utf-8') as csvfile:\n",
    "    datareader = csv.reader(csvfile)\n",
    "    for row in datareader:\n",
    "        if row[1] != '' and row[3] != '':\n",
    "            score = ts.scores_scm(row[1], row[3])\n",
    "\n",
    "            scores.append(score)\n",
    "\n",
    "            if score == 0:\n",
    "                no_similarity.append(row[1] + ' vs. ' + row[3])\n",
    "\n",
    "            if 0.6 <= score < 1:\n",
    "                somewhat_similar.append(row[1] + ' vs. ' + row[3])\n",
    "\n",
    "            if score == 1:\n",
    "                perfect_similarity.append(row[1] + ' vs. ' + row[3])"
   ]
  },
  {
   "cell_type": "code",
   "execution_count": 11,
   "outputs": [
    {
     "data": {
      "text/plain": "<Figure size 432x288 with 1 Axes>",
      "image/png": "[encoded data removed]"
     },
     "metadata": {
      "needs_background": "light"
     },
     "output_type": "display_data"
    }
   ],
   "source": [
    "import matplotlib.pyplot as plt\n",
    "\n",
    "plt.hist(scores)\n",
    "plt.show()"
   ],
   "metadata": {
    "collapsed": false,
    "pycharm": {
     "name": "#%%\n"
    }
   }
  },
  {
   "cell_type": "code",
   "execution_count": 8,
   "outputs": [
    {
     "data": {
      "text/plain": "['title vs. gpt3_vanilla_title',\n 'The Elie Chainwalk is safe, as long as you follow the signs vs. The Chain Walk: A Risky but Rewarding Experience',\n 'This town forgot to be a city vs. Rochester City: A story of forgotten paperwork',\n 'Literally just three minutes where I talk about some rocks vs. The Importance of Siccar Point',\n \"The tunnel where people pay to inhale radioactive gas vs. Why I'm conflicted about radon therapy\",\n 'Why this &quot;falling rocks&quot; sign is more important than most vs. Radar-Guided Stoplights: The Simple Solution to a Complicated Problem',\n \"The public toll road with no speed limit vs. The Nürburgring: If you've already heard of it, enjoy this video\",\n 'History forgot these old fireworks. We recreated them. vs. The Rock Cannon of Gwynedd',\n \"Landing at the only airport that's also a public beach vs. This video contains burned-in subtitles.\",\n 'Why Shakespeare Could Never Have Been French vs. The Language Files: On the Road with Tom',\n 'Why No-One Will Save Covehithe, The Village That Will Soon Crumble Into The Sea vs. The Last Village: The Erosion of Covehithe',\n \"Australia's Bushfire-Hunting Satellites vs. Introducing James from Atomic Frontier\",\n \"The Greatest Title Sequence I've Ever Seen vs. Alright On The Night: A Television Institution\",\n 'The Pumps That Must Run Forever, Or Part Of Germany Floods vs. The Ruhr Valley: A Legacy of Coal Mining',\n 'It’s pronounced GIF. vs. Lingthusiasm: The Great GIF Debate',\n 'How Binary Search Makes Computers Much, Much Faster vs. How to Put a Shelf of Books in Order',\n 'Which Is &quot;Bouba&quot;, and Which Is &quot;Kiki&quot;? vs. Bouba and Kiki: The Famous Linguistics Experiment',\n 'Is The Most Northern Part Of Iceland Still There? vs. The Disappearing Island: The Strange Story of Kolbeinsey',\n \"For 21 Years, No-One In Britain Knew How Long An Inch Was vs. The Great Fire of Parliament and the Reconstruction of Britain's Measurement System\",\n 'The Village That The Luftwaffe Bombed By Mistake vs. The Linby Trail Bombing: A Local Myth',\n \"The Abandoned Hill With Two Members Of Parliament vs. Old Sarum: England's Rotten Borough\",\n 'How Neurosurgeons Navigate Inside The Brain vs. The Benefits and Risks of Neurosurgery',\n \"Why My Teenage Code Was Terrible: Sorting Algorithms and Big O Notation vs. The Work Experience Kid's Job\",\n 'Why Do We Move Our Hands When We Talk? vs. The Many Functions of Gestures',\n 'Is The World Running Out Of Helium? vs. The Dwindling Helium Supply',\n 'The Giant Art That Keeps Planes Quiet vs. The Incredible Power of Human Hearing',\n 'The Toxic Pit With A $3 Admission Fee vs. The Berkeley Pit: A Tourist Attraction with a Dark History',\n \"I'm Not A Robot ✅ vs. How to beat the CAPTCHA\",\n 'Flying A Plane With Fireworks On The Wings vs. Aerosparx',\n 'Why “No Problem” Can Seem Rude: Phatic Expressions vs. The Many Uses of Good Morning',\n \"Why You Can't Trust Me vs. Coober Pedy: A Town in the Australian Outback\",\n 'Mr Olds’ Remarkable Elevator vs. 21st Century Screws: Big industrial inventions',\n 'The Hundred-Tonne Robots That Help Keep New Zealand Running vs. \"The Ports of Auckland: Robotizing the Future\"',\n 'Where Two Oceans Meet, Debunked vs. The Truth About Cape Reinga',\n 'I Drove My Childhood Favorite Racing Game In Real Life vs. Nostalgia for Need for Speed II',\n 'Blindfold Balancing in the Spinning Space Chair vs. The Spatial Orientation Laboratory at Brandeis University',\n \"Why Denmark Is .10 Seconds Behind The World vs. The Problem with Denmark's Timezone\",\n 'I Got To See And Hold My Brain vs. fMRI with Alie and Micah',\n 'This Is Your Brain On Stale Air vs. Kurtis Baute: Filmmaker Seals Himself in Biodome to Show Dangers of Carbon Dioxide',\n 'The Consequences of Your Code vs. Roses Are Red, Violets Are Blue, I Got Chlamydia from You',\n 'The Artificial Intelligence That Deleted A Century vs. The AI That Forgot the Beatles: The Story of Earworm',\n \"Testing The World's Longest Echo vs. -The Secrets of Inchindown Oil Tanks\",\n '᚛ᚈᚑᚋ\\u1680ᚄᚉᚑᚈᚈ᚜ and ᚛ᚑᚌᚐᚋ᚜ vs. Ogham Stones: An Exception to the Rule',\n 'The Quiz That Was Shared A Million Times vs. How Northern Are You?',\n 'I Hit 3,000-Year-Old Art with a Hammer vs. - The Uffington White Horse',\n 'The Drink With A Human Toe In It vs. - The Sourtoe Cocktail: A History',\n \"Tilting an Icy Floor Until You Fall Over: WinterLab vs. I'm in Toronto, Canada.\",\n 'The Town That Was Burned for Science: Aultsville vs. The St. Lawrence Seaway: A Look Back',\n \"The US President's Bulletproof Railcar vs. The Ferdinand Magellan: America's First Presidential Train Car\",\n \"Sign Language Isn't Universal vs. This Week's Guest: Rikki Poynter\",\n \"17 Tonnes of Spinning Glass: Making the World's Largest Telescope vs. Active Galactic Videos: A Channel Dedicated to Science\",\n \"Is It Dangerous To Talk To A Camera While Driving? vs. Tom's Terrifying Test in the National Advanced Driving Simulator\"]"
     },
     "execution_count": 8,
     "metadata": {},
     "output_type": "execute_result"
    }
   ],
   "source": [
    "no_similarity"
   ],
   "metadata": {
    "collapsed": false,
    "pycharm": {
     "name": "#%%\n"
    }
   }
  },
  {
   "cell_type": "code",
   "execution_count": 9,
   "outputs": [
    {
     "data": {
      "text/plain": "[\"The world's most useful model railway vs. The World's Most Useful Model Railway\",\n \"The World's First Internet Bench vs. The world's first Internet Bench\",\n \"The World's First Solar Powered Train vs. The World's First Solar Powered Train\"]"
     },
     "execution_count": 9,
     "metadata": {},
     "output_type": "execute_result"
    }
   ],
   "source": [
    "perfect_similarity"
   ],
   "metadata": {
    "collapsed": false,
    "pycharm": {
     "name": "#%%\n"
    }
   }
  },
  {
   "cell_type": "code",
   "execution_count": 12,
   "outputs": [
    {
     "data": {
      "text/plain": "[\"The world's only float-through McDonalds vs. The World's Only Float-Through McDonald's\",\n 'Three strange river crossings vs. The Three Strange River Crossings of Manchester',\n 'The Islands With Too Much Power vs. Orkney: Too Much Wind Power',\n 'The Long-Forgotten History of the British Moon Spacesuit vs. The Long-Forgotten History of the British Moon Landings',\n 'The Difference Between High Explosives and Low Explosives vs. The Subtlety of High and Low Explosives',\n \"Why Real Explosions Don't Look Like Movie Explosions vs. The Tricks to Making Explosions Look Good in Movies\",\n 'The Radioactive Beach In New York vs. The Radioactive Beach in New York City',\n 'How Many Languages Are There? vs. How Many Languages Are There?',\n 'Walking The Most Dangerous Path In Britain vs. Broomway: The Most Dangerous Path in Britain',\n 'The Theme Park Inside An Old Nuclear Power Plant vs. Abandoned Nuclear Power Plants Turned Into Unusual Theme Parks',\n 'A Million Dollars vs A Billion Dollars, Visualized: A Road Trip vs. Driving to a Billion Dollars',\n \"Why You Can't Name A File CON In Windows vs. The History of the Windows Con File\",\n 'The Country Where All Public Transit Is Free vs. Luxembourg: The Small Rich Country Making Public Transit Free',\n 'Why The Dutch Headwind Cycling Championships Are Difficult And Amazing vs. The Dutch headwind cycling championships',\n 'Why Electronic Voting Is Still A Bad Idea vs. Why electronic voting is still a bad idea',\n 'The Last Play-For-Cash Fascination Parlor vs. The Last Play-for-Cash Fascination Parlor in the World',\n 'The Other Tree That Owns Itself vs. The Tree That Owns Itself and the Other Tree That Owns Itself',\n 'The New Highway to the Arctic Ocean vs. From Sea to Sea to Sea: The Building of the Dempster Highway',\n 'A Town Called Asbestos vs. The Town Called Asbestos',\n '⚫ How The Black Point Message Crashes Android Apps vs. The Black Spot: A WhatsApp Message That Crashes the App',\n \"We Sent Garlic Bread to the Edge of Space, Then Ate It vs. Space Bread: We're sending garlic bread to the edge of space!\",\n 'Making an International Standard Cup of Tea vs. The International Standard Cup of Tea',\n 'This Video Is 2D And 3D Simultaneously: the Pulfrich Effect vs. 3D Video Using the Pulfrich Effect',\n \"The Null Hypothesis vs. The Null Hypothesis: When You're Proving a Theory\",\n 'Why Hold Music Sounds Worse Now vs. The Terrible Truth About Hold Music']"
     },
     "execution_count": 12,
     "metadata": {},
     "output_type": "execute_result"
    }
   ],
   "source": [
    "somewhat_similar"
   ],
   "metadata": {
    "collapsed": false,
    "pycharm": {
     "name": "#%%\n"
    }
   }
  }
 ],
 "metadata": {
  "kernelspec": {
   "display_name": "Python 3",
   "language": "python",
   "name": "python3"
  },
  "language_info": {
   "codemirror_mode": {
    "name": "ipython",
    "version": 2
   },
   "file_extension": ".py",
   "mimetype": "text/x-python",
   "name": "python",
   "nbconvert_exporter": "python",
   "pygments_lexer": "ipython2",
   "version": "2.7.6"
  }
 },
 "nbformat": 4,
 "nbformat_minor": 0
}