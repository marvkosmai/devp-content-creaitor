{
 "cells": [
  {
   "cell_type": "code",
   "execution_count": 1,
   "metadata": {
    "collapsed": true
   },
   "outputs": [],
   "source": [
    "from src.subtitle.SubtitleToStorage import SubtitlesToStorage\n",
    "import pandas as pd\n",
    "from tqdm import tqdm"
   ]
  },
  {
   "cell_type": "markdown",
   "source": [
    "Change the source videos here:\n",
    "- tom_scott_videos_all.csv\n",
    "- two_minute_papers_all.csv"
   ],
   "metadata": {
    "collapsed": false
   }
  },
  {
   "cell_type": "code",
   "execution_count": 10,
   "outputs": [
    {
     "data": {
      "text/plain": "        video_id                                              title\n0    P0fMwA3X5KI     NVIDIA's Image Restoration AI: Almost Perfect!\n1    LBezOcnNJ68          NVIDIA's AI Makes Amazing Slow-Mo Videos!\n2    eSaShQbUJTQ                    DeepMind's AI Takes An IQ Test!\n3    MvFABFWPBrw   DeepMind Has A Superhuman Level Quake 3 AI Team!\n4    xHpwLiTieu4              This is How You Hack A Neural Network\n..           ...                                                ...\n666  nE5iVtwKerA  OpenAI’s Whisper Learned 680,000 Hours Of Speech!\n667  --ZXFpt2S1E  Crushing 1,000,000 Particles With a Hydraulic ...\n668  Dt0cA2phKfU       Ubisoft’s New AI: Breathing Life Into Games!\n669  263vx1g52eM        OpenAI’s New AI: Video Game Addict No More!\n670  shy51E-MU8Y             NVIDIA’s New AI: Generating 3D Models!\n\n[671 rows x 2 columns]",
      "text/html": "<div>\n<style scoped>\n    .dataframe tbody tr th:only-of-type {\n        vertical-align: middle;\n    }\n\n    .dataframe tbody tr th {\n        vertical-align: top;\n    }\n\n    .dataframe thead th {\n        text-align: right;\n    }\n</style>\n<table border=\"1\" class=\"dataframe\">\n  <thead>\n    <tr style=\"text-align: right;\">\n      <th></th>\n      <th>video_id</th>\n      <th>title</th>\n    </tr>\n  </thead>\n  <tbody>\n    <tr>\n      <th>0</th>\n      <td>P0fMwA3X5KI</td>\n      <td>NVIDIA's Image Restoration AI: Almost Perfect!</td>\n    </tr>\n    <tr>\n      <th>1</th>\n      <td>LBezOcnNJ68</td>\n      <td>NVIDIA's AI Makes Amazing Slow-Mo Videos!</td>\n    </tr>\n    <tr>\n      <th>2</th>\n      <td>eSaShQbUJTQ</td>\n      <td>DeepMind's AI Takes An IQ Test!</td>\n    </tr>\n    <tr>\n      <th>3</th>\n      <td>MvFABFWPBrw</td>\n      <td>DeepMind Has A Superhuman Level Quake 3 AI Team!</td>\n    </tr>\n    <tr>\n      <th>4</th>\n      <td>xHpwLiTieu4</td>\n      <td>This is How You Hack A Neural Network</td>\n    </tr>\n    <tr>\n      <th>...</th>\n      <td>...</td>\n      <td>...</td>\n    </tr>\n    <tr>\n      <th>666</th>\n      <td>nE5iVtwKerA</td>\n      <td>OpenAI’s Whisper Learned 680,000 Hours Of Speech!</td>\n    </tr>\n    <tr>\n      <th>667</th>\n      <td>--ZXFpt2S1E</td>\n      <td>Crushing 1,000,000 Particles With a Hydraulic ...</td>\n    </tr>\n    <tr>\n      <th>668</th>\n      <td>Dt0cA2phKfU</td>\n      <td>Ubisoft’s New AI: Breathing Life Into Games!</td>\n    </tr>\n    <tr>\n      <th>669</th>\n      <td>263vx1g52eM</td>\n      <td>OpenAI’s New AI: Video Game Addict No More!</td>\n    </tr>\n    <tr>\n      <th>670</th>\n      <td>shy51E-MU8Y</td>\n      <td>NVIDIA’s New AI: Generating 3D Models!</td>\n    </tr>\n  </tbody>\n</table>\n<p>671 rows × 2 columns</p>\n</div>"
     },
     "execution_count": 10,
     "metadata": {},
     "output_type": "execute_result"
    }
   ],
   "source": [
    "videos = pd.read_csv('../data/videos/two_minute_papers_all.csv')\n",
    "videos"
   ],
   "metadata": {
    "collapsed": false
   }
  },
  {
   "cell_type": "code",
   "execution_count": 11,
   "outputs": [
    {
     "name": "stderr",
     "output_type": "stream",
     "text": [
      "100%|██████████| 671/671 [08:34<00:00,  1.31it/s]\n"
     ]
    }
   ],
   "source": [
    "titles_subtitles = list()\n",
    "for _, row in tqdm(videos.iterrows(), total=videos.shape[0]):\n",
    "    subtitle_downloader = SubtitlesToStorage(\n",
    "        source='youtube',\n",
    "        video_id=row['video_id'],\n",
    "        storage_config={'type': 'return_value'}\n",
    "    )\n",
    "    try:\n",
    "        subtitles = subtitle_downloader.save()\n",
    "    except:\n",
    "        continue\n",
    "    subtitles = subtitles.replace('\\n', ' ')\n",
    "    subtitles = subtitles.replace('- ', '')\n",
    "    titles_subtitles.append({'title': row['title'],  'subtitles': subtitles})"
   ],
   "metadata": {
    "collapsed": false
   }
  },
  {
   "cell_type": "code",
   "execution_count": 12,
   "outputs": [
    {
     "data": {
      "text/plain": "{'title': \"NVIDIA's Image Restoration AI: Almost Perfect!\",\n 'subtitles': \"Dear Fellow Scholars, this is Two Minute Papers with Károly Zsolnai-Fehér. Image denoising is an area where we have a noisy image as an input, and we wish to get a clear, noise-free image. Neural network-based solutions are amazing at this, because we can feed them a large amount of training data with noisy inputs and clear outputs. And if we do that, during the training process, the neural network will be able to learn the concept of noise, and when presented with a new, previously unseen noisy image, it will be able to clear it up. However, with light transport simulations, creating a noisy image means following the path of millions and millions of light rays, which can take up to hours per training sample. And we need thousands, or potentially hundreds of thousands of these! There are also other cases where creating the clean images for the training set is not just expensive, but flat out impossible. Low-light photography, astronomical imaging, or magnetic resonance imaging, MRI in short are great examples of this. In these cases, we cannot use our neural networks simply because we cannot build such a training set as we don't have access to the clear images. In this collaboration between NVIDIA, Aalto University and MIT, scientists came up with an insane idea: let's try to train a neural network without clear images and use only noisy data. Normally, we would say that this is clearly impossible and end this research project. However, they show that under a suitable set of constraints, for instance, one reasonable assumption about the distribution of the noise opens up the possibility of restoring noisy signals without seeing clean ones. This is an insane idea that actually works, and can help us restore images with significant outlier content. Not only that, but it is also shown that this technique can do close to or just as well as other previously known techniques that have access to clean images. You can look at these images, many of which have many different kinds of noise, like camera noise, noise from light transport simulations, MRI imaging, and images severely corrupted with a ton of random text. The usual limitations apply, in short, it of course cannot possibly recover content if we cut out a bigger region from our images. This severely hamstrung training process can be compared to a regular neural denoiser that has access to the clean images, and the differences are negligible most of the time. So how about that, we can teach a neural network to denoise without ever showing it the concept of denoising. Just the thought of this boggles my mind so much it keeps me up at night. This is such a remarkable concept I hope there will soon be followup papers that extend this idea to other problems as well. If you enjoyed this episode and you feel, that about 8 of these videos a month is worth a dollar, please consider supporting us on Patreon. We use these funds to make better videos for you, and a small portion is also used to fund research conferences. You can find us at patreon.com/TwoMinutePapers and there is also a link to it in the video description. You know the drill, one dollar is almost nothing, but it keeps the papers coming. Thanks for watching and for your generous support, and I'll see you next time!\"}"
     },
     "execution_count": 12,
     "metadata": {},
     "output_type": "execute_result"
    }
   ],
   "source": [
    "titles_subtitles[0]"
   ],
   "metadata": {
    "collapsed": false
   }
  },
  {
   "cell_type": "code",
   "execution_count": 13,
   "outputs": [],
   "source": [
    "df = pd.DataFrame(titles_subtitles)\n",
    "df.to_csv('title_subtitles.csv', index=True, index_label='id', header=True)"
   ],
   "metadata": {
    "collapsed": false
   }
  },
  {
   "cell_type": "code",
   "execution_count": 14,
   "outputs": [
    {
     "data": {
      "text/plain": "      id                                             title  \\\n0      0    NVIDIA's Image Restoration AI: Almost Perfect!   \n1      1         NVIDIA's AI Makes Amazing Slow-Mo Videos!   \n2      2                   DeepMind's AI Takes An IQ Test!   \n3      3  DeepMind Has A Superhuman Level Quake 3 AI Team!   \n4      4             This is How You Hack A Neural Network   \n..   ...                                               ...   \n633  633             Google’s Video AI: Outrageously Good!   \n634  634            NVIDIA’s Amazing AI Clones Your Voice!   \n635  635      Ubisoft’s New AI: Breathing Life Into Games!   \n636  636       OpenAI’s New AI: Video Game Addict No More!   \n637  637            NVIDIA’s New AI: Generating 3D Models!   \n\n                                             subtitles  \n0    Dear Fellow Scholars, this is Two Minute Paper...  \n1    Dear Fellow Scholars, this is Two Minute Paper...  \n2    Dear Fellow Scholars, this is Two Minute Paper...  \n3    Dear Fellow Scholars, this is Two Minute Paper...  \n4    Dear Fellow Scholars, this is Two Minute Paper...  \n..                                                 ...  \n633  Dear Fellow Scholars, this is Two Minute  Pape...  \n634  Dear Fellow Scholars, this is Two Minute  Pape...  \n635  Dear Fellow Scholars, this is Two Minute  Pape...  \n636  Dear Fellow Scholars, this is Two Minute  Pape...  \n637  Dear Fellow Scholars, this is Two Minute  Pape...  \n\n[638 rows x 3 columns]",
      "text/html": "<div>\n<style scoped>\n    .dataframe tbody tr th:only-of-type {\n        vertical-align: middle;\n    }\n\n    .dataframe tbody tr th {\n        vertical-align: top;\n    }\n\n    .dataframe thead th {\n        text-align: right;\n    }\n</style>\n<table border=\"1\" class=\"dataframe\">\n  <thead>\n    <tr style=\"text-align: right;\">\n      <th></th>\n      <th>id</th>\n      <th>title</th>\n      <th>subtitles</th>\n    </tr>\n  </thead>\n  <tbody>\n    <tr>\n      <th>0</th>\n      <td>0</td>\n      <td>NVIDIA's Image Restoration AI: Almost Perfect!</td>\n      <td>Dear Fellow Scholars, this is Two Minute Paper...</td>\n    </tr>\n    <tr>\n      <th>1</th>\n      <td>1</td>\n      <td>NVIDIA's AI Makes Amazing Slow-Mo Videos!</td>\n      <td>Dear Fellow Scholars, this is Two Minute Paper...</td>\n    </tr>\n    <tr>\n      <th>2</th>\n      <td>2</td>\n      <td>DeepMind's AI Takes An IQ Test!</td>\n      <td>Dear Fellow Scholars, this is Two Minute Paper...</td>\n    </tr>\n    <tr>\n      <th>3</th>\n      <td>3</td>\n      <td>DeepMind Has A Superhuman Level Quake 3 AI Team!</td>\n      <td>Dear Fellow Scholars, this is Two Minute Paper...</td>\n    </tr>\n    <tr>\n      <th>4</th>\n      <td>4</td>\n      <td>This is How You Hack A Neural Network</td>\n      <td>Dear Fellow Scholars, this is Two Minute Paper...</td>\n    </tr>\n    <tr>\n      <th>...</th>\n      <td>...</td>\n      <td>...</td>\n      <td>...</td>\n    </tr>\n    <tr>\n      <th>633</th>\n      <td>633</td>\n      <td>Google’s Video AI: Outrageously Good!</td>\n      <td>Dear Fellow Scholars, this is Two Minute  Pape...</td>\n    </tr>\n    <tr>\n      <th>634</th>\n      <td>634</td>\n      <td>NVIDIA’s Amazing AI Clones Your Voice!</td>\n      <td>Dear Fellow Scholars, this is Two Minute  Pape...</td>\n    </tr>\n    <tr>\n      <th>635</th>\n      <td>635</td>\n      <td>Ubisoft’s New AI: Breathing Life Into Games!</td>\n      <td>Dear Fellow Scholars, this is Two Minute  Pape...</td>\n    </tr>\n    <tr>\n      <th>636</th>\n      <td>636</td>\n      <td>OpenAI’s New AI: Video Game Addict No More!</td>\n      <td>Dear Fellow Scholars, this is Two Minute  Pape...</td>\n    </tr>\n    <tr>\n      <th>637</th>\n      <td>637</td>\n      <td>NVIDIA’s New AI: Generating 3D Models!</td>\n      <td>Dear Fellow Scholars, this is Two Minute  Pape...</td>\n    </tr>\n  </tbody>\n</table>\n<p>638 rows × 3 columns</p>\n</div>"
     },
     "execution_count": 14,
     "metadata": {},
     "output_type": "execute_result"
    }
   ],
   "source": [
    "test = pd.read_csv('title_subtitles.csv')\n",
    "test"
   ],
   "metadata": {
    "collapsed": false
   }
  }
 ],
 "metadata": {
  "kernelspec": {
   "display_name": "Python 3",
   "language": "python",
   "name": "python3"
  },
  "language_info": {
   "codemirror_mode": {
    "name": "ipython",
    "version": 2
   },
   "file_extension": ".py",
   "mimetype": "text/x-python",
   "name": "python",
   "nbconvert_exporter": "python",
   "pygments_lexer": "ipython2",
   "version": "2.7.6"
  }
 },
 "nbformat": 4,
 "nbformat_minor": 0
}
