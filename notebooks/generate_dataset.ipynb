{
 "cells": [
  {
   "cell_type": "code",
   "execution_count": 1,
   "metadata": {
    "collapsed": true
   },
   "outputs": [],
   "source": [
    "from transformers import AutoTokenizer, AutoModelForSeq2SeqLM\n",
    "from src.subtitle.SubtitleToStorage import SubtitlesToStorage\n",
    "import pandas as pd\n",
    "from tqdm import tqdm"
   ]
  },
  {
   "cell_type": "code",
   "execution_count": 2,
   "outputs": [],
   "source": [
    "tokenizer = AutoTokenizer.from_pretrained('facebook/bart-large-cnn')\n",
    "model = AutoModelForSeq2SeqLM.from_pretrained('facebook/bart-large-cnn')"
   ],
   "metadata": {
    "collapsed": false
   }
  },
  {
   "cell_type": "code",
   "execution_count": 6,
   "outputs": [
    {
     "data": {
      "text/plain": "                                                 title     video_id\n0    Reopening an airport terminal is harder than y...  JA3RXeds0_g\n1        14 science fiction stories in under 6 minutes  iQGl-ffVtaM\n2    After 140 years, this old technology still kee...  mzAfich6mow\n3    The Elie Chainwalk is safe, as long as you fol...  ELGWbY4xBDs\n4                        This town forgot to be a city  kBaLb1C4WAg\n..                                                 ...          ...\n236      Why California's Musical Road Sounds Terrible  Ef93WmlEho0\n237  The Reaction Ferries of Basel: What Have We Mi...  b6utGZQ9Sks\n238  The Centuries-Old Debt That's Still Paying Int...  cfSIC8jwbQs\n239            Rotary Jails and Accidental Amputations  -DGXHMOhXAw\n240  How Computers Compress Text: Huffman Coding an...  JsTptu56GM8\n\n[241 rows x 2 columns]",
      "text/html": "<div>\n<style scoped>\n    .dataframe tbody tr th:only-of-type {\n        vertical-align: middle;\n    }\n\n    .dataframe tbody tr th {\n        vertical-align: top;\n    }\n\n    .dataframe thead th {\n        text-align: right;\n    }\n</style>\n<table border=\"1\" class=\"dataframe\">\n  <thead>\n    <tr style=\"text-align: right;\">\n      <th></th>\n      <th>title</th>\n      <th>video_id</th>\n    </tr>\n  </thead>\n  <tbody>\n    <tr>\n      <th>0</th>\n      <td>Reopening an airport terminal is harder than y...</td>\n      <td>JA3RXeds0_g</td>\n    </tr>\n    <tr>\n      <th>1</th>\n      <td>14 science fiction stories in under 6 minutes</td>\n      <td>iQGl-ffVtaM</td>\n    </tr>\n    <tr>\n      <th>2</th>\n      <td>After 140 years, this old technology still kee...</td>\n      <td>mzAfich6mow</td>\n    </tr>\n    <tr>\n      <th>3</th>\n      <td>The Elie Chainwalk is safe, as long as you fol...</td>\n      <td>ELGWbY4xBDs</td>\n    </tr>\n    <tr>\n      <th>4</th>\n      <td>This town forgot to be a city</td>\n      <td>kBaLb1C4WAg</td>\n    </tr>\n    <tr>\n      <th>...</th>\n      <td>...</td>\n      <td>...</td>\n    </tr>\n    <tr>\n      <th>236</th>\n      <td>Why California's Musical Road Sounds Terrible</td>\n      <td>Ef93WmlEho0</td>\n    </tr>\n    <tr>\n      <th>237</th>\n      <td>The Reaction Ferries of Basel: What Have We Mi...</td>\n      <td>b6utGZQ9Sks</td>\n    </tr>\n    <tr>\n      <th>238</th>\n      <td>The Centuries-Old Debt That's Still Paying Int...</td>\n      <td>cfSIC8jwbQs</td>\n    </tr>\n    <tr>\n      <th>239</th>\n      <td>Rotary Jails and Accidental Amputations</td>\n      <td>-DGXHMOhXAw</td>\n    </tr>\n    <tr>\n      <th>240</th>\n      <td>How Computers Compress Text: Huffman Coding an...</td>\n      <td>JsTptu56GM8</td>\n    </tr>\n  </tbody>\n</table>\n<p>241 rows × 2 columns</p>\n</div>"
     },
     "execution_count": 6,
     "metadata": {},
     "output_type": "execute_result"
    }
   ],
   "source": [
    "videos = pd.read_csv('../data/videos/tom_scott_videos.csv')\n",
    "videos"
   ],
   "metadata": {
    "collapsed": false
   }
  },
  {
   "cell_type": "code",
   "execution_count": 9,
   "outputs": [
    {
     "name": "stderr",
     "output_type": "stream",
     "text": [
      "100%|██████████| 241/241 [4:32:27<00:00, 67.83s/it]   \n"
     ]
    }
   ],
   "source": [
    "summaries = list()\n",
    "for _, row in tqdm(videos.iterrows(), total=videos.shape[0]):\n",
    "    subtitle_downloader = SubtitlesToStorage(\n",
    "        source='youtube',\n",
    "        video_id=row['video_id'],\n",
    "        storage_config={'type': 'return_value'}\n",
    "    )\n",
    "\n",
    "    subtitles = subtitle_downloader.save()\n",
    "    batch = tokenizer(subtitles, truncation=True, max_length=1024, return_tensors='pt')\n",
    "    generated_ids = model.generate(batch[\"input_ids\"], min_length=256, max_length=512)\n",
    "    summary = tokenizer.batch_decode(generated_ids, skip_special_tokens=True)\n",
    "    summaries.append({'title': row['title'],  'summary': summary[0]})"
   ],
   "metadata": {
    "collapsed": false
   }
  },
  {
   "cell_type": "code",
   "execution_count": 32,
   "outputs": [
    {
     "data": {
      "text/plain": "{'title': 'How To Grow A Martian Salad On Earth',\n 'summary': \"CNN's John Defterios tries to grow a salad in Martian soil. Martian soil contains all of the nutrientsneeded for a plant to grow. The Martian surface is covered in soil with a key ingredient of basalt, a dark, iron-rich volcanic rock. The original Martian soil simulant was created from weathered volcanic ash from near Mauna Kea in Hawaii. But this stuff, MMS, uses basalt rock found in an ancient volcano in the western Mojave Desert, which has a very similar mineral makeup to what's found on Mars. It is missing an important component of Martian soil, though, which is toxic perchlorate compounds. These could be lethal to crops on Mars, and to the humans that eat those crops. But luckily for us there are a range of different methodsariefor getting rid of them. It's really just a waiting game now, even if these things grow, they wouldn't really be keeping me full. If we're going to stay on Mars for extended periods of time, we need to generate some high-calorie food, like pea-sized plants, that will just be too heavy to bring to us with us. And we've got four varieties of micro green plants, essentially just plants that could be harvested early on.\"}"
     },
     "execution_count": 32,
     "metadata": {},
     "output_type": "execute_result"
    }
   ],
   "source": [
    "summaries[112]"
   ],
   "metadata": {
    "collapsed": false
   }
  },
  {
   "cell_type": "code",
   "execution_count": 23,
   "outputs": [],
   "source": [
    "df = pd.DataFrame(summaries)\n",
    "df.to_csv('title_summary.csv', index=True, index_label='id', header=True)"
   ],
   "metadata": {
    "collapsed": false
   }
  },
  {
   "cell_type": "code",
   "execution_count": 24,
   "outputs": [
    {
     "data": {
      "text/plain": "      id                                              title  \\\n0      0  Reopening an airport terminal is harder than y...   \n1      1      14 science fiction stories in under 6 minutes   \n2      2  After 140 years, this old technology still kee...   \n3      3  The Elie Chainwalk is safe, as long as you fol...   \n4      4                      This town forgot to be a city   \n..   ...                                                ...   \n236  236      Why California's Musical Road Sounds Terrible   \n237  237  The Reaction Ferries of Basel: What Have We Mi...   \n238  238  The Centuries-Old Debt That's Still Paying Int...   \n239  239            Rotary Jails and Accidental Amputations   \n240  240  How Computers Compress Text: Huffman Coding an...   \n\n                                               summary  \n0    The South Terminal at London's Gatwick Airport...  \n1    I used to make short science fictionvideos for...  \n2    140 years ago, the Callander and Oban railway ...  \n3    The Elie Chainwalk is 500 metres long, made up...  \n4    Rochester had been a city since the 13th centu...  \n..                                                 ...  \n236  If you drive down a certain stretch of highway...  \n237  CNN's John Sutter travels to Basel, Switzerlan...  \n238  In 1648, the Water Board of Lekdijk Bovendams ...  \n239  In 1881 an architect called William Brown and ...  \n240  When you put English text into a computer, it ...  \n\n[241 rows x 3 columns]",
      "text/html": "<div>\n<style scoped>\n    .dataframe tbody tr th:only-of-type {\n        vertical-align: middle;\n    }\n\n    .dataframe tbody tr th {\n        vertical-align: top;\n    }\n\n    .dataframe thead th {\n        text-align: right;\n    }\n</style>\n<table border=\"1\" class=\"dataframe\">\n  <thead>\n    <tr style=\"text-align: right;\">\n      <th></th>\n      <th>id</th>\n      <th>title</th>\n      <th>summary</th>\n    </tr>\n  </thead>\n  <tbody>\n    <tr>\n      <th>0</th>\n      <td>0</td>\n      <td>Reopening an airport terminal is harder than y...</td>\n      <td>The South Terminal at London's Gatwick Airport...</td>\n    </tr>\n    <tr>\n      <th>1</th>\n      <td>1</td>\n      <td>14 science fiction stories in under 6 minutes</td>\n      <td>I used to make short science fictionvideos for...</td>\n    </tr>\n    <tr>\n      <th>2</th>\n      <td>2</td>\n      <td>After 140 years, this old technology still kee...</td>\n      <td>140 years ago, the Callander and Oban railway ...</td>\n    </tr>\n    <tr>\n      <th>3</th>\n      <td>3</td>\n      <td>The Elie Chainwalk is safe, as long as you fol...</td>\n      <td>The Elie Chainwalk is 500 metres long, made up...</td>\n    </tr>\n    <tr>\n      <th>4</th>\n      <td>4</td>\n      <td>This town forgot to be a city</td>\n      <td>Rochester had been a city since the 13th centu...</td>\n    </tr>\n    <tr>\n      <th>...</th>\n      <td>...</td>\n      <td>...</td>\n      <td>...</td>\n    </tr>\n    <tr>\n      <th>236</th>\n      <td>236</td>\n      <td>Why California's Musical Road Sounds Terrible</td>\n      <td>If you drive down a certain stretch of highway...</td>\n    </tr>\n    <tr>\n      <th>237</th>\n      <td>237</td>\n      <td>The Reaction Ferries of Basel: What Have We Mi...</td>\n      <td>CNN's John Sutter travels to Basel, Switzerlan...</td>\n    </tr>\n    <tr>\n      <th>238</th>\n      <td>238</td>\n      <td>The Centuries-Old Debt That's Still Paying Int...</td>\n      <td>In 1648, the Water Board of Lekdijk Bovendams ...</td>\n    </tr>\n    <tr>\n      <th>239</th>\n      <td>239</td>\n      <td>Rotary Jails and Accidental Amputations</td>\n      <td>In 1881 an architect called William Brown and ...</td>\n    </tr>\n    <tr>\n      <th>240</th>\n      <td>240</td>\n      <td>How Computers Compress Text: Huffman Coding an...</td>\n      <td>When you put English text into a computer, it ...</td>\n    </tr>\n  </tbody>\n</table>\n<p>241 rows × 3 columns</p>\n</div>"
     },
     "execution_count": 24,
     "metadata": {},
     "output_type": "execute_result"
    }
   ],
   "source": [
    "test = pd.read_csv('title_summary.csv')\n",
    "test"
   ],
   "metadata": {
    "collapsed": false
   }
  }
 ],
 "metadata": {
  "kernelspec": {
   "display_name": "Python 3",
   "language": "python",
   "name": "python3"
  },
  "language_info": {
   "codemirror_mode": {
    "name": "ipython",
    "version": 2
   },
   "file_extension": ".py",
   "mimetype": "text/x-python",
   "name": "python",
   "nbconvert_exporter": "python",
   "pygments_lexer": "ipython2",
   "version": "2.7.6"
  }
 },
 "nbformat": 4,
 "nbformat_minor": 0
}
