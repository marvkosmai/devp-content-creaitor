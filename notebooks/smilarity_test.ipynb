{
 "cells": [
  {
   "cell_type": "code",
   "execution_count": 18,
   "metadata": {
    "collapsed": true
   },
   "outputs": [
    {
     "name": "stderr",
     "output_type": "stream",
     "text": [
      "[nltk_data] Downloading package stopwords to C:\\Users\\Marvin\n",
      "[nltk_data]     Kosmider\\AppData\\Roaming\\nltk_data...\n",
      "[nltk_data]   Package stopwords is already up-to-date!\n",
      "  0%|\u001B[31m          \u001B[0m| 0/64 [00:00<?, ?it/s]\n",
      "100%|██████████| 5/5 [00:00<00:00, 50.81it/s]\n",
      "  2%|\u001B[31m▏         \u001B[0m| 1/64 [00:10<10:35, 10.09s/it]\n",
      "  0%|          | 0/8 [00:00<?, ?it/s]\u001B[A\n",
      "100%|██████████| 8/8 [00:00<00:00, 70.91it/s]\u001B[A\n",
      "  2%|\u001B[31m▏         \u001B[0m| 1/64 [11:19<11:53:27, 679.49s/it]"
     ]
    },
    {
     "name": "stdout",
     "output_type": "stream",
     "text": [
      "Unexpected exception formatting exception. Falling back to standard exception\n"
     ]
    },
    {
     "name": "stderr",
     "output_type": "stream",
     "text": [
      "\n",
      "Traceback (most recent call last):\n",
      "  File \"C:\\Users\\Marvin Kosmider\\FH Technikum Wien\\Studium\\Semester 2\\Development Project 1\\scientificProject\\venv\\lib\\site-packages\\IPython\\core\\interactiveshell.py\", line 3398, in run_code\n",
      "    exec(code_obj, self.user_global_ns, self.user_ns)\n",
      "  File \"C:\\Users\\Marvin Kosmider\\AppData\\Local\\Temp\\ipykernel_28708\\2000751918.py\", line 20, in <cell line: 16>\n",
      "    score = ts.scores_scm(generated, original)\n",
      "  File \"C:\\Users\\Marvin Kosmider\\FH Technikum Wien\\Studium\\Semester 2\\Development Project 1\\scientificProject\\src\\similarity\\TitleSimilarity.py\", line 89, in scores_scm\n",
      "    return similarity\n",
      "  File \"C:\\Users\\Marvin Kosmider\\FH Technikum Wien\\Studium\\Semester 2\\Development Project 1\\scientificProject\\src\\similarity\\TitleSimilarity.py\", line 89, in scores_scm\n",
      "    return similarity\n",
      "  File \"_pydevd_bundle\\pydevd_cython_win32_39_64.pyx\", line 1179, in _pydevd_bundle.pydevd_cython_win32_39_64.SafeCallWrapper.__call__\n",
      "  File \"_pydevd_bundle\\pydevd_cython_win32_39_64.pyx\", line 620, in _pydevd_bundle.pydevd_cython_win32_39_64.PyDBFrame.trace_dispatch\n",
      "  File \"_pydevd_bundle\\pydevd_cython_win32_39_64.pyx\", line 1095, in _pydevd_bundle.pydevd_cython_win32_39_64.PyDBFrame.trace_dispatch\n",
      "  File \"_pydevd_bundle\\pydevd_cython_win32_39_64.pyx\", line 1057, in _pydevd_bundle.pydevd_cython_win32_39_64.PyDBFrame.trace_dispatch\n",
      "  File \"_pydevd_bundle\\pydevd_cython_win32_39_64.pyx\", line 317, in _pydevd_bundle.pydevd_cython_win32_39_64.PyDBFrame.do_wait_suspend\n",
      "  File \"C:\\Program Files\\JetBrains\\PyCharm 2021.1\\plugins\\python\\helpers\\pydev\\pydevd.py\", line 1160, in do_wait_suspend\n",
      "    self._do_wait_suspend(thread, frame, event, arg, suspend_type, from_this_thread)\n",
      "  File \"C:\\Program Files\\JetBrains\\PyCharm 2021.1\\plugins\\python\\helpers\\pydev\\pydevd.py\", line 1175, in _do_wait_suspend\n",
      "    time.sleep(0.01)\n",
      "KeyboardInterrupt\n",
      "\n",
      "During handling of the above exception, another exception occurred:\n",
      "\n",
      "Traceback (most recent call last):\n",
      "  File \"C:\\Users\\Marvin Kosmider\\FH Technikum Wien\\Studium\\Semester 2\\Development Project 1\\scientificProject\\venv\\lib\\site-packages\\IPython\\core\\interactiveshell.py\", line 1993, in showtraceback\n",
      "    stb = self.InteractiveTB.structured_traceback(\n",
      "  File \"C:\\Users\\Marvin Kosmider\\FH Technikum Wien\\Studium\\Semester 2\\Development Project 1\\scientificProject\\venv\\lib\\site-packages\\IPython\\core\\ultratb.py\", line 1118, in structured_traceback\n",
      "    return FormattedTB.structured_traceback(\n",
      "  File \"C:\\Users\\Marvin Kosmider\\FH Technikum Wien\\Studium\\Semester 2\\Development Project 1\\scientificProject\\venv\\lib\\site-packages\\IPython\\core\\ultratb.py\", line 1012, in structured_traceback\n",
      "    return VerboseTB.structured_traceback(\n",
      "  File \"C:\\Users\\Marvin Kosmider\\FH Technikum Wien\\Studium\\Semester 2\\Development Project 1\\scientificProject\\venv\\lib\\site-packages\\IPython\\core\\ultratb.py\", line 865, in structured_traceback\n",
      "    formatted_exception = self.format_exception_as_a_whole(etype, evalue, etb, number_of_lines_of_context,\n",
      "  File \"C:\\Users\\Marvin Kosmider\\FH Technikum Wien\\Studium\\Semester 2\\Development Project 1\\scientificProject\\venv\\lib\\site-packages\\IPython\\core\\ultratb.py\", line 818, in format_exception_as_a_whole\n",
      "    frames.append(self.format_record(r))\n",
      "  File \"C:\\Users\\Marvin Kosmider\\FH Technikum Wien\\Studium\\Semester 2\\Development Project 1\\scientificProject\\venv\\lib\\site-packages\\IPython\\core\\ultratb.py\", line 736, in format_record\n",
      "    result += ''.join(_format_traceback_lines(frame_info.lines, Colors, self.has_colors, lvals))\n",
      "  File \"C:\\Users\\Marvin Kosmider\\FH Technikum Wien\\Studium\\Semester 2\\Development Project 1\\scientificProject\\venv\\lib\\site-packages\\stack_data\\utils.py\", line 145, in cached_property_wrapper\n",
      "    value = obj.__dict__[self.func.__name__] = self.func(obj)\n",
      "  File \"C:\\Users\\Marvin Kosmider\\FH Technikum Wien\\Studium\\Semester 2\\Development Project 1\\scientificProject\\venv\\lib\\site-packages\\stack_data\\core.py\", line 698, in lines\n",
      "    pieces = self.included_pieces\n",
      "  File \"C:\\Users\\Marvin Kosmider\\FH Technikum Wien\\Studium\\Semester 2\\Development Project 1\\scientificProject\\venv\\lib\\site-packages\\stack_data\\utils.py\", line 145, in cached_property_wrapper\n",
      "    value = obj.__dict__[self.func.__name__] = self.func(obj)\n",
      "  File \"C:\\Users\\Marvin Kosmider\\FH Technikum Wien\\Studium\\Semester 2\\Development Project 1\\scientificProject\\venv\\lib\\site-packages\\stack_data\\core.py\", line 649, in included_pieces\n",
      "    pos = scope_pieces.index(self.executing_piece)\n",
      "  File \"C:\\Users\\Marvin Kosmider\\FH Technikum Wien\\Studium\\Semester 2\\Development Project 1\\scientificProject\\venv\\lib\\site-packages\\stack_data\\utils.py\", line 145, in cached_property_wrapper\n",
      "    value = obj.__dict__[self.func.__name__] = self.func(obj)\n",
      "  File \"C:\\Users\\Marvin Kosmider\\FH Technikum Wien\\Studium\\Semester 2\\Development Project 1\\scientificProject\\venv\\lib\\site-packages\\stack_data\\core.py\", line 628, in executing_piece\n",
      "    return only(\n",
      "  File \"C:\\Users\\Marvin Kosmider\\FH Technikum Wien\\Studium\\Semester 2\\Development Project 1\\scientificProject\\venv\\lib\\site-packages\\executing\\executing.py\", line 164, in only\n",
      "    raise NotOneValueFound('Expected one value, found 0')\n",
      "executing.executing.NotOneValueFound: Expected one value, found 0\n"
     ]
    }
   ],
   "source": [
    "import pandas as pd\n",
    "from tqdm import tqdm\n",
    "\n",
    "from src.similarity.TitleSimilarity import TitleSimilarity\n",
    "\n",
    "ts = TitleSimilarity()\n",
    "ts.__int__()\n",
    "\n",
    "scores = list()\n",
    "no_similarity = list()\n",
    "perfect_similarity = list()\n",
    "somewhat_similar = list()\n",
    "\n",
    "title_generated = pd.read_csv('../data/generated/collab/tom-scott-t5-headline-predictions.csv')\n",
    "\n",
    "for _, row in tqdm(title_generated.iterrows(), total=title_generated.shape[0], colour='red'):\n",
    "    original = row['title']\n",
    "    generated = row['generated']\n",
    "    if original != '' and generated != '':\n",
    "        score = ts.scores_scm(generated, original)\n",
    "\n",
    "        scores.append(score)\n",
    "\n",
    "        if score == 0:\n",
    "            no_similarity.append(original + ' vs. ' + generated)\n",
    "\n",
    "        if 0.6 <= score < 1:\n",
    "            somewhat_similar.append(original + ' vs. ' + generated)\n",
    "\n",
    "        if score == 1:\n",
    "            perfect_similarity.append(original + ' vs. ' + generated)"
   ]
  },
  {
   "cell_type": "code",
   "execution_count": 10,
   "outputs": [
    {
     "data": {
      "text/plain": "<Figure size 432x288 with 1 Axes>",
      "image/png": "[encoded data removed]"
     },
     "metadata": {
      "needs_background": "light"
     },
     "output_type": "display_data"
    }
   ],
   "source": [
    "import matplotlib.pyplot as plt\n",
    "\n",
    "plt.hist(scores)\n",
    "plt.show()"
   ],
   "metadata": {
    "collapsed": false
   }
  },
  {
   "cell_type": "code",
   "execution_count": 11,
   "outputs": [
    {
     "data": {
      "text/plain": "[\"Filling In Missing Frames in Slow-Motion Videos vs. NVIDIA's AI Makes Amazing Slow-Mo Videos!\",\n \"The Imagination-Augmented Agents vs. DeepMind's AI Learns Imagination-Based Planning\",\n 'Green Screen Keying: A New Way to Remove Indirect Illumination vs. Interactive Green-Screen Keying',\n 'Synthesis of Unbelievable Footstep Patterns vs. Task-based Animation of Virtual Characters',\n \"OpenAI's Gangnam Style Dance: A New Way to Create Lifelike Animations vs. This AI Learns Acrobatics by Watching YouTube\",\n 'Neural Networks - How to Create New Images From Your Photos vs. This AI Learned to “Photoshop” Human Faces',\n 'Two Minute Papers - A Time-Lapse Video vs. Transferring Real Honey Into A Simulation',\n 'Neural Networks Are Making Great leaps! vs. This AI Learned to Summarize Videos',\n 'Can We Reconstruction the Whole Body? vs. This AI Creates A 3D Model of You!',\n 'Deepfakes and Machine Learning vs. Making Talking Memes With Voice DeepFakes!',\n 'New Vector Image Converting to Raster Images vs. Painting the Mona Lisa...With Triangles!',\n 'Ferrofluid Simulations vs. Building A Liquid Labyrinth!',\n 'A New 3D Drawing That Performs the Impossible! vs. Finally, Instant Monsters!',\n 'New Wave-Packets For Computer Graphics vs. Beautiful Fluid Simulations...In Just 40 Seconds!',\n 'New Light Simulation That Can Render Vinyl Records vs. Glitter Simulation, Now Faster Than Ever!',\n \"Grow People Out Of Noise vs. Google's Enhance AI - Super Resolution Is Here!\",\n \"How to Make a Baseball Bat That Doesn't Rebound vs. Stanford Invented The Ultimate Bouncy Simulator!\",\n 'Dall-E: The New AI That Can Draw Everything You Want! vs. OpenAI GLIDE AI: Astounding Power!',\n \"How to Create High-Resolution Geometry vs. Adobe's New Method: Stunning Creatures... Even Cheaper!\",\n 'Speech to Gestuition: The AI Says It In Your Voice! vs. Ubisoft’s New AI: Breathing Life Into Games!']"
     },
     "execution_count": 11,
     "metadata": {},
     "output_type": "execute_result"
    }
   ],
   "source": [
    "no_similarity"
   ],
   "metadata": {
    "collapsed": false
   }
  },
  {
   "cell_type": "code",
   "execution_count": 12,
   "outputs": [
    {
     "data": {
      "text/plain": "['Text-Based Audio Narration Editing vs. Text-based Editing of Audio Narration']"
     },
     "execution_count": 12,
     "metadata": {},
     "output_type": "execute_result"
    }
   ],
   "source": [
    "perfect_similarity"
   ],
   "metadata": {
    "collapsed": false
   }
  },
  {
   "cell_type": "code",
   "execution_count": 13,
   "outputs": [
    {
     "data": {
      "text/plain": "['Neural Network Hacking vs. This is How You Hack A Neural Network',\n \"OpenAI's DeepMind Control Suite vs. DeepMind Control Suite\",\n 'Neural Texture Synthesis vs. High-Resolution Neural Texture Synthesis',\n 'Image Matting With Deep Learning vs. Image Matting With Deep Neural Networks',\n 'Fluid Simulations and Fluid Guidance vs. Controllable Fluid and Smoke Simulations',\n '3D Printing Flexible Molds vs. 3D Printing Flexible Shells For Molding',\n 'Fluid Simulations vs. Multiphase Fluid Simulations',\n \"Reinforcement Learning vs. Reinforcement Learning with OpenAI's Gym\",\n 'Video Style Transfer - How Does It Work? vs. Artistic Style Transfer For Videos',\n 'Deep Learning Applications vs. 10 Even Cooler Deep Learning Applications',\n 'Deep Neural Art: The First Painting Based on Deep Learning vs. From Doodles To Paintings With Deep Learning',\n 'Neural Networks - Deep Learning and Deep Learning vs. Overfitting and Regularization For Deep Learning',\n 'Painting on Canvas - A Fluid Simulation of Impasto vs. Painting with Fluid Simulations',\n 'A New AI That Recreates 3D Images From 2D Images vs. This Neural Network Creates 3D Objects From Your Photos',\n 'A New AI Creates Lava From Water vs. This New AI Creates Lava From Water!']"
     },
     "execution_count": 13,
     "metadata": {},
     "output_type": "execute_result"
    }
   ],
   "source": [
    "somewhat_similar"
   ],
   "metadata": {
    "collapsed": false
   }
  }
 ],
 "metadata": {
  "kernelspec": {
   "display_name": "Python 3",
   "language": "python",
   "name": "python3"
  },
  "language_info": {
   "codemirror_mode": {
    "name": "ipython",
    "version": 2
   },
   "file_extension": ".py",
   "mimetype": "text/x-python",
   "name": "python",
   "nbconvert_exporter": "python",
   "pygments_lexer": "ipython2",
   "version": "2.7.6"
  }
 },
 "nbformat": 4,
 "nbformat_minor": 0
}
