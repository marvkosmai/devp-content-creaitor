{
 "cells": [
  {
   "cell_type": "code",
   "execution_count": 1,
   "metadata": {
    "collapsed": true,
    "pycharm": {
     "name": "#%%\n"
    }
   },
   "outputs": [
    {
     "name": "stderr",
     "output_type": "stream",
     "text": [
      "[nltk_data] Downloading package stopwords to C:\\Users\\Marvin\n",
      "[nltk_data]     Kosmider\\AppData\\Roaming\\nltk_data...\n",
      "[nltk_data]   Unzipping corpora\\stopwords.zip.\n",
      "100%|██████████| 2/2 [00:00<00:00, 22.24it/s]\n",
      "100%|██████████| 14/14 [00:00<00:00, 51.20it/s]\n",
      "100%|██████████| 16/16 [00:00<00:00, 38.34it/s]\n",
      "100%|██████████| 18/18 [00:00<00:00, 62.44it/s]\n",
      "100%|██████████| 6/6 [00:00<00:00, 73.22it/s]\n",
      "100%|██████████| 5/5 [00:00<00:00, 67.26it/s]\n",
      "100%|██████████| 19/19 [00:00<00:00, 58.53it/s]\n",
      "100%|██████████| 12/12 [00:00<00:00, 69.96it/s]\n",
      "100%|██████████| 8/8 [00:00<00:00, 49.30it/s]\n",
      "100%|██████████| 15/15 [00:00<00:00, 69.43it/s]\n",
      "100%|██████████| 17/17 [00:00<00:00, 83.34it/s]\n",
      "100%|██████████| 12/12 [00:00<00:00, 87.13it/s]\n",
      "100%|██████████| 15/15 [00:00<00:00, 70.81it/s]\n",
      "100%|██████████| 13/13 [00:00<00:00, 61.18it/s]\n",
      "100%|██████████| 11/11 [00:00<00:00, 72.40it/s]\n",
      "100%|██████████| 5/5 [00:00<00:00, 67.15it/s]\n",
      "100%|██████████| 24/24 [00:00<00:00, 73.01it/s]\n",
      "100%|██████████| 8/8 [00:00<00:00, 58.46it/s]\n",
      "100%|██████████| 9/9 [00:00<00:00, 54.30it/s]\n",
      "100%|██████████| 12/12 [00:00<00:00, 77.70it/s]\n",
      "100%|██████████| 21/21 [00:00<00:00, 65.80it/s]\n",
      "100%|██████████| 19/19 [00:00<00:00, 66.44it/s]\n",
      "100%|██████████| 19/19 [00:00<00:00, 69.54it/s]\n",
      "100%|██████████| 7/7 [00:00<00:00, 104.36it/s]\n",
      "100%|██████████| 8/8 [00:00<00:00, 73.84it/s]\n",
      "100%|██████████| 4/4 [00:00<00:00, 66.61it/s]\n",
      "100%|██████████| 7/7 [00:00<00:00, 60.95it/s]\n",
      "100%|██████████| 13/13 [00:00<00:00, 68.79it/s]\n",
      "100%|██████████| 12/12 [00:00<00:00, 68.22it/s]\n",
      "100%|██████████| 7/7 [00:00<00:00, 102.47it/s]\n",
      "100%|██████████| 9/9 [00:00<00:00, 60.33it/s]\n",
      "100%|██████████| 13/13 [00:00<00:00, 69.74it/s]\n",
      "100%|██████████| 16/16 [00:00<00:00, 82.85it/s]\n",
      "100%|██████████| 12/12 [00:00<00:00, 72.70it/s]\n",
      "100%|██████████| 12/12 [00:00<00:00, 69.58it/s]\n",
      "100%|██████████| 8/8 [00:00<00:00, 97.32it/s]\n",
      "100%|██████████| 14/14 [00:00<00:00, 92.11it/s]\n",
      "100%|██████████| 12/12 [00:00<00:00, 76.84it/s]\n",
      "100%|██████████| 14/14 [00:00<00:00, 60.06it/s]\n",
      "100%|██████████| 14/14 [00:00<00:00, 73.11it/s]\n",
      "100%|██████████| 16/16 [00:00<00:00, 70.12it/s]\n",
      "100%|██████████| 9/9 [00:00<00:00, 62.30it/s]\n",
      "100%|██████████| 5/5 [00:00<00:00, 54.89it/s]\n",
      "100%|██████████| 18/18 [00:00<00:00, 83.47it/s]\n",
      "100%|██████████| 6/6 [00:00<00:00, 68.48it/s]\n",
      "100%|██████████| 8/8 [00:00<00:00, 66.64it/s]\n",
      "100%|██████████| 21/21 [00:00<00:00, 81.95it/s]\n",
      "100%|██████████| 9/9 [00:00<00:00, 65.16it/s]\n",
      "100%|██████████| 13/13 [00:00<00:00, 76.34it/s]\n",
      "100%|██████████| 7/7 [00:00<00:00, 82.35it/s]\n",
      "100%|██████████| 10/10 [00:00<00:00, 68.58it/s]\n",
      "100%|██████████| 4/4 [00:00<00:00, 53.98it/s]\n",
      "100%|██████████| 5/5 [00:00<00:00, 52.92it/s]\n",
      "100%|██████████| 14/14 [00:00<00:00, 74.86it/s]\n",
      "100%|██████████| 14/14 [00:00<00:00, 72.56it/s]\n",
      "100%|██████████| 12/12 [00:00<00:00, 68.53it/s]\n",
      "100%|██████████| 14/14 [00:00<00:00, 59.58it/s]\n",
      "100%|██████████| 6/6 [00:00<00:00, 61.70it/s]\n",
      "100%|██████████| 12/12 [00:00<00:00, 39.59it/s]\n",
      "100%|██████████| 5/5 [00:00<00:00, 82.91it/s]\n",
      "100%|██████████| 10/10 [00:00<00:00, 39.03it/s]\n",
      "100%|██████████| 26/26 [00:00<00:00, 58.93it/s]\n",
      "100%|██████████| 21/21 [00:00<00:00, 58.10it/s]\n",
      "100%|██████████| 14/14 [00:00<00:00, 40.49it/s]\n",
      "100%|██████████| 11/11 [00:00<00:00, 63.60it/s]\n",
      "100%|██████████| 9/9 [00:00<00:00, 58.51it/s]\n",
      "100%|██████████| 6/6 [00:00<00:00, 49.30it/s]\n",
      "100%|██████████| 4/4 [00:00<00:00, 57.89it/s]\n",
      "100%|██████████| 10/10 [00:00<00:00, 57.72it/s]\n",
      "100%|██████████| 10/10 [00:00<00:00, 59.45it/s]\n",
      "100%|██████████| 13/13 [00:00<00:00, 57.31it/s]\n",
      "100%|██████████| 14/14 [00:00<00:00, 71.50it/s]\n",
      "100%|██████████| 14/14 [00:00<00:00, 64.79it/s]\n",
      "100%|██████████| 12/12 [00:00<00:00, 65.47it/s]\n",
      "100%|██████████| 11/11 [00:00<00:00, 80.02it/s]\n",
      "100%|██████████| 9/9 [00:00<00:00, 45.04it/s]\n",
      "100%|██████████| 11/11 [00:00<00:00, 57.47it/s]\n",
      "100%|██████████| 10/10 [00:00<00:00, 48.35it/s]\n",
      "100%|██████████| 7/7 [00:00<00:00, 67.43it/s]\n",
      "100%|██████████| 10/10 [00:00<00:00, 57.87it/s]\n",
      "100%|██████████| 16/16 [00:00<00:00, 73.03it/s]\n",
      "100%|██████████| 6/6 [00:00<00:00, 63.10it/s]\n",
      "100%|██████████| 3/3 [00:00<00:00, 139.31it/s]\n",
      "100%|██████████| 7/7 [00:00<00:00, 56.04it/s]\n",
      "100%|██████████| 12/12 [00:00<00:00, 60.61it/s]\n",
      "100%|██████████| 9/9 [00:00<00:00, 68.07it/s]\n",
      "100%|██████████| 11/11 [00:00<00:00, 65.62it/s]\n",
      "100%|██████████| 10/10 [00:00<00:00, 57.16it/s]\n",
      "100%|██████████| 10/10 [00:00<00:00, 65.57it/s]\n",
      "100%|██████████| 7/7 [00:00<00:00, 55.96it/s]\n",
      "100%|██████████| 7/7 [00:00<00:00, 53.00it/s]\n",
      "100%|██████████| 15/15 [00:00<00:00, 149.23it/s]\n",
      "100%|██████████| 10/10 [00:00<00:00, 74.80it/s]\n",
      "100%|██████████| 15/15 [00:00<00:00, 67.60it/s]\n",
      "100%|██████████| 5/5 [00:00<00:00, 72.28it/s]\n",
      "100%|██████████| 9/9 [00:00<00:00, 88.88it/s]\n",
      "100%|██████████| 18/18 [00:00<00:00, 87.34it/s]\n",
      "100%|██████████| 6/6 [00:00<00:00, 102.15it/s]\n",
      "100%|██████████| 5/5 [00:00<00:00, 54.30it/s]\n",
      "100%|██████████| 14/14 [00:00<00:00, 65.90it/s]\n",
      "100%|██████████| 9/9 [00:00<00:00, 63.90it/s]\n",
      "100%|██████████| 10/10 [00:00<00:00, 80.18it/s]\n",
      "100%|██████████| 10/10 [00:00<00:00, 64.06it/s]\n",
      "100%|██████████| 11/11 [00:00<00:00, 69.18it/s]\n",
      "100%|██████████| 11/11 [00:00<00:00, 112.44it/s]\n",
      "100%|██████████| 9/9 [00:00<00:00, 75.81it/s]\n",
      "100%|██████████| 9/9 [00:00<00:00, 72.98it/s]\n",
      "100%|██████████| 9/9 [00:00<00:00, 59.69it/s]\n",
      "100%|██████████| 10/10 [00:00<00:00, 63.00it/s]\n",
      "100%|██████████| 14/14 [00:00<00:00, 75.88it/s]\n",
      "100%|██████████| 12/12 [00:00<00:00, 62.78it/s]\n",
      "100%|██████████| 12/12 [00:00<00:00, 81.98it/s]\n",
      "100%|██████████| 13/13 [00:00<00:00, 75.40it/s]\n",
      "100%|██████████| 10/10 [00:00<00:00, 64.37it/s]\n",
      "100%|██████████| 12/12 [00:00<00:00, 62.29it/s]\n",
      "100%|██████████| 13/13 [00:00<00:00, 71.33it/s]\n",
      "100%|██████████| 13/13 [00:00<00:00, 62.93it/s]\n",
      "100%|██████████| 12/12 [00:00<00:00, 86.00it/s]\n",
      "100%|██████████| 21/21 [00:00<00:00, 102.09it/s]\n",
      "100%|██████████| 10/10 [00:00<00:00, 49.85it/s]\n",
      "100%|██████████| 22/22 [00:00<00:00, 62.33it/s]\n",
      "100%|██████████| 11/11 [00:00<00:00, 70.26it/s]\n",
      "100%|██████████| 5/5 [00:00<00:00, 60.25it/s]\n",
      "100%|██████████| 19/19 [00:00<00:00, 68.45it/s]\n",
      "100%|██████████| 7/7 [00:00<00:00, 96.49it/s]\n",
      "100%|██████████| 13/13 [00:00<00:00, 72.42it/s]\n",
      "100%|██████████| 14/14 [00:00<00:00, 65.88it/s]\n",
      "100%|██████████| 8/8 [00:00<00:00, 83.97it/s]\n",
      "100%|██████████| 11/11 [00:00<00:00, 80.03it/s]\n",
      "100%|██████████| 16/16 [00:00<00:00, 61.44it/s]\n",
      "100%|██████████| 5/5 [00:00<00:00, 83.82it/s]\n",
      "100%|██████████| 18/18 [00:00<00:00, 62.34it/s]\n",
      "100%|██████████| 10/10 [00:00<00:00, 76.34it/s]\n",
      "100%|██████████| 7/7 [00:00<00:00, 59.30it/s]\n",
      "100%|██████████| 7/7 [00:00<00:00, 87.68it/s]\n",
      "100%|██████████| 12/12 [00:00<00:00, 67.84it/s]\n",
      "100%|██████████| 4/4 [00:00<00:00, 113.53it/s]\n",
      "100%|██████████| 7/7 [00:00<00:00, 118.50it/s]\n",
      "100%|██████████| 10/10 [00:00<00:00, 97.12it/s]\n",
      "100%|██████████| 10/10 [00:00<00:00, 62.34it/s]\n",
      "100%|██████████| 24/24 [00:00<00:00, 68.98it/s]\n",
      "100%|██████████| 26/26 [00:00<00:00, 86.33it/s]\n",
      "100%|██████████| 15/15 [00:00<00:00, 66.11it/s]\n",
      "100%|██████████| 4/4 [00:00<00:00, 77.65it/s]\n",
      "100%|██████████| 7/7 [00:00<00:00, 78.26it/s]\n",
      "100%|██████████| 13/13 [00:00<00:00, 71.69it/s]\n",
      "100%|██████████| 11/11 [00:00<00:00, 64.03it/s]\n",
      "100%|██████████| 8/8 [00:00<00:00, 87.01it/s]\n",
      "100%|██████████| 13/13 [00:00<00:00, 65.45it/s]\n",
      "100%|██████████| 5/5 [00:00<00:00, 48.46it/s]\n",
      "100%|██████████| 6/6 [00:00<00:00, 61.04it/s]\n",
      "100%|██████████| 5/5 [00:00<00:00, 70.58it/s]\n",
      "100%|██████████| 16/16 [00:00<00:00, 73.36it/s]\n",
      "100%|██████████| 9/9 [00:00<00:00, 51.74it/s]\n",
      "100%|██████████| 7/7 [00:00<00:00, 60.41it/s]\n",
      "100%|██████████| 12/12 [00:00<00:00, 55.06it/s]\n",
      "100%|██████████| 10/10 [00:00<00:00, 56.56it/s]\n",
      "100%|██████████| 17/17 [00:00<00:00, 67.99it/s]\n",
      "100%|██████████| 6/6 [00:00<00:00, 65.47it/s]\n",
      "100%|██████████| 9/9 [00:00<00:00, 71.78it/s]\n",
      "100%|██████████| 10/10 [00:00<00:00, 65.43it/s]\n",
      "100%|██████████| 8/8 [00:00<00:00, 60.07it/s]\n",
      "100%|██████████| 11/11 [00:00<00:00, 56.45it/s]\n",
      "100%|██████████| 10/10 [00:00<00:00, 59.55it/s]\n",
      "100%|██████████| 20/20 [00:00<00:00, 77.21it/s]\n",
      "100%|██████████| 16/16 [00:00<00:00, 64.33it/s]\n",
      "100%|██████████| 11/11 [00:00<00:00, 73.32it/s]\n",
      "100%|██████████| 16/16 [00:00<00:00, 77.63it/s]\n",
      "100%|██████████| 9/9 [00:00<00:00, 76.41it/s]\n",
      "100%|██████████| 14/14 [00:00<00:00, 73.22it/s]\n",
      "100%|██████████| 5/5 [00:00<00:00, 60.14it/s]\n",
      "100%|██████████| 20/20 [00:00<00:00, 124.10it/s]\n",
      "100%|██████████| 13/13 [00:00<00:00, 73.83it/s]\n",
      "100%|██████████| 13/13 [00:00<00:00, 71.12it/s]\n",
      "100%|██████████| 14/14 [00:00<00:00, 71.63it/s]\n",
      "100%|██████████| 14/14 [00:00<00:00, 85.00it/s]\n",
      "100%|██████████| 7/7 [00:00<00:00, 73.94it/s]\n",
      "100%|██████████| 5/5 [00:00<00:00, 91.67it/s]\n",
      "100%|██████████| 8/8 [00:00<00:00, 77.66it/s]\n",
      "100%|██████████| 12/12 [00:00<00:00, 74.33it/s]\n",
      "100%|██████████| 13/13 [00:00<00:00, 69.06it/s]\n",
      "100%|██████████| 12/12 [00:00<00:00, 91.98it/s]\n",
      "100%|██████████| 4/4 [00:00<00:00, 181.82it/s]\n",
      "100%|██████████| 9/9 [00:00<00:00, 62.00it/s]\n",
      "100%|██████████| 14/14 [00:00<00:00, 76.02it/s]\n",
      "100%|██████████| 18/18 [00:00<00:00, 69.33it/s]\n",
      "100%|██████████| 14/14 [00:00<00:00, 87.48it/s]\n",
      "100%|██████████| 11/11 [00:00<00:00, 89.67it/s]\n",
      "100%|██████████| 15/15 [00:00<00:00, 65.56it/s]\n",
      "100%|██████████| 4/4 [00:00<00:00, 53.03it/s]\n",
      "100%|██████████| 12/12 [00:00<00:00, 79.92it/s]\n",
      "100%|██████████| 8/8 [00:00<00:00, 64.02it/s]\n",
      "100%|██████████| 12/12 [00:00<00:00, 65.38it/s]\n",
      "100%|██████████| 14/14 [00:00<00:00, 82.64it/s]\n",
      "100%|██████████| 10/10 [00:00<00:00, 64.11it/s]\n",
      "100%|██████████| 11/11 [00:00<00:00, 74.38it/s]\n",
      "100%|██████████| 12/12 [00:00<00:00, 74.34it/s]\n",
      "100%|██████████| 13/13 [00:00<00:00, 81.92it/s]\n",
      "100%|██████████| 11/11 [00:00<00:00, 67.85it/s]\n",
      "100%|██████████| 7/7 [00:00<00:00, 77.69it/s]\n",
      "100%|██████████| 7/7 [00:00<00:00, 51.72it/s]\n",
      "100%|██████████| 6/6 [00:00<00:00, 61.60it/s]\n",
      "100%|██████████| 15/15 [00:00<00:00, 58.90it/s]\n",
      "100%|██████████| 14/14 [00:00<00:00, 75.29it/s]\n",
      "100%|██████████| 7/7 [00:00<00:00, 79.78it/s]\n",
      "100%|██████████| 10/10 [00:00<00:00, 72.28it/s]\n",
      "100%|██████████| 14/14 [00:00<00:00, 69.64it/s]\n",
      "100%|██████████| 11/11 [00:00<00:00, 80.94it/s]\n",
      "100%|██████████| 10/10 [00:00<00:00, 70.26it/s]\n",
      "100%|██████████| 11/11 [00:00<00:00, 81.52it/s]\n",
      "100%|██████████| 12/12 [00:00<00:00, 70.19it/s]\n",
      "100%|██████████| 20/20 [00:00<00:00, 70.60it/s]\n",
      "100%|██████████| 5/5 [00:00<00:00, 58.45it/s]\n",
      "100%|██████████| 10/10 [00:00<00:00, 69.51it/s]\n",
      "100%|██████████| 10/10 [00:00<00:00, 64.39it/s]\n",
      "100%|██████████| 12/12 [00:00<00:00, 76.98it/s]\n",
      "100%|██████████| 13/13 [00:00<00:00, 79.42it/s]\n",
      "100%|██████████| 9/9 [00:00<00:00, 56.79it/s]\n",
      "100%|██████████| 14/14 [00:00<00:00, 70.76it/s]\n",
      "100%|██████████| 17/17 [00:00<00:00, 73.97it/s]\n",
      "100%|██████████| 13/13 [00:00<00:00, 62.79it/s]\n",
      "100%|██████████| 21/21 [00:00<00:00, 73.84it/s]\n",
      "100%|██████████| 21/21 [00:00<00:00, 69.04it/s]\n",
      "100%|██████████| 9/9 [00:00<00:00, 77.82it/s]\n",
      "100%|██████████| 5/5 [00:00<00:00, 56.34it/s]\n",
      "100%|██████████| 12/12 [00:00<00:00, 66.88it/s]\n",
      "100%|██████████| 17/17 [00:00<00:00, 66.00it/s]\n",
      "100%|██████████| 12/12 [00:00<00:00, 72.98it/s]\n",
      "100%|██████████| 20/20 [00:00<00:00, 77.54it/s]\n",
      "100%|██████████| 9/9 [00:00<00:00, 63.12it/s]\n",
      "100%|██████████| 14/14 [00:00<00:00, 88.09it/s]\n",
      "100%|██████████| 10/10 [00:00<00:00, 70.41it/s]\n",
      "100%|██████████| 8/8 [00:00<00:00, 66.93it/s]\n",
      "100%|██████████| 15/15 [00:00<00:00, 75.03it/s]\n",
      "100%|██████████| 24/24 [00:00<00:00, 81.50it/s]\n",
      "100%|██████████| 11/11 [00:00<00:00, 62.87it/s]\n",
      "100%|██████████| 5/5 [00:00<00:00, 146.09it/s]\n",
      "100%|██████████| 13/13 [00:00<00:00, 71.87it/s]\n",
      "100%|██████████| 18/18 [00:00<00:00, 90.88it/s]\n",
      "100%|██████████| 8/8 [00:00<00:00, 67.07it/s]\n",
      "100%|██████████| 11/11 [00:00<00:00, 65.38it/s]\n",
      "100%|██████████| 16/16 [00:00<00:00, 74.91it/s]\n"
     ]
    }
   ],
   "source": [
    "import csv\n",
    "\n",
    "from src.similarity.TitleSimilarity import TitleSimilarity\n",
    "\n",
    "ts = TitleSimilarity()\n",
    "ts.__int__()\n",
    "\n",
    "scores = list()\n",
    "no_similarity = list()\n",
    "perfect_similarity = list()\n",
    "somewhat_similar = list()\n",
    "\n",
    "with open('../data/generated/tom_scott_videos_t0_3B_vanilla_summarized.csv', 'r', encoding='utf-8') as csvfile:\n",
    "    datareader = csv.reader(csvfile)\n",
    "    for row in datareader:\n",
    "        if row[1] != '' and row[3] != '':\n",
    "            score = ts.scores_scm(row[1], row[3])\n",
    "\n",
    "            scores.append(score)\n",
    "\n",
    "            if score == 0:\n",
    "                no_similarity.append(row[1] + ' vs. ' + row[3])\n",
    "\n",
    "            if 0.6 <= score < 1:\n",
    "                somewhat_similar.append(row[1] + ' vs. ' + row[3])\n",
    "\n",
    "            if score == 1:\n",
    "                perfect_similarity.append(row[1] + ' vs. ' + row[3])"
   ]
  },
  {
   "cell_type": "code",
   "execution_count": 2,
   "outputs": [
    {
     "data": {
      "text/plain": "<Figure size 432x288 with 1 Axes>",
      "image/png": "[encoded data removed]"
     },
     "metadata": {
      "needs_background": "light"
     },
     "output_type": "display_data"
    }
   ],
   "source": [
    "import matplotlib.pyplot as plt\n",
    "\n",
    "plt.hist(scores)\n",
    "plt.show()"
   ],
   "metadata": {
    "collapsed": false,
    "pycharm": {
     "name": "#%%\n"
    }
   }
  },
  {
   "cell_type": "code",
   "execution_count": 5,
   "outputs": [
    {
     "data": {
      "text/plain": "['title vs. t0_3B_vanilla_title_summarized',\n 'This town forgot to be a city vs.  Rochester, Kent',\n 'The tunnel where people pay to inhale radioactive gas vs.  radon in the air',\n 'Why this &quot;falling rocks&quot; sign is more important than most vs.  A Swiss village has installed a radar to detect rockfalls and close the road.',\n 'The public toll road with no speed limit vs.  The Nürburgring Nordschleife',\n \"I took the world's shortest flight. It was underwhelming. vs.  Orkney Islands\",\n 'An Unedited, Rain-Soaked Ride on Claughton\\'s Aerial Ropeway vs.  \"Rattling and clanking\"',\n \"England's Oldest Attraction Turns Teddy Bears To Stone vs.  Mother Shipton\",\n \"It's like a spaceship for sharks. vs.  The Deep in Hull is a closed system with no input or output to the oceans\",\n \"YouTubers have to declare ads. Why doesn't anyone else? vs.  The Kinks\",\n \"Australia's Bushfire-Hunting Satellites vs.  This week's video is from Atomic Frontier, a channel based around explaining things on location. James climbs a tree in Western Australia to learn more about bushfires and satellites.\",\n \"The Greatest Title Sequence I've Ever Seen vs.  It'll Be Alright on the Night\",\n 'Walking The Most Dangerous Path In Britain vs.  The Isle of Wight is a popular destination for tourists, but it is not for the faint-hearted.',\n 'Five Things You Can\\'t Do On British Television vs.  In 2009 illusionist Derren Brown performed a stunt in which he played out a \"subliminal film\"',\n 'My Unlicensed Hovercraft Bar Is Technically Legal vs.  In England, if you want to sell alcohol to the public, you need a licence.',\n 'The Theme Park Inside An Old Nuclear Power Plant vs.  Wunderland Kalkar',\n 'The Tiny Monorails That Once Carried James Bond vs.  The Roadmachines Mono-Rail',\n 'Swimming Between Two Continents, Debunked vs.  Silfra Bridge',\n 'Which Is &quot;Bouba&quot;, and Which Is &quot;Kiki&quot;? vs.  linguistics',\n 'The Abandoned Hill With Two Members Of Parliament vs.  Old Sarum',\n 'The Worst Typo I Ever Made vs.  The onosecond',\n \"Are There Problems That Computers Can't Solve? vs.  In the Beginning, there was Math\",\n 'The Hidden Rules of Conversation vs.  Paul Grice',\n 'How Neurosurgeons Navigate Inside The Brain vs.  Neurosurgery is fraught with risk, but new technology is helping to make it safer.',\n \"Why Do We Move Our Hands When We Talk? vs.  Linguistics isn't just the study of words or sounds: it's also the study of all the parts of conversation, including gestures.\",\n 'How The Netherlands Simulated The Sea Before Computers: The Waterloopbos vs.  The Maeslant Barrier',\n 'The Giant Art That Keeps Planes Quiet vs.  The human ear can detect sounds at a range of frequencies, from 20,000 to 20 Hz.',\n \"I'm Not A Robot ✅ vs.  What is the name of the most popular search engine?\",\n 'Why “No Problem” Can Seem Rude: Phatic Expressions vs.  Greetings',\n \"Why You Can't Trust Me vs.  Coober Pedy\",\n 'The Circle Visible From Space vs.  Mount Taranaki',\n 'A Questionable Experiment in Motion Sickness vs.  The view from the front-facing camera of a car',\n 'How Auto-Tune Works vs.  A pure tone is a vibration of air back and forth at a certain frequency',\n 'I Got To See And Hold My Brain vs.  The Force Awakens is the latest in a series of videos from the makers of the popular augmented reality game, Oculus Rift.',\n 'This Is Your Brain On Stale Air vs.  At a certain point, the human body becomes a toxic environment for the brain.',\n \"Stealing Our Friend's Brain Backup PRANK (GONE WRONG!!!) 🤯🤯🤯 vs.  Callum and Aaron are going to get their hands on Jack's backup. They're going to royally f--- up his s--- and have some fun.\",\n 'The Consequences of Your Code vs.  A man who was sent to a STI clinic after a computerised test for chlamydia turned out to have the disease, a doctor has claimed.',\n \"Why Do London's Manholes Keep Exploding? vs.  The explosions in London are caused by a fault with the cables under the streets, a report says.\",\n '᚛ᚈᚑᚋ\\u1680ᚄᚉᚑᚈᚈ᚜ and ᚛ᚑᚌᚐᚋ᚜ vs.  Ogham',\n \"Why You Don't Want To Go Viral vs.  The Manual\",\n \"I Hit 3,000-Year-Old Art with a Hammer vs.  The world's oldest carved hill figure has been revealed in a new 3D digital reconstruction.\",\n 'The Town That Was Burned for Science: Aultsville vs.  The St. Lawrence Seaway',\n 'G-Force, Jerk, and Passing Out In A Centrifuge vs.  The US Air Force has revealed the first pictures of the rocket sleds used to push volunteers to incredible speeds. The rocket sleds were used in the 1950s to push volunteers to incredible speeds. The images show the rocket ',\n \"The 1940s Mermaid Show That's Still Pulling Crowds vs.  Weeki Wachee Springs\",\n 'The Null Hypothesis vs.  BrainFly is a brain-computer interfaces system that can be used in space. It uses a cap to measure brain signals through the skull, and a special gel to filter out noise. Participants will play a',\n \"Is It Dangerous To Talk To A Camera While Driving? vs.  The National Advanced Driving Simulator is used to test drivers' reactions to a controlled, repeatable environment.\",\n 'What Is Sea Level, Anyway? vs.  Calipatria, California',\n 'How Computers Compress Text: Huffman Coding and Huffman Trees vs.  When you put text into a computer, it is saving every individual character as eight bits of data.']"
     },
     "execution_count": 5,
     "metadata": {},
     "output_type": "execute_result"
    }
   ],
   "source": [
    "no_similarity"
   ],
   "metadata": {
    "collapsed": false,
    "pycharm": {
     "name": "#%%\n"
    }
   }
  },
  {
   "cell_type": "code",
   "execution_count": 3,
   "outputs": [
    {
     "data": {
      "text/plain": "[\"The world's most useful model railway vs.  The world's most useful model railway\"]"
     },
     "execution_count": 3,
     "metadata": {},
     "output_type": "execute_result"
    }
   ],
   "source": [
    "perfect_similarity"
   ],
   "metadata": {
    "collapsed": false,
    "pycharm": {
     "name": "#%%\n"
    }
   }
  },
  {
   "cell_type": "code",
   "execution_count": 4,
   "outputs": [
    {
     "data": {
      "text/plain": "['The Difference Between High Explosives and Low Explosives vs.  Explosives',\n \"Why Real Explosions Don't Look Like Movie Explosions vs.  The explosions in the film industry are often faked with special effects, but the real thing is a lot more dangerous.\",\n 'Hill Hill Hill Hill, debunked, debunked vs.  Torpenhow Hill',\n 'Trying To Fail A Drug Test On Purpose vs.  Trace Dominguez is a science communicator who is going to test an old myth and try to fail a drug test on purpose.',\n 'A Million Dollars vs A Billion Dollars, Visualized: A Road Trip vs.  a billion dollars stacked up into the sky',\n 'Why You Can Spot Bad Green Screen vs.  The green screen is a tricky thing to use',\n \"Why You Can't Buy Dasani Water in Britain vs.  Dasani bottled water failed in the UK because it was not bottled water in the UK.\",\n 'Stopping A Laser Beam In Mid-Air vs.  A camera has been developed that can turn lasers into a beam of light.',\n 'Why Electronic Voting Is Still A Bad Idea vs.  The internet has changed the way we vote in elections',\n \"Why The Elevator Shaft Was Invented Before The Elevator vs.  The world's first elevator shaft\",\n \"The Two Generals’ Problem vs.  Two Generals' Problem\",\n \"The World's First Solar Powered Train vs.  The world's first solar powered train has arrived in Australia.\",\n 'An American Stonehenge: The Mysterious Georgia Guidestones vs.  The Georgia Guidestones',\n 'Making an International Standard Cup of Tea vs.  The International Standard Cup of Tea',\n 'A Language Made Of Music vs.  The Universal Musical Language',\n \"This Video Is 2D And 3D Simultaneously: the Pulfrich Effect vs.  The video below shows a 3D effect that looks like you're looking at a 3D version of a 2D video.\"]"
     },
     "execution_count": 4,
     "metadata": {},
     "output_type": "execute_result"
    }
   ],
   "source": [
    "somewhat_similar"
   ],
   "metadata": {
    "collapsed": false,
    "pycharm": {
     "name": "#%%\n"
    }
   }
  }
 ],
 "metadata": {
  "kernelspec": {
   "display_name": "Python 3",
   "language": "python",
   "name": "python3"
  },
  "language_info": {
   "codemirror_mode": {
    "name": "ipython",
    "version": 2
   },
   "file_extension": ".py",
   "mimetype": "text/x-python",
   "name": "python",
   "nbconvert_exporter": "python",
   "pygments_lexer": "ipython2",
   "version": "2.7.6"
  }
 },
 "nbformat": 4,
 "nbformat_minor": 0
}